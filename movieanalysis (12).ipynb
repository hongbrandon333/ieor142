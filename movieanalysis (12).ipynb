{
 "cells": [
  {
   "cell_type": "code",
   "execution_count": 1,
   "id": "29b62ba6-7626-4e91-ad1e-0c644bb2a3fa",
   "metadata": {},
   "outputs": [],
   "source": [
    "import numpy as np \n",
    "import pandas as pd\n",
    "from sklearn import datasets \n",
    "from sklearn.metrics import accuracy_score\n",
    "from sklearn import linear_model as lm \n",
    "import statsmodels.api as sm \n",
    "import statsmodels.formula.api as smf \n",
    "import seaborn as sns\n",
    "from sklearn.tree import DecisionTreeClassifier\n",
    "import matplotlib.pyplot as plt\n",
    "from sklearn.tree import plot_tree\n",
    "from sklearn.tree import DecisionTreeRegressor\n",
    "from sklearn.metrics import make_scorer \n",
    "from sklearn.metrics import mean_absolute_error as MAE\n",
    "from sklearn.metrics import confusion_matrix\n",
    "from sklearn.metrics import precision_score\n",
    "from sklearn.metrics import recall_score \n",
    "from sklearn.model_selection import train_test_split\n",
    "import regex as re\n",
    "from sklearn.svm import SVC\n",
    "from sklearn.preprocessing import StandardScaler, MinMaxScaler\n",
    "from sklearn.feature_extraction import DictVectorizer\n",
    "from sklearn.metrics import accuracy_score\n",
    "from sklearn.metrics import mean_squared_error\n",
    "from sklearn.model_selection import GridSearchCV, ParameterGrid\n",
    "from sklearn.metrics import roc_curve, auc\n",
    "from sklearn import preprocessing\n",
    "from sklearn import metrics\n",
    "from sklearn.ensemble import RandomForestRegressor\n",
    "from sklearn.ensemble import RandomForestClassifier\n",
    "from statsmodels.stats.outliers_influence import variance_inflation_factor"
   ]
  },
  {
   "cell_type": "markdown",
   "id": "daeb2af8-14f0-4bda-a095-bddceecf6bdf",
   "metadata": {},
   "source": [
    "# Data Cleaning"
   ]
  },
  {
   "cell_type": "code",
   "execution_count": 2,
   "id": "8f8a576b-a33a-4d32-82c3-4e7e36204520",
   "metadata": {},
   "outputs": [
    {
     "name": "stderr",
     "output_type": "stream",
     "text": [
      "/tmp/ipykernel_171/1988109775.py:1: DtypeWarning: Columns (10) have mixed types. Specify dtype option on import or set low_memory=False.\n",
      "  movies = pd.read_csv('movies_metadata.csv')\n"
     ]
    }
   ],
   "source": [
    "movies = pd.read_csv('movies_metadata.csv')\n",
    "oscar = pd.read_csv('database.csv')\n",
    "genres = pd.read_csv('MovieGenre.csv', encoding = \"ISO-8859-1\")"
   ]
  },
  {
   "cell_type": "code",
   "execution_count": 62,
   "id": "6770f3a7-910e-45e6-81f2-2730530edd74",
   "metadata": {},
   "outputs": [
    {
     "data": {
      "text/html": [
       "<div>\n",
       "<style scoped>\n",
       "    .dataframe tbody tr th:only-of-type {\n",
       "        vertical-align: middle;\n",
       "    }\n",
       "\n",
       "    .dataframe tbody tr th {\n",
       "        vertical-align: top;\n",
       "    }\n",
       "\n",
       "    .dataframe thead th {\n",
       "        text-align: right;\n",
       "    }\n",
       "</style>\n",
       "<table border=\"1\" class=\"dataframe\">\n",
       "  <thead>\n",
       "    <tr style=\"text-align: right;\">\n",
       "      <th></th>\n",
       "      <th>adult</th>\n",
       "      <th>belongs_to_collection</th>\n",
       "      <th>budget</th>\n",
       "      <th>genres</th>\n",
       "      <th>homepage</th>\n",
       "      <th>id</th>\n",
       "      <th>imdb_id</th>\n",
       "      <th>original_language</th>\n",
       "      <th>original_title</th>\n",
       "      <th>overview</th>\n",
       "      <th>...</th>\n",
       "      <th>release_date</th>\n",
       "      <th>revenue</th>\n",
       "      <th>runtime</th>\n",
       "      <th>spoken_languages</th>\n",
       "      <th>status</th>\n",
       "      <th>tagline</th>\n",
       "      <th>title</th>\n",
       "      <th>video</th>\n",
       "      <th>vote_average</th>\n",
       "      <th>vote_count</th>\n",
       "    </tr>\n",
       "  </thead>\n",
       "  <tbody>\n",
       "    <tr>\n",
       "      <th>0</th>\n",
       "      <td>False</td>\n",
       "      <td>{'id': 10194, 'name': 'Toy Story Collection', ...</td>\n",
       "      <td>30000000</td>\n",
       "      <td>[{'id': 16, 'name': 'Animation'}, {'id': 35, '...</td>\n",
       "      <td>http://toystory.disney.com/toy-story</td>\n",
       "      <td>862</td>\n",
       "      <td>tt0114709</td>\n",
       "      <td>en</td>\n",
       "      <td>Toy Story</td>\n",
       "      <td>Led by Woody, Andy's toys live happily in his ...</td>\n",
       "      <td>...</td>\n",
       "      <td>1995-10-30</td>\n",
       "      <td>373554033.0</td>\n",
       "      <td>81.0</td>\n",
       "      <td>[{'iso_639_1': 'en', 'name': 'English'}]</td>\n",
       "      <td>Released</td>\n",
       "      <td>NaN</td>\n",
       "      <td>Toy Story</td>\n",
       "      <td>False</td>\n",
       "      <td>7.7</td>\n",
       "      <td>5415.0</td>\n",
       "    </tr>\n",
       "    <tr>\n",
       "      <th>1</th>\n",
       "      <td>False</td>\n",
       "      <td>NaN</td>\n",
       "      <td>65000000</td>\n",
       "      <td>[{'id': 12, 'name': 'Adventure'}, {'id': 14, '...</td>\n",
       "      <td>NaN</td>\n",
       "      <td>8844</td>\n",
       "      <td>tt0113497</td>\n",
       "      <td>en</td>\n",
       "      <td>Jumanji</td>\n",
       "      <td>When siblings Judy and Peter discover an encha...</td>\n",
       "      <td>...</td>\n",
       "      <td>1995-12-15</td>\n",
       "      <td>262797249.0</td>\n",
       "      <td>104.0</td>\n",
       "      <td>[{'iso_639_1': 'en', 'name': 'English'}, {'iso...</td>\n",
       "      <td>Released</td>\n",
       "      <td>Roll the dice and unleash the excitement!</td>\n",
       "      <td>Jumanji</td>\n",
       "      <td>False</td>\n",
       "      <td>6.9</td>\n",
       "      <td>2413.0</td>\n",
       "    </tr>\n",
       "    <tr>\n",
       "      <th>2</th>\n",
       "      <td>False</td>\n",
       "      <td>{'id': 119050, 'name': 'Grumpy Old Men Collect...</td>\n",
       "      <td>0</td>\n",
       "      <td>[{'id': 10749, 'name': 'Romance'}, {'id': 35, ...</td>\n",
       "      <td>NaN</td>\n",
       "      <td>15602</td>\n",
       "      <td>tt0113228</td>\n",
       "      <td>en</td>\n",
       "      <td>Grumpier Old Men</td>\n",
       "      <td>A family wedding reignites the ancient feud be...</td>\n",
       "      <td>...</td>\n",
       "      <td>1995-12-22</td>\n",
       "      <td>0.0</td>\n",
       "      <td>101.0</td>\n",
       "      <td>[{'iso_639_1': 'en', 'name': 'English'}]</td>\n",
       "      <td>Released</td>\n",
       "      <td>Still Yelling. Still Fighting. Still Ready for...</td>\n",
       "      <td>Grumpier Old Men</td>\n",
       "      <td>False</td>\n",
       "      <td>6.5</td>\n",
       "      <td>92.0</td>\n",
       "    </tr>\n",
       "    <tr>\n",
       "      <th>3</th>\n",
       "      <td>False</td>\n",
       "      <td>NaN</td>\n",
       "      <td>16000000</td>\n",
       "      <td>[{'id': 35, 'name': 'Comedy'}, {'id': 18, 'nam...</td>\n",
       "      <td>NaN</td>\n",
       "      <td>31357</td>\n",
       "      <td>tt0114885</td>\n",
       "      <td>en</td>\n",
       "      <td>Waiting to Exhale</td>\n",
       "      <td>Cheated on, mistreated and stepped on, the wom...</td>\n",
       "      <td>...</td>\n",
       "      <td>1995-12-22</td>\n",
       "      <td>81452156.0</td>\n",
       "      <td>127.0</td>\n",
       "      <td>[{'iso_639_1': 'en', 'name': 'English'}]</td>\n",
       "      <td>Released</td>\n",
       "      <td>Friends are the people who let you be yourself...</td>\n",
       "      <td>Waiting to Exhale</td>\n",
       "      <td>False</td>\n",
       "      <td>6.1</td>\n",
       "      <td>34.0</td>\n",
       "    </tr>\n",
       "    <tr>\n",
       "      <th>4</th>\n",
       "      <td>False</td>\n",
       "      <td>{'id': 96871, 'name': 'Father of the Bride Col...</td>\n",
       "      <td>0</td>\n",
       "      <td>[{'id': 35, 'name': 'Comedy'}]</td>\n",
       "      <td>NaN</td>\n",
       "      <td>11862</td>\n",
       "      <td>tt0113041</td>\n",
       "      <td>en</td>\n",
       "      <td>Father of the Bride Part II</td>\n",
       "      <td>Just when George Banks has recovered from his ...</td>\n",
       "      <td>...</td>\n",
       "      <td>1995-02-10</td>\n",
       "      <td>76578911.0</td>\n",
       "      <td>106.0</td>\n",
       "      <td>[{'iso_639_1': 'en', 'name': 'English'}]</td>\n",
       "      <td>Released</td>\n",
       "      <td>Just When His World Is Back To Normal... He's ...</td>\n",
       "      <td>Father of the Bride Part II</td>\n",
       "      <td>False</td>\n",
       "      <td>5.7</td>\n",
       "      <td>173.0</td>\n",
       "    </tr>\n",
       "  </tbody>\n",
       "</table>\n",
       "<p>5 rows × 24 columns</p>\n",
       "</div>"
      ],
      "text/plain": [
       "   adult                              belongs_to_collection    budget  \\\n",
       "0  False  {'id': 10194, 'name': 'Toy Story Collection', ...  30000000   \n",
       "1  False                                                NaN  65000000   \n",
       "2  False  {'id': 119050, 'name': 'Grumpy Old Men Collect...         0   \n",
       "3  False                                                NaN  16000000   \n",
       "4  False  {'id': 96871, 'name': 'Father of the Bride Col...         0   \n",
       "\n",
       "                                              genres  \\\n",
       "0  [{'id': 16, 'name': 'Animation'}, {'id': 35, '...   \n",
       "1  [{'id': 12, 'name': 'Adventure'}, {'id': 14, '...   \n",
       "2  [{'id': 10749, 'name': 'Romance'}, {'id': 35, ...   \n",
       "3  [{'id': 35, 'name': 'Comedy'}, {'id': 18, 'nam...   \n",
       "4                     [{'id': 35, 'name': 'Comedy'}]   \n",
       "\n",
       "                               homepage     id    imdb_id original_language  \\\n",
       "0  http://toystory.disney.com/toy-story    862  tt0114709                en   \n",
       "1                                   NaN   8844  tt0113497                en   \n",
       "2                                   NaN  15602  tt0113228                en   \n",
       "3                                   NaN  31357  tt0114885                en   \n",
       "4                                   NaN  11862  tt0113041                en   \n",
       "\n",
       "                original_title  \\\n",
       "0                    Toy Story   \n",
       "1                      Jumanji   \n",
       "2             Grumpier Old Men   \n",
       "3            Waiting to Exhale   \n",
       "4  Father of the Bride Part II   \n",
       "\n",
       "                                            overview  ... release_date  \\\n",
       "0  Led by Woody, Andy's toys live happily in his ...  ...   1995-10-30   \n",
       "1  When siblings Judy and Peter discover an encha...  ...   1995-12-15   \n",
       "2  A family wedding reignites the ancient feud be...  ...   1995-12-22   \n",
       "3  Cheated on, mistreated and stepped on, the wom...  ...   1995-12-22   \n",
       "4  Just when George Banks has recovered from his ...  ...   1995-02-10   \n",
       "\n",
       "       revenue runtime                                   spoken_languages  \\\n",
       "0  373554033.0    81.0           [{'iso_639_1': 'en', 'name': 'English'}]   \n",
       "1  262797249.0   104.0  [{'iso_639_1': 'en', 'name': 'English'}, {'iso...   \n",
       "2          0.0   101.0           [{'iso_639_1': 'en', 'name': 'English'}]   \n",
       "3   81452156.0   127.0           [{'iso_639_1': 'en', 'name': 'English'}]   \n",
       "4   76578911.0   106.0           [{'iso_639_1': 'en', 'name': 'English'}]   \n",
       "\n",
       "     status                                            tagline  \\\n",
       "0  Released                                                NaN   \n",
       "1  Released          Roll the dice and unleash the excitement!   \n",
       "2  Released  Still Yelling. Still Fighting. Still Ready for...   \n",
       "3  Released  Friends are the people who let you be yourself...   \n",
       "4  Released  Just When His World Is Back To Normal... He's ...   \n",
       "\n",
       "                         title  video vote_average vote_count  \n",
       "0                    Toy Story  False          7.7     5415.0  \n",
       "1                      Jumanji  False          6.9     2413.0  \n",
       "2             Grumpier Old Men  False          6.5       92.0  \n",
       "3            Waiting to Exhale  False          6.1       34.0  \n",
       "4  Father of the Bride Part II  False          5.7      173.0  \n",
       "\n",
       "[5 rows x 24 columns]"
      ]
     },
     "metadata": {},
     "output_type": "display_data"
    },
    {
     "data": {
      "text/html": [
       "<div>\n",
       "<style scoped>\n",
       "    .dataframe tbody tr th:only-of-type {\n",
       "        vertical-align: middle;\n",
       "    }\n",
       "\n",
       "    .dataframe tbody tr th {\n",
       "        vertical-align: top;\n",
       "    }\n",
       "\n",
       "    .dataframe thead th {\n",
       "        text-align: right;\n",
       "    }\n",
       "</style>\n",
       "<table border=\"1\" class=\"dataframe\">\n",
       "  <thead>\n",
       "    <tr style=\"text-align: right;\">\n",
       "      <th></th>\n",
       "      <th>Year</th>\n",
       "      <th>Ceremony</th>\n",
       "      <th>Award</th>\n",
       "      <th>Winner</th>\n",
       "      <th>Name</th>\n",
       "      <th>Film</th>\n",
       "    </tr>\n",
       "  </thead>\n",
       "  <tbody>\n",
       "    <tr>\n",
       "      <th>0</th>\n",
       "      <td>1927/1928</td>\n",
       "      <td>1</td>\n",
       "      <td>Actor</td>\n",
       "      <td>NaN</td>\n",
       "      <td>Richard Barthelmess</td>\n",
       "      <td>The Noose</td>\n",
       "    </tr>\n",
       "    <tr>\n",
       "      <th>1</th>\n",
       "      <td>1927/1928</td>\n",
       "      <td>1</td>\n",
       "      <td>Actor</td>\n",
       "      <td>1.0</td>\n",
       "      <td>Emil Jannings</td>\n",
       "      <td>The Last Command</td>\n",
       "    </tr>\n",
       "    <tr>\n",
       "      <th>2</th>\n",
       "      <td>1927/1928</td>\n",
       "      <td>1</td>\n",
       "      <td>Actress</td>\n",
       "      <td>NaN</td>\n",
       "      <td>Louise Dresser</td>\n",
       "      <td>A Ship Comes In</td>\n",
       "    </tr>\n",
       "    <tr>\n",
       "      <th>3</th>\n",
       "      <td>1927/1928</td>\n",
       "      <td>1</td>\n",
       "      <td>Actress</td>\n",
       "      <td>1.0</td>\n",
       "      <td>Janet Gaynor</td>\n",
       "      <td>7th Heaven</td>\n",
       "    </tr>\n",
       "    <tr>\n",
       "      <th>4</th>\n",
       "      <td>1927/1928</td>\n",
       "      <td>1</td>\n",
       "      <td>Actress</td>\n",
       "      <td>NaN</td>\n",
       "      <td>Gloria Swanson</td>\n",
       "      <td>Sadie Thompson</td>\n",
       "    </tr>\n",
       "  </tbody>\n",
       "</table>\n",
       "</div>"
      ],
      "text/plain": [
       "        Year  Ceremony    Award  Winner                 Name              Film\n",
       "0  1927/1928         1    Actor     NaN  Richard Barthelmess         The Noose\n",
       "1  1927/1928         1    Actor     1.0        Emil Jannings  The Last Command\n",
       "2  1927/1928         1  Actress     NaN       Louise Dresser   A Ship Comes In\n",
       "3  1927/1928         1  Actress     1.0         Janet Gaynor        7th Heaven\n",
       "4  1927/1928         1  Actress     NaN       Gloria Swanson    Sadie Thompson"
      ]
     },
     "metadata": {},
     "output_type": "display_data"
    },
    {
     "data": {
      "text/html": [
       "<div>\n",
       "<style scoped>\n",
       "    .dataframe tbody tr th:only-of-type {\n",
       "        vertical-align: middle;\n",
       "    }\n",
       "\n",
       "    .dataframe tbody tr th {\n",
       "        vertical-align: top;\n",
       "    }\n",
       "\n",
       "    .dataframe thead th {\n",
       "        text-align: right;\n",
       "    }\n",
       "</style>\n",
       "<table border=\"1\" class=\"dataframe\">\n",
       "  <thead>\n",
       "    <tr style=\"text-align: right;\">\n",
       "      <th></th>\n",
       "      <th>imdbId</th>\n",
       "      <th>Imdb Link</th>\n",
       "      <th>Title</th>\n",
       "      <th>IMDB Score</th>\n",
       "      <th>Genre</th>\n",
       "      <th>Poster</th>\n",
       "    </tr>\n",
       "  </thead>\n",
       "  <tbody>\n",
       "    <tr>\n",
       "      <th>0</th>\n",
       "      <td>114709</td>\n",
       "      <td>http://www.imdb.com/title/tt114709</td>\n",
       "      <td>Toy Story (1995)</td>\n",
       "      <td>8.3</td>\n",
       "      <td>Animation|Adventure|Comedy</td>\n",
       "      <td>https://images-na.ssl-images-amazon.com/images...</td>\n",
       "    </tr>\n",
       "    <tr>\n",
       "      <th>1</th>\n",
       "      <td>113497</td>\n",
       "      <td>http://www.imdb.com/title/tt113497</td>\n",
       "      <td>Jumanji (1995)</td>\n",
       "      <td>6.9</td>\n",
       "      <td>Action|Adventure|Family</td>\n",
       "      <td>https://images-na.ssl-images-amazon.com/images...</td>\n",
       "    </tr>\n",
       "    <tr>\n",
       "      <th>2</th>\n",
       "      <td>113228</td>\n",
       "      <td>http://www.imdb.com/title/tt113228</td>\n",
       "      <td>Grumpier Old Men (1995)</td>\n",
       "      <td>6.6</td>\n",
       "      <td>Comedy|Romance</td>\n",
       "      <td>https://images-na.ssl-images-amazon.com/images...</td>\n",
       "    </tr>\n",
       "    <tr>\n",
       "      <th>3</th>\n",
       "      <td>114885</td>\n",
       "      <td>http://www.imdb.com/title/tt114885</td>\n",
       "      <td>Waiting to Exhale (1995)</td>\n",
       "      <td>5.7</td>\n",
       "      <td>Comedy|Drama|Romance</td>\n",
       "      <td>https://images-na.ssl-images-amazon.com/images...</td>\n",
       "    </tr>\n",
       "    <tr>\n",
       "      <th>4</th>\n",
       "      <td>113041</td>\n",
       "      <td>http://www.imdb.com/title/tt113041</td>\n",
       "      <td>Father of the Bride Part II (1995)</td>\n",
       "      <td>5.9</td>\n",
       "      <td>Comedy|Family|Romance</td>\n",
       "      <td>https://images-na.ssl-images-amazon.com/images...</td>\n",
       "    </tr>\n",
       "  </tbody>\n",
       "</table>\n",
       "</div>"
      ],
      "text/plain": [
       "   imdbId                           Imdb Link  \\\n",
       "0  114709  http://www.imdb.com/title/tt114709   \n",
       "1  113497  http://www.imdb.com/title/tt113497   \n",
       "2  113228  http://www.imdb.com/title/tt113228   \n",
       "3  114885  http://www.imdb.com/title/tt114885   \n",
       "4  113041  http://www.imdb.com/title/tt113041   \n",
       "\n",
       "                                Title  IMDB Score                       Genre  \\\n",
       "0                    Toy Story (1995)         8.3  Animation|Adventure|Comedy   \n",
       "1                      Jumanji (1995)         6.9     Action|Adventure|Family   \n",
       "2             Grumpier Old Men (1995)         6.6              Comedy|Romance   \n",
       "3            Waiting to Exhale (1995)         5.7        Comedy|Drama|Romance   \n",
       "4  Father of the Bride Part II (1995)         5.9       Comedy|Family|Romance   \n",
       "\n",
       "                                              Poster  \n",
       "0  https://images-na.ssl-images-amazon.com/images...  \n",
       "1  https://images-na.ssl-images-amazon.com/images...  \n",
       "2  https://images-na.ssl-images-amazon.com/images...  \n",
       "3  https://images-na.ssl-images-amazon.com/images...  \n",
       "4  https://images-na.ssl-images-amazon.com/images...  "
      ]
     },
     "metadata": {},
     "output_type": "display_data"
    }
   ],
   "source": [
    "display(movies.head(), oscar.head(), genres.head())"
   ]
  },
  {
   "cell_type": "code",
   "execution_count": 63,
   "id": "07faad44-e181-412e-a22d-b7721387b82c",
   "metadata": {},
   "outputs": [],
   "source": [
    "#renaming the Film column to original_title to merge two of the datasets\n",
    "oscar = oscar.rename(columns = {'Film' : 'original_title'})"
   ]
  },
  {
   "cell_type": "code",
   "execution_count": 64,
   "id": "bc2f62d4-2277-41d1-80b4-8f0b02ae64f6",
   "metadata": {},
   "outputs": [],
   "source": [
    "#if a movie contains a null value in the oscars dataset, they did not win an Oscar. \n",
    "#therefore, winners have a value of 1 and losers have a value of 0.  \n",
    "oscar['Winner'] = [0 if pd.isna(x) else 1 for x in oscar['Winner']]"
   ]
  },
  {
   "cell_type": "code",
   "execution_count": 65,
   "id": "ab628f35-20bb-4249-b0e5-9a03f4138f1c",
   "metadata": {},
   "outputs": [],
   "source": [
    "#merging the movies and oscars dataset on the titles\n",
    "merged = pd.merge(movies, oscar, on = 'original_title', how = 'left')"
   ]
  },
  {
   "cell_type": "code",
   "execution_count": 66,
   "id": "2025eecb-c878-4b11-8792-78384a1b98f8",
   "metadata": {},
   "outputs": [],
   "source": [
    "#if the movie was not nominated, it would show up as a null value in the combined dataset\n",
    "#therefore, those movies are denoted with a 0 for the nominated column\n",
    "merged['Nominated'] = [0 if pd.isna(x) else 1 for x in merged['Winner']]"
   ]
  },
  {
   "cell_type": "code",
   "execution_count": 67,
   "id": "2c3693b4-1716-4155-96b2-e05e452fac13",
   "metadata": {},
   "outputs": [],
   "source": [
    "#filling in all the winner NA values with 0 because they did not win\n",
    "merged['Winner'] = merged['Winner'].fillna(0)"
   ]
  },
  {
   "cell_type": "code",
   "execution_count": 68,
   "id": "e16c2326-f5ab-427c-a8e3-9b9c3c49770d",
   "metadata": {},
   "outputs": [],
   "source": [
    "#renaming the imdbId column to merge another dataset\n",
    "genres = genres.rename(columns = {'imdbId':'imdb_id'})"
   ]
  },
  {
   "cell_type": "code",
   "execution_count": 69,
   "id": "e8afe5fd-ebe0-4cdd-a600-36ff550d1164",
   "metadata": {},
   "outputs": [],
   "source": [
    "#getting rid of any rows that do not have an imdb_id \n",
    "merged = merged[merged['imdb_id'].isnull() != True]"
   ]
  },
  {
   "cell_type": "code",
   "execution_count": 70,
   "id": "2ebc82df-cf24-4e5c-a962-a01a38b9f880",
   "metadata": {},
   "outputs": [],
   "source": [
    "#the merged dataset has letters in front of the id, so we used regex to extract only the numbers\n",
    "merged['imdb_id'] = merged['imdb_id'].str.extract(r'([0-9]+)').astype(int)"
   ]
  },
  {
   "cell_type": "code",
   "execution_count": 71,
   "id": "41531129-e801-4a14-b9e9-5200222c30d1",
   "metadata": {},
   "outputs": [],
   "source": [
    "#merging the previously merged dataset with the genres dataset based on the imdb_id column\n",
    "#we used a left join because we only want the data on movies that are included in the merged dataset\n",
    "combined_movies = pd.merge(merged, genres, on = 'imdb_id', how = 'left')"
   ]
  },
  {
   "cell_type": "code",
   "execution_count": 72,
   "id": "fbf43144-e5b6-4f21-a12b-d12f3de6c67d",
   "metadata": {},
   "outputs": [
    {
     "data": {
      "text/html": [
       "<div>\n",
       "<style scoped>\n",
       "    .dataframe tbody tr th:only-of-type {\n",
       "        vertical-align: middle;\n",
       "    }\n",
       "\n",
       "    .dataframe tbody tr th {\n",
       "        vertical-align: top;\n",
       "    }\n",
       "\n",
       "    .dataframe thead th {\n",
       "        text-align: right;\n",
       "    }\n",
       "</style>\n",
       "<table border=\"1\" class=\"dataframe\">\n",
       "  <thead>\n",
       "    <tr style=\"text-align: right;\">\n",
       "      <th></th>\n",
       "      <th>adult</th>\n",
       "      <th>belongs_to_collection</th>\n",
       "      <th>budget</th>\n",
       "      <th>genres</th>\n",
       "      <th>homepage</th>\n",
       "      <th>id</th>\n",
       "      <th>imdb_id</th>\n",
       "      <th>original_language</th>\n",
       "      <th>original_title</th>\n",
       "      <th>overview</th>\n",
       "      <th>...</th>\n",
       "      <th>Ceremony</th>\n",
       "      <th>Award</th>\n",
       "      <th>Winner</th>\n",
       "      <th>Name</th>\n",
       "      <th>Nominated</th>\n",
       "      <th>Imdb Link</th>\n",
       "      <th>Title</th>\n",
       "      <th>IMDB Score</th>\n",
       "      <th>Genre</th>\n",
       "      <th>Poster</th>\n",
       "    </tr>\n",
       "  </thead>\n",
       "  <tbody>\n",
       "    <tr>\n",
       "      <th>0</th>\n",
       "      <td>False</td>\n",
       "      <td>{'id': 10194, 'name': 'Toy Story Collection', ...</td>\n",
       "      <td>30000000</td>\n",
       "      <td>[{'id': 16, 'name': 'Animation'}, {'id': 35, '...</td>\n",
       "      <td>http://toystory.disney.com/toy-story</td>\n",
       "      <td>862</td>\n",
       "      <td>114709</td>\n",
       "      <td>en</td>\n",
       "      <td>Toy Story</td>\n",
       "      <td>Led by Woody, Andy's toys live happily in his ...</td>\n",
       "      <td>...</td>\n",
       "      <td>68.0</td>\n",
       "      <td>Special Achievement Award</td>\n",
       "      <td>1.0</td>\n",
       "      <td>John Lasseter</td>\n",
       "      <td>1</td>\n",
       "      <td>http://www.imdb.com/title/tt114709</td>\n",
       "      <td>Toy Story (1995)</td>\n",
       "      <td>8.3</td>\n",
       "      <td>Animation|Adventure|Comedy</td>\n",
       "      <td>https://images-na.ssl-images-amazon.com/images...</td>\n",
       "    </tr>\n",
       "    <tr>\n",
       "      <th>1</th>\n",
       "      <td>False</td>\n",
       "      <td>NaN</td>\n",
       "      <td>65000000</td>\n",
       "      <td>[{'id': 12, 'name': 'Adventure'}, {'id': 14, '...</td>\n",
       "      <td>NaN</td>\n",
       "      <td>8844</td>\n",
       "      <td>113497</td>\n",
       "      <td>en</td>\n",
       "      <td>Jumanji</td>\n",
       "      <td>When siblings Judy and Peter discover an encha...</td>\n",
       "      <td>...</td>\n",
       "      <td>NaN</td>\n",
       "      <td>NaN</td>\n",
       "      <td>0.0</td>\n",
       "      <td>NaN</td>\n",
       "      <td>0</td>\n",
       "      <td>http://www.imdb.com/title/tt113497</td>\n",
       "      <td>Jumanji (1995)</td>\n",
       "      <td>6.9</td>\n",
       "      <td>Action|Adventure|Family</td>\n",
       "      <td>https://images-na.ssl-images-amazon.com/images...</td>\n",
       "    </tr>\n",
       "    <tr>\n",
       "      <th>2</th>\n",
       "      <td>False</td>\n",
       "      <td>{'id': 119050, 'name': 'Grumpy Old Men Collect...</td>\n",
       "      <td>0</td>\n",
       "      <td>[{'id': 10749, 'name': 'Romance'}, {'id': 35, ...</td>\n",
       "      <td>NaN</td>\n",
       "      <td>15602</td>\n",
       "      <td>113228</td>\n",
       "      <td>en</td>\n",
       "      <td>Grumpier Old Men</td>\n",
       "      <td>A family wedding reignites the ancient feud be...</td>\n",
       "      <td>...</td>\n",
       "      <td>NaN</td>\n",
       "      <td>NaN</td>\n",
       "      <td>0.0</td>\n",
       "      <td>NaN</td>\n",
       "      <td>0</td>\n",
       "      <td>http://www.imdb.com/title/tt113228</td>\n",
       "      <td>Grumpier Old Men (1995)</td>\n",
       "      <td>6.6</td>\n",
       "      <td>Comedy|Romance</td>\n",
       "      <td>https://images-na.ssl-images-amazon.com/images...</td>\n",
       "    </tr>\n",
       "    <tr>\n",
       "      <th>3</th>\n",
       "      <td>False</td>\n",
       "      <td>NaN</td>\n",
       "      <td>16000000</td>\n",
       "      <td>[{'id': 35, 'name': 'Comedy'}, {'id': 18, 'nam...</td>\n",
       "      <td>NaN</td>\n",
       "      <td>31357</td>\n",
       "      <td>114885</td>\n",
       "      <td>en</td>\n",
       "      <td>Waiting to Exhale</td>\n",
       "      <td>Cheated on, mistreated and stepped on, the wom...</td>\n",
       "      <td>...</td>\n",
       "      <td>NaN</td>\n",
       "      <td>NaN</td>\n",
       "      <td>0.0</td>\n",
       "      <td>NaN</td>\n",
       "      <td>0</td>\n",
       "      <td>http://www.imdb.com/title/tt114885</td>\n",
       "      <td>Waiting to Exhale (1995)</td>\n",
       "      <td>5.7</td>\n",
       "      <td>Comedy|Drama|Romance</td>\n",
       "      <td>https://images-na.ssl-images-amazon.com/images...</td>\n",
       "    </tr>\n",
       "    <tr>\n",
       "      <th>4</th>\n",
       "      <td>False</td>\n",
       "      <td>{'id': 96871, 'name': 'Father of the Bride Col...</td>\n",
       "      <td>0</td>\n",
       "      <td>[{'id': 35, 'name': 'Comedy'}]</td>\n",
       "      <td>NaN</td>\n",
       "      <td>11862</td>\n",
       "      <td>113041</td>\n",
       "      <td>en</td>\n",
       "      <td>Father of the Bride Part II</td>\n",
       "      <td>Just when George Banks has recovered from his ...</td>\n",
       "      <td>...</td>\n",
       "      <td>NaN</td>\n",
       "      <td>NaN</td>\n",
       "      <td>0.0</td>\n",
       "      <td>NaN</td>\n",
       "      <td>0</td>\n",
       "      <td>http://www.imdb.com/title/tt113041</td>\n",
       "      <td>Father of the Bride Part II (1995)</td>\n",
       "      <td>5.9</td>\n",
       "      <td>Comedy|Family|Romance</td>\n",
       "      <td>https://images-na.ssl-images-amazon.com/images...</td>\n",
       "    </tr>\n",
       "  </tbody>\n",
       "</table>\n",
       "<p>5 rows × 35 columns</p>\n",
       "</div>"
      ],
      "text/plain": [
       "   adult                              belongs_to_collection    budget  \\\n",
       "0  False  {'id': 10194, 'name': 'Toy Story Collection', ...  30000000   \n",
       "1  False                                                NaN  65000000   \n",
       "2  False  {'id': 119050, 'name': 'Grumpy Old Men Collect...         0   \n",
       "3  False                                                NaN  16000000   \n",
       "4  False  {'id': 96871, 'name': 'Father of the Bride Col...         0   \n",
       "\n",
       "                                              genres  \\\n",
       "0  [{'id': 16, 'name': 'Animation'}, {'id': 35, '...   \n",
       "1  [{'id': 12, 'name': 'Adventure'}, {'id': 14, '...   \n",
       "2  [{'id': 10749, 'name': 'Romance'}, {'id': 35, ...   \n",
       "3  [{'id': 35, 'name': 'Comedy'}, {'id': 18, 'nam...   \n",
       "4                     [{'id': 35, 'name': 'Comedy'}]   \n",
       "\n",
       "                               homepage     id  imdb_id original_language  \\\n",
       "0  http://toystory.disney.com/toy-story    862   114709                en   \n",
       "1                                   NaN   8844   113497                en   \n",
       "2                                   NaN  15602   113228                en   \n",
       "3                                   NaN  31357   114885                en   \n",
       "4                                   NaN  11862   113041                en   \n",
       "\n",
       "                original_title  \\\n",
       "0                    Toy Story   \n",
       "1                      Jumanji   \n",
       "2             Grumpier Old Men   \n",
       "3            Waiting to Exhale   \n",
       "4  Father of the Bride Part II   \n",
       "\n",
       "                                            overview  ... Ceremony  \\\n",
       "0  Led by Woody, Andy's toys live happily in his ...  ...     68.0   \n",
       "1  When siblings Judy and Peter discover an encha...  ...      NaN   \n",
       "2  A family wedding reignites the ancient feud be...  ...      NaN   \n",
       "3  Cheated on, mistreated and stepped on, the wom...  ...      NaN   \n",
       "4  Just when George Banks has recovered from his ...  ...      NaN   \n",
       "\n",
       "                       Award Winner           Name Nominated  \\\n",
       "0  Special Achievement Award    1.0  John Lasseter         1   \n",
       "1                        NaN    0.0            NaN         0   \n",
       "2                        NaN    0.0            NaN         0   \n",
       "3                        NaN    0.0            NaN         0   \n",
       "4                        NaN    0.0            NaN         0   \n",
       "\n",
       "                            Imdb Link                               Title  \\\n",
       "0  http://www.imdb.com/title/tt114709                    Toy Story (1995)   \n",
       "1  http://www.imdb.com/title/tt113497                      Jumanji (1995)   \n",
       "2  http://www.imdb.com/title/tt113228             Grumpier Old Men (1995)   \n",
       "3  http://www.imdb.com/title/tt114885            Waiting to Exhale (1995)   \n",
       "4  http://www.imdb.com/title/tt113041  Father of the Bride Part II (1995)   \n",
       "\n",
       "  IMDB Score                       Genre  \\\n",
       "0        8.3  Animation|Adventure|Comedy   \n",
       "1        6.9     Action|Adventure|Family   \n",
       "2        6.6              Comedy|Romance   \n",
       "3        5.7        Comedy|Drama|Romance   \n",
       "4        5.9       Comedy|Family|Romance   \n",
       "\n",
       "                                              Poster  \n",
       "0  https://images-na.ssl-images-amazon.com/images...  \n",
       "1  https://images-na.ssl-images-amazon.com/images...  \n",
       "2  https://images-na.ssl-images-amazon.com/images...  \n",
       "3  https://images-na.ssl-images-amazon.com/images...  \n",
       "4  https://images-na.ssl-images-amazon.com/images...  \n",
       "\n",
       "[5 rows x 35 columns]"
      ]
     },
     "execution_count": 72,
     "metadata": {},
     "output_type": "execute_result"
    }
   ],
   "source": [
    "combined_movies.head()"
   ]
  },
  {
   "cell_type": "code",
   "execution_count": 73,
   "id": "800a94ef-abdf-4b9c-b582-0e4da2cb5a08",
   "metadata": {},
   "outputs": [],
   "source": [
    "#removing the rows that have null values for the release_date\n",
    "combined_movies = combined_movies[combined_movies['release_date'].isna() == False]"
   ]
  },
  {
   "cell_type": "code",
   "execution_count": 74,
   "id": "9f46c4c2-3fe8-4f99-b1ce-ab9cd7b1adeb",
   "metadata": {},
   "outputs": [],
   "source": [
    "#using regex, we extracted the release date year for each movie \n",
    "#we also removed any rows without a Year value\n",
    "combined_movies['Year'] = combined_movies['release_date'].str.extract(pat = r'(\\d{4})')\n",
    "combined_movies = combined_movies[combined_movies['Year'].isna() == False]"
   ]
  },
  {
   "cell_type": "code",
   "execution_count": 75,
   "id": "fe218846-c0d2-4d5a-b067-ba67a30cffde",
   "metadata": {},
   "outputs": [],
   "source": [
    "#we changed the Year column from a string type into a int type\n",
    "#afterwards, we removed movies before 1927 and after 2015. \n",
    "#the Oscars did not begin until 1927 and the movies dataset only goes up until 2015. \n",
    "combined_movies['Year'] = combined_movies['Year'].astype(int)\n",
    "combined_movies = combined_movies[combined_movies['Year'] >= 1927]\n",
    "combined_movies = combined_movies[combined_movies['Year'] <= 2015]"
   ]
  },
  {
   "cell_type": "code",
   "execution_count": 76,
   "id": "cdd47e2a-d422-4983-b81b-babe1dc4395f",
   "metadata": {},
   "outputs": [],
   "source": [
    "#if the movie belongs in a series, we gave it a value of 1. \n",
    "#if not, the movie is given a value of 0.\n",
    "combined_movies['belongs_to_collection'] = [0 if pd.isna(x) else 1 for x in combined_movies['belongs_to_collection']]"
   ]
  },
  {
   "cell_type": "code",
   "execution_count": 77,
   "id": "0a372385-a47f-4b82-b712-78f960629342",
   "metadata": {},
   "outputs": [
    {
     "data": {
      "text/plain": [
       "False    43935\n",
       "Name: adult, dtype: int64"
      ]
     },
     "execution_count": 77,
     "metadata": {},
     "output_type": "execute_result"
    }
   ],
   "source": [
    "#checking for null values in the columns that could be potential variables in our models \n",
    "combined_movies['adult'].isnull().value_counts()"
   ]
  },
  {
   "cell_type": "code",
   "execution_count": 78,
   "id": "fef162ec-6c8c-4b39-bbbf-68a0866740bb",
   "metadata": {},
   "outputs": [
    {
     "data": {
      "text/plain": [
       "False    43935\n",
       "Name: budget, dtype: int64"
      ]
     },
     "execution_count": 78,
     "metadata": {},
     "output_type": "execute_result"
    }
   ],
   "source": [
    "combined_movies['budget'].isnull().value_counts()"
   ]
  },
  {
   "cell_type": "code",
   "execution_count": 79,
   "id": "5f227ed8-9234-40f1-a802-0d90750a512f",
   "metadata": {},
   "outputs": [
    {
     "data": {
      "text/plain": [
       "False    43935\n",
       "Name: genres, dtype: int64"
      ]
     },
     "execution_count": 79,
     "metadata": {},
     "output_type": "execute_result"
    }
   ],
   "source": [
    "combined_movies['genres'].isnull().value_counts()"
   ]
  },
  {
   "cell_type": "code",
   "execution_count": 80,
   "id": "88e23ece-a92d-4979-bd25-500df7a62f10",
   "metadata": {},
   "outputs": [
    {
     "data": {
      "text/plain": [
       "False    43928\n",
       "True         7\n",
       "Name: original_language, dtype: int64"
      ]
     },
     "execution_count": 80,
     "metadata": {},
     "output_type": "execute_result"
    }
   ],
   "source": [
    "combined_movies['original_language'].isnull().value_counts()"
   ]
  },
  {
   "cell_type": "code",
   "execution_count": 81,
   "id": "0c5dc26f-c4cd-4163-8211-469d46925533",
   "metadata": {},
   "outputs": [],
   "source": [
    "#there are some null values, so we have to fill them in or remove them\n",
    "#since we have over 40,000 values, we can remove 7 values without it having any impact on our models\n",
    "combined_movies = combined_movies[combined_movies['original_language'].isnull() == False]"
   ]
  },
  {
   "cell_type": "code",
   "execution_count": 82,
   "id": "f9752051-096f-4711-9893-28319c9485b8",
   "metadata": {},
   "outputs": [
    {
     "data": {
      "text/plain": [
       "False    43928\n",
       "Name: original_title, dtype: int64"
      ]
     },
     "execution_count": 82,
     "metadata": {},
     "output_type": "execute_result"
    }
   ],
   "source": [
    "combined_movies['original_title'].isnull().value_counts()"
   ]
  },
  {
   "cell_type": "code",
   "execution_count": 83,
   "id": "a4ab4320-3d83-4a3e-9f27-0fe853c915e0",
   "metadata": {},
   "outputs": [
    {
     "data": {
      "text/plain": [
       "False    43928\n",
       "Name: popularity, dtype: int64"
      ]
     },
     "execution_count": 83,
     "metadata": {},
     "output_type": "execute_result"
    }
   ],
   "source": [
    "combined_movies['popularity'].isnull().value_counts()"
   ]
  },
  {
   "cell_type": "code",
   "execution_count": 84,
   "id": "6d70e18b-3973-4706-bf92-22a769b6dfda",
   "metadata": {},
   "outputs": [
    {
     "data": {
      "text/plain": [
       "False    43928\n",
       "Name: production_companies, dtype: int64"
      ]
     },
     "execution_count": 84,
     "metadata": {},
     "output_type": "execute_result"
    }
   ],
   "source": [
    "combined_movies['production_companies'].isnull().value_counts()"
   ]
  },
  {
   "cell_type": "code",
   "execution_count": 85,
   "id": "a2c00b78-8e09-4419-a7d1-65d974aac9b6",
   "metadata": {},
   "outputs": [
    {
     "data": {
      "text/plain": [
       "False    43928\n",
       "Name: production_countries, dtype: int64"
      ]
     },
     "execution_count": 85,
     "metadata": {},
     "output_type": "execute_result"
    }
   ],
   "source": [
    "combined_movies['production_countries'].isnull().value_counts()"
   ]
  },
  {
   "cell_type": "code",
   "execution_count": 86,
   "id": "70eaf5e6-b886-4507-ad24-e03bab3f5c17",
   "metadata": {},
   "outputs": [
    {
     "data": {
      "text/plain": [
       "False    43928\n",
       "Name: revenue, dtype: int64"
      ]
     },
     "execution_count": 86,
     "metadata": {},
     "output_type": "execute_result"
    }
   ],
   "source": [
    "combined_movies['revenue'].isnull().value_counts()"
   ]
  },
  {
   "cell_type": "code",
   "execution_count": 87,
   "id": "a71f014e-e34b-4687-b62c-a21744156654",
   "metadata": {},
   "outputs": [
    {
     "data": {
      "text/plain": [
       "False    43699\n",
       "True       229\n",
       "Name: runtime, dtype: int64"
      ]
     },
     "execution_count": 87,
     "metadata": {},
     "output_type": "execute_result"
    }
   ],
   "source": [
    "combined_movies['runtime'].isnull().value_counts()"
   ]
  },
  {
   "cell_type": "code",
   "execution_count": 88,
   "id": "d8e44c79-ea67-40f0-8a78-e17cc8f9f7ee",
   "metadata": {},
   "outputs": [],
   "source": [
    "#there are some null values in the runtime column. \n",
    "#however, just like original_language, we can just remove the movies that do not have these values\n",
    "combined_movies = combined_movies[combined_movies['runtime'].isnull() == False]"
   ]
  },
  {
   "cell_type": "code",
   "execution_count": 89,
   "id": "eba629f0-bca6-4f6c-be3c-b2d059da950a",
   "metadata": {},
   "outputs": [
    {
     "data": {
      "text/plain": [
       "False    43624\n",
       "True        75\n",
       "Name: status, dtype: int64"
      ]
     },
     "execution_count": 89,
     "metadata": {},
     "output_type": "execute_result"
    }
   ],
   "source": [
    "combined_movies['status'].isnull().value_counts()"
   ]
  },
  {
   "cell_type": "code",
   "execution_count": 90,
   "id": "942eb1c2-7034-4b53-95c1-1d8d1ee925e2",
   "metadata": {},
   "outputs": [
    {
     "data": {
      "text/html": [
       "<div>\n",
       "<style scoped>\n",
       "    .dataframe tbody tr th:only-of-type {\n",
       "        vertical-align: middle;\n",
       "    }\n",
       "\n",
       "    .dataframe tbody tr th {\n",
       "        vertical-align: top;\n",
       "    }\n",
       "\n",
       "    .dataframe thead th {\n",
       "        text-align: right;\n",
       "    }\n",
       "</style>\n",
       "<table border=\"1\" class=\"dataframe\">\n",
       "  <thead>\n",
       "    <tr style=\"text-align: right;\">\n",
       "      <th></th>\n",
       "      <th>adult</th>\n",
       "      <th>belongs_to_collection</th>\n",
       "      <th>budget</th>\n",
       "      <th>genres</th>\n",
       "      <th>homepage</th>\n",
       "      <th>id</th>\n",
       "      <th>imdb_id</th>\n",
       "      <th>original_language</th>\n",
       "      <th>original_title</th>\n",
       "      <th>overview</th>\n",
       "      <th>...</th>\n",
       "      <th>Ceremony</th>\n",
       "      <th>Award</th>\n",
       "      <th>Winner</th>\n",
       "      <th>Name</th>\n",
       "      <th>Nominated</th>\n",
       "      <th>Imdb Link</th>\n",
       "      <th>Title</th>\n",
       "      <th>IMDB Score</th>\n",
       "      <th>Genre</th>\n",
       "      <th>Poster</th>\n",
       "    </tr>\n",
       "  </thead>\n",
       "  <tbody>\n",
       "    <tr>\n",
       "      <th>199</th>\n",
       "      <td>False</td>\n",
       "      <td>0</td>\n",
       "      <td>0</td>\n",
       "      <td>[{'id': 99, 'name': 'Documentary'}]</td>\n",
       "      <td>NaN</td>\n",
       "      <td>56088</td>\n",
       "      <td>114435</td>\n",
       "      <td>en</td>\n",
       "      <td>The Show</td>\n",
       "      <td>A documentary about the culture of hip-hop. Th...</td>\n",
       "      <td>...</td>\n",
       "      <td>NaN</td>\n",
       "      <td>NaN</td>\n",
       "      <td>0.0</td>\n",
       "      <td>NaN</td>\n",
       "      <td>0</td>\n",
       "      <td>http://www.imdb.com/title/tt114435</td>\n",
       "      <td>The Show (1995)</td>\n",
       "      <td>6.8</td>\n",
       "      <td>Documentary|Music</td>\n",
       "      <td>https://images-na.ssl-images-amazon.com/images...</td>\n",
       "    </tr>\n",
       "    <tr>\n",
       "      <th>793</th>\n",
       "      <td>False</td>\n",
       "      <td>0</td>\n",
       "      <td>0</td>\n",
       "      <td>[{'id': 99, 'name': 'Documentary'}]</td>\n",
       "      <td>http://www.tsquare.tv/film/</td>\n",
       "      <td>52059</td>\n",
       "      <td>113147</td>\n",
       "      <td>en</td>\n",
       "      <td>The Gate of Heavenly Peace</td>\n",
       "      <td>The Gate of Heavenly Peace is a feature-length...</td>\n",
       "      <td>...</td>\n",
       "      <td>NaN</td>\n",
       "      <td>NaN</td>\n",
       "      <td>0.0</td>\n",
       "      <td>NaN</td>\n",
       "      <td>0</td>\n",
       "      <td>http://www.imdb.com/title/tt113147</td>\n",
       "      <td>The Gate of Heavenly Peace</td>\n",
       "      <td>8.8</td>\n",
       "      <td>Documentary</td>\n",
       "      <td>https://images-na.ssl-images-amazon.com/images...</td>\n",
       "    </tr>\n",
       "    <tr>\n",
       "      <th>1496</th>\n",
       "      <td>False</td>\n",
       "      <td>0</td>\n",
       "      <td>0</td>\n",
       "      <td>[{'id': 35, 'name': 'Comedy'}]</td>\n",
       "      <td>NaN</td>\n",
       "      <td>40506</td>\n",
       "      <td>119644</td>\n",
       "      <td>en</td>\n",
       "      <td>Meet Wally Sparks</td>\n",
       "      <td>Wally Sparks is a tabloid TV show reporter who...</td>\n",
       "      <td>...</td>\n",
       "      <td>NaN</td>\n",
       "      <td>NaN</td>\n",
       "      <td>0.0</td>\n",
       "      <td>NaN</td>\n",
       "      <td>0</td>\n",
       "      <td>http://www.imdb.com/title/tt119644</td>\n",
       "      <td>Meet Wally Sparks (1997)</td>\n",
       "      <td>5.2</td>\n",
       "      <td>Comedy</td>\n",
       "      <td>https://images-na.ssl-images-amazon.com/images...</td>\n",
       "    </tr>\n",
       "    <tr>\n",
       "      <th>4440</th>\n",
       "      <td>False</td>\n",
       "      <td>0</td>\n",
       "      <td>0</td>\n",
       "      <td>[{'id': 18, 'name': 'Drama'}, {'id': 53, 'name...</td>\n",
       "      <td>NaN</td>\n",
       "      <td>109472</td>\n",
       "      <td>289175</td>\n",
       "      <td>en</td>\n",
       "      <td>Ek Je Aachhe Kanya</td>\n",
       "      <td>NaN</td>\n",
       "      <td>...</td>\n",
       "      <td>NaN</td>\n",
       "      <td>NaN</td>\n",
       "      <td>0.0</td>\n",
       "      <td>NaN</td>\n",
       "      <td>0</td>\n",
       "      <td>NaN</td>\n",
       "      <td>NaN</td>\n",
       "      <td>NaN</td>\n",
       "      <td>NaN</td>\n",
       "      <td>NaN</td>\n",
       "    </tr>\n",
       "    <tr>\n",
       "      <th>6504</th>\n",
       "      <td>False</td>\n",
       "      <td>0</td>\n",
       "      <td>0</td>\n",
       "      <td>[{'id': 99, 'name': 'Documentary'}, {'id': 18,...</td>\n",
       "      <td>NaN</td>\n",
       "      <td>51927</td>\n",
       "      <td>334416</td>\n",
       "      <td>en</td>\n",
       "      <td>Stevie</td>\n",
       "      <td>In 1995 Director Steve James (Hoop Dreams) ret...</td>\n",
       "      <td>...</td>\n",
       "      <td>NaN</td>\n",
       "      <td>NaN</td>\n",
       "      <td>0.0</td>\n",
       "      <td>NaN</td>\n",
       "      <td>0</td>\n",
       "      <td>http://www.imdb.com/title/tt334416</td>\n",
       "      <td>Stevie (2002)</td>\n",
       "      <td>8.0</td>\n",
       "      <td>Documentary</td>\n",
       "      <td>https://images-na.ssl-images-amazon.com/images...</td>\n",
       "    </tr>\n",
       "  </tbody>\n",
       "</table>\n",
       "<p>5 rows × 35 columns</p>\n",
       "</div>"
      ],
      "text/plain": [
       "      adult  belongs_to_collection budget  \\\n",
       "199   False                      0      0   \n",
       "793   False                      0      0   \n",
       "1496  False                      0      0   \n",
       "4440  False                      0      0   \n",
       "6504  False                      0      0   \n",
       "\n",
       "                                                 genres  \\\n",
       "199                 [{'id': 99, 'name': 'Documentary'}]   \n",
       "793                 [{'id': 99, 'name': 'Documentary'}]   \n",
       "1496                     [{'id': 35, 'name': 'Comedy'}]   \n",
       "4440  [{'id': 18, 'name': 'Drama'}, {'id': 53, 'name...   \n",
       "6504  [{'id': 99, 'name': 'Documentary'}, {'id': 18,...   \n",
       "\n",
       "                         homepage      id  imdb_id original_language  \\\n",
       "199                           NaN   56088   114435                en   \n",
       "793   http://www.tsquare.tv/film/   52059   113147                en   \n",
       "1496                          NaN   40506   119644                en   \n",
       "4440                          NaN  109472   289175                en   \n",
       "6504                          NaN   51927   334416                en   \n",
       "\n",
       "                  original_title  \\\n",
       "199                     The Show   \n",
       "793   The Gate of Heavenly Peace   \n",
       "1496           Meet Wally Sparks   \n",
       "4440          Ek Je Aachhe Kanya   \n",
       "6504                      Stevie   \n",
       "\n",
       "                                               overview  ... Ceremony Award  \\\n",
       "199   A documentary about the culture of hip-hop. Th...  ...      NaN   NaN   \n",
       "793   The Gate of Heavenly Peace is a feature-length...  ...      NaN   NaN   \n",
       "1496  Wally Sparks is a tabloid TV show reporter who...  ...      NaN   NaN   \n",
       "4440                                                NaN  ...      NaN   NaN   \n",
       "6504  In 1995 Director Steve James (Hoop Dreams) ret...  ...      NaN   NaN   \n",
       "\n",
       "     Winner Name Nominated                           Imdb Link  \\\n",
       "199     0.0  NaN         0  http://www.imdb.com/title/tt114435   \n",
       "793     0.0  NaN         0  http://www.imdb.com/title/tt113147   \n",
       "1496    0.0  NaN         0  http://www.imdb.com/title/tt119644   \n",
       "4440    0.0  NaN         0                                 NaN   \n",
       "6504    0.0  NaN         0  http://www.imdb.com/title/tt334416   \n",
       "\n",
       "                           Title IMDB Score              Genre  \\\n",
       "199              The Show (1995)        6.8  Documentary|Music   \n",
       "793   The Gate of Heavenly Peace        8.8        Documentary   \n",
       "1496    Meet Wally Sparks (1997)        5.2             Comedy   \n",
       "4440                         NaN        NaN                NaN   \n",
       "6504               Stevie (2002)        8.0        Documentary   \n",
       "\n",
       "                                                 Poster  \n",
       "199   https://images-na.ssl-images-amazon.com/images...  \n",
       "793   https://images-na.ssl-images-amazon.com/images...  \n",
       "1496  https://images-na.ssl-images-amazon.com/images...  \n",
       "4440                                                NaN  \n",
       "6504  https://images-na.ssl-images-amazon.com/images...  \n",
       "\n",
       "[5 rows x 35 columns]"
      ]
     },
     "execution_count": 90,
     "metadata": {},
     "output_type": "execute_result"
    }
   ],
   "source": [
    "#checking which movies have a null value for the status column\n",
    "combined_movies[combined_movies['status'].isnull()].head()"
   ]
  },
  {
   "cell_type": "code",
   "execution_count": 91,
   "id": "622cb28e-052e-47b2-b63e-b2a942cba13e",
   "metadata": {},
   "outputs": [
    {
     "data": {
      "text/plain": [
       "Released           43333\n",
       "Rumored              224\n",
       "Post Production       53\n",
       "In Production          8\n",
       "Planned                5\n",
       "Canceled               1\n",
       "Name: status, dtype: int64"
      ]
     },
     "execution_count": 91,
     "metadata": {},
     "output_type": "execute_result"
    }
   ],
   "source": [
    "#checking the values within the status column\n",
    "combined_movies['status'].value_counts()"
   ]
  },
  {
   "cell_type": "code",
   "execution_count": 92,
   "id": "71433fb3-8f0a-46a1-a0b4-9a5dc66a2a75",
   "metadata": {},
   "outputs": [],
   "source": [
    "#we removed the movies without a status value\n",
    "combined_movies = combined_movies[combined_movies['status'].isnull() == False]"
   ]
  },
  {
   "cell_type": "code",
   "execution_count": 93,
   "id": "305257e2-84f0-4751-8707-82b8605154c6",
   "metadata": {},
   "outputs": [
    {
     "data": {
      "text/plain": [
       "False    43624\n",
       "Name: vote_average, dtype: int64"
      ]
     },
     "execution_count": 93,
     "metadata": {},
     "output_type": "execute_result"
    }
   ],
   "source": [
    "combined_movies['vote_average'].isnull().value_counts()"
   ]
  },
  {
   "cell_type": "code",
   "execution_count": 94,
   "id": "eee5cb73-0bea-4203-b462-bc1a5bc9b3af",
   "metadata": {},
   "outputs": [
    {
     "data": {
      "text/plain": [
       "False    43624\n",
       "Name: vote_count, dtype: int64"
      ]
     },
     "execution_count": 94,
     "metadata": {},
     "output_type": "execute_result"
    }
   ],
   "source": [
    "combined_movies['vote_count'].isnull().value_counts()"
   ]
  },
  {
   "cell_type": "code",
   "execution_count": 95,
   "id": "543c8a88-e5ef-4c54-acc5-6977d64e7d5b",
   "metadata": {},
   "outputs": [
    {
     "data": {
      "text/plain": [
       "False    43624\n",
       "Name: Winner, dtype: int64"
      ]
     },
     "execution_count": 95,
     "metadata": {},
     "output_type": "execute_result"
    }
   ],
   "source": [
    "combined_movies['Winner'].isnull().value_counts()"
   ]
  },
  {
   "cell_type": "code",
   "execution_count": 96,
   "id": "69818e44-9d6f-41a9-90df-2148bca998c6",
   "metadata": {},
   "outputs": [
    {
     "data": {
      "text/plain": [
       "False    43624\n",
       "Name: Nominated, dtype: int64"
      ]
     },
     "execution_count": 96,
     "metadata": {},
     "output_type": "execute_result"
    }
   ],
   "source": [
    "combined_movies['Nominated'].isnull().value_counts()"
   ]
  },
  {
   "cell_type": "code",
   "execution_count": 97,
   "id": "43076122-3c5b-4f30-a7de-db3c69dde331",
   "metadata": {},
   "outputs": [
    {
     "data": {
      "text/html": [
       "<div>\n",
       "<style scoped>\n",
       "    .dataframe tbody tr th:only-of-type {\n",
       "        vertical-align: middle;\n",
       "    }\n",
       "\n",
       "    .dataframe tbody tr th {\n",
       "        vertical-align: top;\n",
       "    }\n",
       "\n",
       "    .dataframe thead th {\n",
       "        text-align: right;\n",
       "    }\n",
       "</style>\n",
       "<table border=\"1\" class=\"dataframe\">\n",
       "  <thead>\n",
       "    <tr style=\"text-align: right;\">\n",
       "      <th></th>\n",
       "      <th>adult</th>\n",
       "      <th>belongs_to_collection</th>\n",
       "      <th>budget</th>\n",
       "      <th>genres</th>\n",
       "      <th>homepage</th>\n",
       "      <th>id</th>\n",
       "      <th>imdb_id</th>\n",
       "      <th>original_language</th>\n",
       "      <th>original_title</th>\n",
       "      <th>overview</th>\n",
       "      <th>...</th>\n",
       "      <th>Ceremony</th>\n",
       "      <th>Award</th>\n",
       "      <th>Winner</th>\n",
       "      <th>Name</th>\n",
       "      <th>Nominated</th>\n",
       "      <th>Imdb Link</th>\n",
       "      <th>Title</th>\n",
       "      <th>IMDB Score</th>\n",
       "      <th>Genre</th>\n",
       "      <th>Poster</th>\n",
       "    </tr>\n",
       "  </thead>\n",
       "  <tbody>\n",
       "    <tr>\n",
       "      <th>0</th>\n",
       "      <td>False</td>\n",
       "      <td>1</td>\n",
       "      <td>30000000</td>\n",
       "      <td>[{'id': 16, 'name': 'Animation'}, {'id': 35, '...</td>\n",
       "      <td>http://toystory.disney.com/toy-story</td>\n",
       "      <td>862</td>\n",
       "      <td>114709</td>\n",
       "      <td>en</td>\n",
       "      <td>Toy Story</td>\n",
       "      <td>Led by Woody, Andy's toys live happily in his ...</td>\n",
       "      <td>...</td>\n",
       "      <td>68.0</td>\n",
       "      <td>Special Achievement Award</td>\n",
       "      <td>1.0</td>\n",
       "      <td>John Lasseter</td>\n",
       "      <td>1</td>\n",
       "      <td>http://www.imdb.com/title/tt114709</td>\n",
       "      <td>Toy Story (1995)</td>\n",
       "      <td>8.3</td>\n",
       "      <td>Animation|Adventure|Comedy</td>\n",
       "      <td>https://images-na.ssl-images-amazon.com/images...</td>\n",
       "    </tr>\n",
       "    <tr>\n",
       "      <th>1</th>\n",
       "      <td>False</td>\n",
       "      <td>0</td>\n",
       "      <td>65000000</td>\n",
       "      <td>[{'id': 12, 'name': 'Adventure'}, {'id': 14, '...</td>\n",
       "      <td>NaN</td>\n",
       "      <td>8844</td>\n",
       "      <td>113497</td>\n",
       "      <td>en</td>\n",
       "      <td>Jumanji</td>\n",
       "      <td>When siblings Judy and Peter discover an encha...</td>\n",
       "      <td>...</td>\n",
       "      <td>NaN</td>\n",
       "      <td>NaN</td>\n",
       "      <td>0.0</td>\n",
       "      <td>NaN</td>\n",
       "      <td>0</td>\n",
       "      <td>http://www.imdb.com/title/tt113497</td>\n",
       "      <td>Jumanji (1995)</td>\n",
       "      <td>6.9</td>\n",
       "      <td>Action|Adventure|Family</td>\n",
       "      <td>https://images-na.ssl-images-amazon.com/images...</td>\n",
       "    </tr>\n",
       "    <tr>\n",
       "      <th>2</th>\n",
       "      <td>False</td>\n",
       "      <td>1</td>\n",
       "      <td>0</td>\n",
       "      <td>[{'id': 10749, 'name': 'Romance'}, {'id': 35, ...</td>\n",
       "      <td>NaN</td>\n",
       "      <td>15602</td>\n",
       "      <td>113228</td>\n",
       "      <td>en</td>\n",
       "      <td>Grumpier Old Men</td>\n",
       "      <td>A family wedding reignites the ancient feud be...</td>\n",
       "      <td>...</td>\n",
       "      <td>NaN</td>\n",
       "      <td>NaN</td>\n",
       "      <td>0.0</td>\n",
       "      <td>NaN</td>\n",
       "      <td>0</td>\n",
       "      <td>http://www.imdb.com/title/tt113228</td>\n",
       "      <td>Grumpier Old Men (1995)</td>\n",
       "      <td>6.6</td>\n",
       "      <td>Comedy|Romance</td>\n",
       "      <td>https://images-na.ssl-images-amazon.com/images...</td>\n",
       "    </tr>\n",
       "    <tr>\n",
       "      <th>3</th>\n",
       "      <td>False</td>\n",
       "      <td>0</td>\n",
       "      <td>16000000</td>\n",
       "      <td>[{'id': 35, 'name': 'Comedy'}, {'id': 18, 'nam...</td>\n",
       "      <td>NaN</td>\n",
       "      <td>31357</td>\n",
       "      <td>114885</td>\n",
       "      <td>en</td>\n",
       "      <td>Waiting to Exhale</td>\n",
       "      <td>Cheated on, mistreated and stepped on, the wom...</td>\n",
       "      <td>...</td>\n",
       "      <td>NaN</td>\n",
       "      <td>NaN</td>\n",
       "      <td>0.0</td>\n",
       "      <td>NaN</td>\n",
       "      <td>0</td>\n",
       "      <td>http://www.imdb.com/title/tt114885</td>\n",
       "      <td>Waiting to Exhale (1995)</td>\n",
       "      <td>5.7</td>\n",
       "      <td>Comedy|Drama|Romance</td>\n",
       "      <td>https://images-na.ssl-images-amazon.com/images...</td>\n",
       "    </tr>\n",
       "    <tr>\n",
       "      <th>4</th>\n",
       "      <td>False</td>\n",
       "      <td>1</td>\n",
       "      <td>0</td>\n",
       "      <td>[{'id': 35, 'name': 'Comedy'}]</td>\n",
       "      <td>NaN</td>\n",
       "      <td>11862</td>\n",
       "      <td>113041</td>\n",
       "      <td>en</td>\n",
       "      <td>Father of the Bride Part II</td>\n",
       "      <td>Just when George Banks has recovered from his ...</td>\n",
       "      <td>...</td>\n",
       "      <td>NaN</td>\n",
       "      <td>NaN</td>\n",
       "      <td>0.0</td>\n",
       "      <td>NaN</td>\n",
       "      <td>0</td>\n",
       "      <td>http://www.imdb.com/title/tt113041</td>\n",
       "      <td>Father of the Bride Part II (1995)</td>\n",
       "      <td>5.9</td>\n",
       "      <td>Comedy|Family|Romance</td>\n",
       "      <td>https://images-na.ssl-images-amazon.com/images...</td>\n",
       "    </tr>\n",
       "  </tbody>\n",
       "</table>\n",
       "<p>5 rows × 35 columns</p>\n",
       "</div>"
      ],
      "text/plain": [
       "   adult  belongs_to_collection    budget  \\\n",
       "0  False                      1  30000000   \n",
       "1  False                      0  65000000   \n",
       "2  False                      1         0   \n",
       "3  False                      0  16000000   \n",
       "4  False                      1         0   \n",
       "\n",
       "                                              genres  \\\n",
       "0  [{'id': 16, 'name': 'Animation'}, {'id': 35, '...   \n",
       "1  [{'id': 12, 'name': 'Adventure'}, {'id': 14, '...   \n",
       "2  [{'id': 10749, 'name': 'Romance'}, {'id': 35, ...   \n",
       "3  [{'id': 35, 'name': 'Comedy'}, {'id': 18, 'nam...   \n",
       "4                     [{'id': 35, 'name': 'Comedy'}]   \n",
       "\n",
       "                               homepage     id  imdb_id original_language  \\\n",
       "0  http://toystory.disney.com/toy-story    862   114709                en   \n",
       "1                                   NaN   8844   113497                en   \n",
       "2                                   NaN  15602   113228                en   \n",
       "3                                   NaN  31357   114885                en   \n",
       "4                                   NaN  11862   113041                en   \n",
       "\n",
       "                original_title  \\\n",
       "0                    Toy Story   \n",
       "1                      Jumanji   \n",
       "2             Grumpier Old Men   \n",
       "3            Waiting to Exhale   \n",
       "4  Father of the Bride Part II   \n",
       "\n",
       "                                            overview  ... Ceremony  \\\n",
       "0  Led by Woody, Andy's toys live happily in his ...  ...     68.0   \n",
       "1  When siblings Judy and Peter discover an encha...  ...      NaN   \n",
       "2  A family wedding reignites the ancient feud be...  ...      NaN   \n",
       "3  Cheated on, mistreated and stepped on, the wom...  ...      NaN   \n",
       "4  Just when George Banks has recovered from his ...  ...      NaN   \n",
       "\n",
       "                       Award Winner           Name Nominated  \\\n",
       "0  Special Achievement Award    1.0  John Lasseter         1   \n",
       "1                        NaN    0.0            NaN         0   \n",
       "2                        NaN    0.0            NaN         0   \n",
       "3                        NaN    0.0            NaN         0   \n",
       "4                        NaN    0.0            NaN         0   \n",
       "\n",
       "                            Imdb Link                               Title  \\\n",
       "0  http://www.imdb.com/title/tt114709                    Toy Story (1995)   \n",
       "1  http://www.imdb.com/title/tt113497                      Jumanji (1995)   \n",
       "2  http://www.imdb.com/title/tt113228             Grumpier Old Men (1995)   \n",
       "3  http://www.imdb.com/title/tt114885            Waiting to Exhale (1995)   \n",
       "4  http://www.imdb.com/title/tt113041  Father of the Bride Part II (1995)   \n",
       "\n",
       "  IMDB Score                       Genre  \\\n",
       "0        8.3  Animation|Adventure|Comedy   \n",
       "1        6.9     Action|Adventure|Family   \n",
       "2        6.6              Comedy|Romance   \n",
       "3        5.7        Comedy|Drama|Romance   \n",
       "4        5.9       Comedy|Family|Romance   \n",
       "\n",
       "                                              Poster  \n",
       "0  https://images-na.ssl-images-amazon.com/images...  \n",
       "1  https://images-na.ssl-images-amazon.com/images...  \n",
       "2  https://images-na.ssl-images-amazon.com/images...  \n",
       "3  https://images-na.ssl-images-amazon.com/images...  \n",
       "4  https://images-na.ssl-images-amazon.com/images...  \n",
       "\n",
       "[5 rows x 35 columns]"
      ]
     },
     "execution_count": 97,
     "metadata": {},
     "output_type": "execute_result"
    }
   ],
   "source": [
    "combined_movies.head()"
   ]
  },
  {
   "cell_type": "code",
   "execution_count": 98,
   "id": "bd897d37-1010-41d3-88bb-a4ea5e755ab9",
   "metadata": {},
   "outputs": [],
   "source": [
    "#dropping columns that we are not going to use in our models\n",
    "combined_movies = combined_movies.drop(columns = ['homepage', 'spoken_languages', 'production_companies', 'genres', 'id', 'imdb_id', 'overview', 'poster_path', 'release_date', 'Award', 'Ceremony', 'Name', 'tagline', 'production_countries', 'Imdb Link', 'Title', 'Poster', 'title'])\n"
   ]
  },
  {
   "cell_type": "code",
   "execution_count": 99,
   "id": "3bb456bf-921a-4dbc-a724-e53b4328ad9a",
   "metadata": {},
   "outputs": [
    {
     "data": {
      "text/plain": [
       "False    38718\n",
       "True      4906\n",
       "Name: Genre, dtype: int64"
      ]
     },
     "execution_count": 99,
     "metadata": {},
     "output_type": "execute_result"
    }
   ],
   "source": [
    "#checking how many null values there are in the Genre column\n",
    "combined_movies['Genre'].isnull().value_counts()"
   ]
  },
  {
   "cell_type": "code",
   "execution_count": 100,
   "id": "2dcef7c0-1a37-498e-8f98-60ea2ef262f1",
   "metadata": {},
   "outputs": [],
   "source": [
    "#removing the movies without a genre\n",
    "combined_movies = combined_movies[combined_movies['Genre'].isnull() == False]"
   ]
  },
  {
   "cell_type": "code",
   "execution_count": 101,
   "id": "8aaec1d5-63ab-44a6-9c0b-a0bec6e169d7",
   "metadata": {},
   "outputs": [],
   "source": [
    "#using regex, we extracted the main genre from each movie\n",
    "combined_movies['Genre'] = combined_movies['Genre'].str.extract(r'(\\w*)')"
   ]
  },
  {
   "cell_type": "code",
   "execution_count": 102,
   "id": "186552f9-96cf-4d3c-86bc-9a4e987b7783",
   "metadata": {},
   "outputs": [],
   "source": [
    "#there are still too many points, so we decided to use movies without an IMDB Score of above 7\n",
    "#this reduces the dataset to around 12000 movies which is much better than 40000\n",
    "highratedmovies = combined_movies[combined_movies['IMDB Score'] > 7]"
   ]
  },
  {
   "cell_type": "code",
   "execution_count": 103,
   "id": "f32c75ef-ddb7-464c-9f94-3920d0ada141",
   "metadata": {},
   "outputs": [
    {
     "data": {
      "text/html": [
       "<div>\n",
       "<style scoped>\n",
       "    .dataframe tbody tr th:only-of-type {\n",
       "        vertical-align: middle;\n",
       "    }\n",
       "\n",
       "    .dataframe tbody tr th {\n",
       "        vertical-align: top;\n",
       "    }\n",
       "\n",
       "    .dataframe thead th {\n",
       "        text-align: right;\n",
       "    }\n",
       "</style>\n",
       "<table border=\"1\" class=\"dataframe\">\n",
       "  <thead>\n",
       "    <tr style=\"text-align: right;\">\n",
       "      <th></th>\n",
       "      <th>adult</th>\n",
       "      <th>belongs_to_collection</th>\n",
       "      <th>budget</th>\n",
       "      <th>original_language</th>\n",
       "      <th>original_title</th>\n",
       "      <th>popularity</th>\n",
       "      <th>revenue</th>\n",
       "      <th>runtime</th>\n",
       "      <th>status</th>\n",
       "      <th>video</th>\n",
       "      <th>vote_average</th>\n",
       "      <th>vote_count</th>\n",
       "      <th>Year</th>\n",
       "      <th>Winner</th>\n",
       "      <th>Nominated</th>\n",
       "      <th>IMDB Score</th>\n",
       "      <th>Genre</th>\n",
       "    </tr>\n",
       "  </thead>\n",
       "  <tbody>\n",
       "    <tr>\n",
       "      <th>0</th>\n",
       "      <td>False</td>\n",
       "      <td>1</td>\n",
       "      <td>30000000</td>\n",
       "      <td>en</td>\n",
       "      <td>Toy Story</td>\n",
       "      <td>21.946943</td>\n",
       "      <td>373554033.0</td>\n",
       "      <td>81.0</td>\n",
       "      <td>Released</td>\n",
       "      <td>False</td>\n",
       "      <td>7.7</td>\n",
       "      <td>5415.0</td>\n",
       "      <td>1995</td>\n",
       "      <td>1.0</td>\n",
       "      <td>1</td>\n",
       "      <td>8.3</td>\n",
       "      <td>Animation</td>\n",
       "    </tr>\n",
       "    <tr>\n",
       "      <th>5</th>\n",
       "      <td>False</td>\n",
       "      <td>0</td>\n",
       "      <td>60000000</td>\n",
       "      <td>en</td>\n",
       "      <td>Heat</td>\n",
       "      <td>17.924927</td>\n",
       "      <td>187436818.0</td>\n",
       "      <td>170.0</td>\n",
       "      <td>Released</td>\n",
       "      <td>False</td>\n",
       "      <td>7.7</td>\n",
       "      <td>1886.0</td>\n",
       "      <td>1995</td>\n",
       "      <td>0.0</td>\n",
       "      <td>0</td>\n",
       "      <td>8.2</td>\n",
       "      <td>Action</td>\n",
       "    </tr>\n",
       "    <tr>\n",
       "      <th>9</th>\n",
       "      <td>False</td>\n",
       "      <td>1</td>\n",
       "      <td>58000000</td>\n",
       "      <td>en</td>\n",
       "      <td>GoldenEye</td>\n",
       "      <td>14.686036</td>\n",
       "      <td>352194034.0</td>\n",
       "      <td>130.0</td>\n",
       "      <td>Released</td>\n",
       "      <td>False</td>\n",
       "      <td>6.6</td>\n",
       "      <td>1194.0</td>\n",
       "      <td>1995</td>\n",
       "      <td>0.0</td>\n",
       "      <td>0</td>\n",
       "      <td>7.2</td>\n",
       "      <td>Action</td>\n",
       "    </tr>\n",
       "    <tr>\n",
       "      <th>12</th>\n",
       "      <td>False</td>\n",
       "      <td>1</td>\n",
       "      <td>0</td>\n",
       "      <td>en</td>\n",
       "      <td>Balto</td>\n",
       "      <td>12.140733</td>\n",
       "      <td>11348324.0</td>\n",
       "      <td>78.0</td>\n",
       "      <td>Released</td>\n",
       "      <td>False</td>\n",
       "      <td>7.1</td>\n",
       "      <td>423.0</td>\n",
       "      <td>1995</td>\n",
       "      <td>0.0</td>\n",
       "      <td>0</td>\n",
       "      <td>7.1</td>\n",
       "      <td>Animation</td>\n",
       "    </tr>\n",
       "    <tr>\n",
       "      <th>13</th>\n",
       "      <td>False</td>\n",
       "      <td>0</td>\n",
       "      <td>44000000</td>\n",
       "      <td>en</td>\n",
       "      <td>Nixon</td>\n",
       "      <td>5.092</td>\n",
       "      <td>13681765.0</td>\n",
       "      <td>192.0</td>\n",
       "      <td>Released</td>\n",
       "      <td>False</td>\n",
       "      <td>7.1</td>\n",
       "      <td>72.0</td>\n",
       "      <td>1995</td>\n",
       "      <td>0.0</td>\n",
       "      <td>1</td>\n",
       "      <td>7.1</td>\n",
       "      <td>Biography</td>\n",
       "    </tr>\n",
       "  </tbody>\n",
       "</table>\n",
       "</div>"
      ],
      "text/plain": [
       "    adult  belongs_to_collection    budget original_language original_title  \\\n",
       "0   False                      1  30000000                en      Toy Story   \n",
       "5   False                      0  60000000                en           Heat   \n",
       "9   False                      1  58000000                en      GoldenEye   \n",
       "12  False                      1         0                en          Balto   \n",
       "13  False                      0  44000000                en          Nixon   \n",
       "\n",
       "   popularity      revenue  runtime    status  video  vote_average  \\\n",
       "0   21.946943  373554033.0     81.0  Released  False           7.7   \n",
       "5   17.924927  187436818.0    170.0  Released  False           7.7   \n",
       "9   14.686036  352194034.0    130.0  Released  False           6.6   \n",
       "12  12.140733   11348324.0     78.0  Released  False           7.1   \n",
       "13      5.092   13681765.0    192.0  Released  False           7.1   \n",
       "\n",
       "    vote_count  Year  Winner  Nominated  IMDB Score      Genre  \n",
       "0       5415.0  1995     1.0          1         8.3  Animation  \n",
       "5       1886.0  1995     0.0          0         8.2     Action  \n",
       "9       1194.0  1995     0.0          0         7.2     Action  \n",
       "12       423.0  1995     0.0          0         7.1  Animation  \n",
       "13        72.0  1995     0.0          1         7.1  Biography  "
      ]
     },
     "execution_count": 103,
     "metadata": {},
     "output_type": "execute_result"
    }
   ],
   "source": [
    "highratedmovies.head()"
   ]
  },
  {
   "cell_type": "code",
   "execution_count": 104,
   "id": "792f6827-aff6-42f7-9ef8-fe792c562d82",
   "metadata": {},
   "outputs": [],
   "source": [
    "#removing more columns that will not be included in the model\n",
    "#these columns have too many unique values that cannot be used as a dummy variabe\n",
    "highratedmovies = highratedmovies.drop(columns = ['adult', 'original_language', 'original_title'])"
   ]
  },
  {
   "cell_type": "code",
   "execution_count": 105,
   "id": "ae031f2f-cf37-45ae-9784-36f77f14b42c",
   "metadata": {},
   "outputs": [],
   "source": [
    "#using dummy variables on the genre and status\n",
    "movies_dummy = pd.get_dummies(highratedmovies, prefix=['status', 'Genre'], columns=['status', 'Genre'])"
   ]
  },
  {
   "cell_type": "code",
   "execution_count": 106,
   "id": "6aed7295-272e-4ae6-b25d-bbb4b64cae86",
   "metadata": {},
   "outputs": [],
   "source": [
    "#changing column into an int type\n",
    "movies_dummy['video'] = movies_dummy['video'].astype(int)"
   ]
  },
  {
   "cell_type": "code",
   "execution_count": 107,
   "id": "b9de3ead-2b99-44f1-ae26-63c44be17fef",
   "metadata": {},
   "outputs": [],
   "source": [
    "#changing column into a float type\n",
    "movies_dummy['popularity'] = movies_dummy['popularity'].astype(float)"
   ]
  },
  {
   "cell_type": "code",
   "execution_count": 108,
   "id": "b7dad84e-701c-457e-b4c1-1d0df4679e37",
   "metadata": {},
   "outputs": [],
   "source": [
    "#changing column into an int type\n",
    "movies_dummy['budget'] = movies_dummy['budget'].astype(int)"
   ]
  },
  {
   "cell_type": "code",
   "execution_count": 109,
   "id": "ee3d7155-9b3d-4772-aeab-66d6a52d295a",
   "metadata": {},
   "outputs": [],
   "source": [
    "movies_dummy = movies_dummy.rename(columns = {'IMDB Score' : 'IMDB_Score'})"
   ]
  },
  {
   "cell_type": "code",
   "execution_count": 110,
   "id": "0e9dde1e-8bcf-45d5-814b-d183945d7413",
   "metadata": {},
   "outputs": [],
   "source": [
    "#splitting the dataset into a training and testing set\n",
    "train = movies_dummy[movies_dummy['Year'] <= 2000].drop_duplicates()\n",
    "test = movies_dummy[movies_dummy['Year'] > 2000].drop_duplicates()"
   ]
  },
  {
   "cell_type": "code",
   "execution_count": 111,
   "id": "75313d10-20b1-4264-a477-eb229a57e45c",
   "metadata": {},
   "outputs": [],
   "source": [
    "#regression -- predict revenue\n",
    "r_ytr = train[\"revenue\"]\n",
    "r_xtr = train.drop(columns = [\"revenue\"])\n",
    "r_yte = test[\"revenue\"]\n",
    "r_xte = test.drop(columns = [\"revenue\"])\n",
    "\n",
    "#classification -- predict whether or not the movie will be nominated for an Oscar\n",
    "c_ytr = train[\"Nominated\"]\n",
    "c_xtr = train.drop(columns = [\"Nominated\"])\n",
    "c_yte = test[\"Nominated\"]\n",
    "c_xte = test.drop(columns = [\"Nominated\"])"
   ]
  },
  {
   "cell_type": "markdown",
   "id": "0b82b2f5-1a1d-4402-8d0e-f2fb78a93fca",
   "metadata": {},
   "source": [
    "# Baseline Model"
   ]
  },
  {
   "cell_type": "code",
   "execution_count": 112,
   "id": "3a78653c-48d6-41b4-a2ee-33b47a804b77",
   "metadata": {},
   "outputs": [
    {
     "data": {
      "text/plain": [
       "0    6052\n",
       "1     806\n",
       "Name: Nominated, dtype: int64"
      ]
     },
     "execution_count": 112,
     "metadata": {},
     "output_type": "execute_result"
    }
   ],
   "source": [
    "train['Nominated'].value_counts()"
   ]
  },
  {
   "cell_type": "code",
   "execution_count": 113,
   "id": "19e19dc5-12f6-415a-82ae-4c5233224602",
   "metadata": {},
   "outputs": [
    {
     "data": {
      "text/plain": [
       "0.9592147894034686"
      ]
     },
     "execution_count": 113,
     "metadata": {},
     "output_type": "execute_result"
    }
   ],
   "source": [
    "#predict that all movies do not get nominated for an oscar\n",
    "y_test = np.repeat(0, test.shape[0])\n",
    "accuracy_score(y_test, test['Nominated'])"
   ]
  },
  {
   "cell_type": "markdown",
   "id": "60f48720-5e01-4efd-965b-32a98ed19cbc",
   "metadata": {},
   "source": [
    "# Linear Regression"
   ]
  },
  {
   "cell_type": "code",
   "execution_count": 114,
   "id": "a691ff81-8fed-4815-8d00-db981966a666",
   "metadata": {},
   "outputs": [],
   "source": [
    "def VIF(df, col):\n",
    "    vals = sm.add_constant(df[col]).values\n",
    "    num_col = len(col) + 1\n",
    "    vif = [variance_inflation_factor(vals, i) for i in range(num_col)]\n",
    "    return pd.Series(vif[1:], index = col)"
   ]
  },
  {
   "cell_type": "code",
   "execution_count": 115,
   "id": "e0f13aaa-2fa0-497b-b9a7-02566a28c017",
   "metadata": {},
   "outputs": [
    {
     "name": "stdout",
     "output_type": "stream",
     "text": [
      "                            OLS Regression Results                            \n",
      "==============================================================================\n",
      "Dep. Variable:                revenue   R-squared:                       0.660\n",
      "Model:                            OLS   Adj. R-squared:                  0.659\n",
      "Method:                 Least Squares   F-statistic:                     737.4\n",
      "Date:                Thu, 15 Dec 2022   Prob (F-statistic):               0.00\n",
      "Time:                        05:48:39   Log-Likelihood:            -1.2836e+05\n",
      "No. Observations:                6858   AIC:                         2.568e+05\n",
      "Df Residuals:                    6839   BIC:                         2.569e+05\n",
      "Df Model:                          18                                         \n",
      "Covariance Type:            nonrobust                                         \n",
      "=========================================================================================\n",
      "                            coef    std err          t      P>|t|      [0.025      0.975]\n",
      "-----------------------------------------------------------------------------------------\n",
      "Intercept              8.715e+07   4.22e+07      2.067      0.039    4.51e+06     1.7e+08\n",
      "IMDB_Score            -6.255e+06   1.14e+06     -5.491      0.000   -8.49e+06   -4.02e+06\n",
      "belongs_to_collection  8.227e+06   1.41e+06      5.815      0.000    5.45e+06     1.1e+07\n",
      "budget                    2.1178      0.051     41.663      0.000       2.018       2.217\n",
      "popularity            -1.419e+06   1.23e+05    -11.556      0.000   -1.66e+06   -1.18e+06\n",
      "runtime                1.082e+04   8559.724      1.264      0.206   -5964.219    2.76e+04\n",
      "video                  4056.2509   9.14e+06      0.000      1.000   -1.79e+07    1.79e+07\n",
      "vote_average           6.636e+04    2.5e+05      0.265      0.791   -4.24e+05    5.56e+05\n",
      "vote_count             6.359e+04   1144.915     55.540      0.000    6.13e+04    6.58e+04\n",
      "Year                  -2.211e+04   2.07e+04     -1.070      0.284   -6.26e+04    1.84e+04\n",
      "status_Released        2.649e+05   5.38e+06      0.049      0.961   -1.03e+07    1.08e+07\n",
      "Genre_Drama            1.573e+06   1.22e+06      1.287      0.198   -8.22e+05    3.97e+06\n",
      "Genre_Documentary      3.706e+06   1.77e+06      2.092      0.036    2.34e+05    7.18e+06\n",
      "Genre_Comedy            2.94e+06   1.32e+06      2.231      0.026    3.56e+05    5.52e+06\n",
      "Genre_Crime           -4.596e+06   1.69e+06     -2.722      0.006    -7.9e+06   -1.29e+06\n",
      "Genre_Action           4.569e+06   1.88e+06      2.429      0.015    8.82e+05    8.26e+06\n",
      "Genre_Animation        3.832e+06   2.05e+06      1.871      0.061   -1.83e+05    7.85e+06\n",
      "Nominated              1.076e+07    1.5e+06      7.151      0.000    7.81e+06    1.37e+07\n",
      "Winner                 5.465e+06   2.52e+06      2.171      0.030    5.31e+05    1.04e+07\n",
      "==============================================================================\n",
      "Omnibus:                     8653.315   Durbin-Watson:                   1.778\n",
      "Prob(Omnibus):                  0.000   Jarque-Bera (JB):          9637740.064\n",
      "Skew:                           6.144   Prob(JB):                         0.00\n",
      "Kurtosis:                     186.240   Cond. No.                     1.06e+09\n",
      "==============================================================================\n",
      "\n",
      "Notes:\n",
      "[1] Standard Errors assume that the covariance matrix of the errors is correctly specified.\n",
      "[2] The condition number is large, 1.06e+09. This might indicate that there are\n",
      "strong multicollinearity or other numerical problems.\n"
     ]
    }
   ],
   "source": [
    "linreg1 = smf.ols(formula = 'revenue ~ IMDB_Score + belongs_to_collection + budget + popularity+ runtime + video + vote_average + vote_count + Year + status_Released + Genre_Drama + Genre_Documentary + Genre_Comedy + Genre_Crime + Genre_Action + Genre_Animation + Nominated + Winner', data = train).fit()\n",
    "print(linreg1.summary())"
   ]
  },
  {
   "cell_type": "code",
   "execution_count": 116,
   "id": "c7c5b769-58f2-4b30-8321-12f24a2e9ca8",
   "metadata": {},
   "outputs": [
    {
     "name": "stdout",
     "output_type": "stream",
     "text": [
      "                            OLS Regression Results                            \n",
      "==============================================================================\n",
      "Dep. Variable:                revenue   R-squared:                       0.660\n",
      "Model:                            OLS   Adj. R-squared:                  0.659\n",
      "Method:                 Least Squares   F-statistic:                     780.9\n",
      "Date:                Thu, 15 Dec 2022   Prob (F-statistic):               0.00\n",
      "Time:                        05:48:39   Log-Likelihood:            -1.2836e+05\n",
      "No. Observations:                6858   AIC:                         2.568e+05\n",
      "Df Residuals:                    6840   BIC:                         2.569e+05\n",
      "Df Model:                          17                                         \n",
      "Covariance Type:            nonrobust                                         \n",
      "=========================================================================================\n",
      "                            coef    std err          t      P>|t|      [0.025      0.975]\n",
      "-----------------------------------------------------------------------------------------\n",
      "Intercept              8.715e+07   4.21e+07      2.070      0.039    4.61e+06     1.7e+08\n",
      "IMDB_Score            -6.255e+06   1.14e+06     -5.493      0.000   -8.49e+06   -4.02e+06\n",
      "belongs_to_collection  8.227e+06   1.41e+06      5.818      0.000    5.45e+06     1.1e+07\n",
      "budget                    2.1178      0.051     41.668      0.000       2.018       2.217\n",
      "popularity            -1.419e+06   1.23e+05    -11.557      0.000   -1.66e+06   -1.18e+06\n",
      "runtime                1.082e+04   8556.067      1.264      0.206   -5957.151    2.76e+04\n",
      "vote_average           6.635e+04   2.49e+05      0.266      0.790   -4.22e+05    5.55e+05\n",
      "vote_count             6.359e+04   1144.830     55.544      0.000    6.13e+04    6.58e+04\n",
      "Year                  -2.211e+04   2.06e+04     -1.072      0.284   -6.26e+04    1.83e+04\n",
      "status_Released        2.649e+05   5.38e+06      0.049      0.961   -1.03e+07    1.08e+07\n",
      "Genre_Drama            1.572e+06   1.22e+06      1.288      0.198   -8.21e+05    3.97e+06\n",
      "Genre_Documentary      3.706e+06   1.77e+06      2.092      0.036    2.34e+05    7.18e+06\n",
      "Genre_Comedy            2.94e+06   1.32e+06      2.231      0.026    3.57e+05    5.52e+06\n",
      "Genre_Crime           -4.596e+06   1.69e+06     -2.723      0.006    -7.9e+06   -1.29e+06\n",
      "Genre_Action           4.569e+06   1.88e+06      2.430      0.015    8.83e+05    8.26e+06\n",
      "Genre_Animation        3.832e+06   2.04e+06      1.877      0.060   -1.69e+05    7.83e+06\n",
      "Nominated              1.076e+07    1.5e+06      7.152      0.000    7.81e+06    1.37e+07\n",
      "Winner                 5.465e+06   2.52e+06      2.171      0.030    5.31e+05    1.04e+07\n",
      "==============================================================================\n",
      "Omnibus:                     8653.316   Durbin-Watson:                   1.778\n",
      "Prob(Omnibus):                  0.000   Jarque-Bera (JB):          9637741.572\n",
      "Skew:                           6.144   Prob(JB):                         0.00\n",
      "Kurtosis:                     186.240   Cond. No.                     1.06e+09\n",
      "==============================================================================\n",
      "\n",
      "Notes:\n",
      "[1] Standard Errors assume that the covariance matrix of the errors is correctly specified.\n",
      "[2] The condition number is large, 1.06e+09. This might indicate that there are\n",
      "strong multicollinearity or other numerical problems.\n"
     ]
    }
   ],
   "source": [
    "#remove video (p-value: 1.000)\n",
    "linreg2 = smf.ols(formula = 'revenue ~ IMDB_Score + belongs_to_collection + budget + popularity+ runtime + vote_average + vote_count + Year + status_Released + Genre_Drama + Genre_Documentary + Genre_Comedy + Genre_Crime + Genre_Action + Genre_Animation + Nominated + Winner', data = train).fit()\n",
    "print(linreg2.summary())"
   ]
  },
  {
   "cell_type": "code",
   "execution_count": 117,
   "id": "5673ddf2-2e6e-49ed-b029-9542d0caf195",
   "metadata": {},
   "outputs": [
    {
     "name": "stdout",
     "output_type": "stream",
     "text": [
      "                            OLS Regression Results                            \n",
      "==============================================================================\n",
      "Dep. Variable:                revenue   R-squared:                       0.660\n",
      "Model:                            OLS   Adj. R-squared:                  0.659\n",
      "Method:                 Least Squares   F-statistic:                     829.8\n",
      "Date:                Thu, 15 Dec 2022   Prob (F-statistic):               0.00\n",
      "Time:                        05:48:39   Log-Likelihood:            -1.2836e+05\n",
      "No. Observations:                6858   AIC:                         2.567e+05\n",
      "Df Residuals:                    6841   BIC:                         2.569e+05\n",
      "Df Model:                          16                                         \n",
      "Covariance Type:            nonrobust                                         \n",
      "=========================================================================================\n",
      "                            coef    std err          t      P>|t|      [0.025      0.975]\n",
      "-----------------------------------------------------------------------------------------\n",
      "Intercept              8.744e+07   4.17e+07      2.097      0.036    5.72e+06    1.69e+08\n",
      "IMDB_Score            -6.255e+06   1.14e+06     -5.494      0.000   -8.49e+06   -4.02e+06\n",
      "belongs_to_collection  8.227e+06   1.41e+06      5.819      0.000    5.46e+06     1.1e+07\n",
      "budget                    2.1178      0.051     41.671      0.000       2.018       2.217\n",
      "popularity            -1.419e+06   1.23e+05    -11.563      0.000   -1.66e+06   -1.18e+06\n",
      "runtime                1.083e+04   8553.168      1.266      0.206   -5941.752    2.76e+04\n",
      "vote_average            6.62e+04   2.49e+05      0.266      0.790   -4.22e+05    5.55e+05\n",
      "vote_count             6.359e+04   1144.604     55.554      0.000    6.13e+04    6.58e+04\n",
      "Year                  -2.213e+04   2.06e+04     -1.073      0.283   -6.26e+04    1.83e+04\n",
      "Genre_Drama            1.573e+06   1.22e+06      1.288      0.198   -8.21e+05    3.97e+06\n",
      "Genre_Documentary      3.706e+06   1.77e+06      2.092      0.036    2.34e+05    7.18e+06\n",
      "Genre_Comedy           2.942e+06   1.32e+06      2.233      0.026    3.59e+05    5.52e+06\n",
      "Genre_Crime           -4.595e+06   1.69e+06     -2.722      0.006    -7.9e+06   -1.29e+06\n",
      "Genre_Action            4.57e+06   1.88e+06      2.431      0.015    8.85e+05    8.26e+06\n",
      "Genre_Animation        3.833e+06   2.04e+06      1.879      0.060   -1.66e+05    7.83e+06\n",
      "Nominated              1.076e+07    1.5e+06      7.153      0.000    7.81e+06    1.37e+07\n",
      "Winner                 5.466e+06   2.52e+06      2.172      0.030    5.32e+05    1.04e+07\n",
      "==============================================================================\n",
      "Omnibus:                     8653.329   Durbin-Watson:                   1.778\n",
      "Prob(Omnibus):                  0.000   Jarque-Bera (JB):          9637844.120\n",
      "Skew:                           6.144   Prob(JB):                         0.00\n",
      "Kurtosis:                     186.241   Cond. No.                     1.05e+09\n",
      "==============================================================================\n",
      "\n",
      "Notes:\n",
      "[1] Standard Errors assume that the covariance matrix of the errors is correctly specified.\n",
      "[2] The condition number is large, 1.05e+09. This might indicate that there are\n",
      "strong multicollinearity or other numerical problems.\n"
     ]
    }
   ],
   "source": [
    "#remove status_released (p-value: .961)\n",
    "linreg3 = smf.ols(formula = 'revenue ~ IMDB_Score + belongs_to_collection + budget + popularity+ runtime + vote_average + vote_count + Year + Genre_Drama + Genre_Documentary + Genre_Comedy + Genre_Crime + Genre_Action + Genre_Animation + Nominated + Winner', data = train).fit()\n",
    "print(linreg3.summary())"
   ]
  },
  {
   "cell_type": "code",
   "execution_count": 118,
   "id": "1563fd16-25dc-41db-b94d-638c4c318eda",
   "metadata": {},
   "outputs": [
    {
     "name": "stdout",
     "output_type": "stream",
     "text": [
      "                            OLS Regression Results                            \n",
      "==============================================================================\n",
      "Dep. Variable:                revenue   R-squared:                       0.660\n",
      "Model:                            OLS   Adj. R-squared:                  0.659\n",
      "Method:                 Least Squares   F-statistic:                     885.3\n",
      "Date:                Thu, 15 Dec 2022   Prob (F-statistic):               0.00\n",
      "Time:                        05:48:39   Log-Likelihood:            -1.2836e+05\n",
      "No. Observations:                6858   AIC:                         2.567e+05\n",
      "Df Residuals:                    6842   BIC:                         2.569e+05\n",
      "Df Model:                          15                                         \n",
      "Covariance Type:            nonrobust                                         \n",
      "=========================================================================================\n",
      "                            coef    std err          t      P>|t|      [0.025      0.975]\n",
      "-----------------------------------------------------------------------------------------\n",
      "Intercept              8.727e+07   4.17e+07      2.094      0.036    5.57e+06    1.69e+08\n",
      "IMDB_Score            -6.198e+06   1.12e+06     -5.544      0.000   -8.39e+06   -4.01e+06\n",
      "belongs_to_collection  8.235e+06   1.41e+06      5.826      0.000    5.46e+06     1.1e+07\n",
      "budget                    2.1179      0.051     41.678      0.000       2.018       2.218\n",
      "popularity            -1.414e+06   1.21e+05    -11.692      0.000   -1.65e+06   -1.18e+06\n",
      "runtime                1.093e+04   8543.907      1.279      0.201   -5821.240    2.77e+04\n",
      "vote_count             6.356e+04   1141.262     55.697      0.000    6.13e+04    6.58e+04\n",
      "Year                  -2.206e+04   2.06e+04     -1.069      0.285   -6.25e+04    1.84e+04\n",
      "Genre_Drama            1.569e+06   1.22e+06      1.285      0.199   -8.24e+05    3.96e+06\n",
      "Genre_Documentary      3.661e+06   1.76e+06      2.077      0.038    2.05e+05    7.12e+06\n",
      "Genre_Comedy           2.946e+06   1.32e+06      2.236      0.025    3.63e+05    5.53e+06\n",
      "Genre_Crime           -4.588e+06   1.69e+06     -2.719      0.007    -7.9e+06   -1.28e+06\n",
      "Genre_Action           4.583e+06   1.88e+06      2.438      0.015    8.98e+05    8.27e+06\n",
      "Genre_Animation        3.842e+06   2.04e+06      1.883      0.060   -1.57e+05    7.84e+06\n",
      "Nominated              1.077e+07    1.5e+06      7.159      0.000    7.82e+06    1.37e+07\n",
      "Winner                 5.464e+06   2.52e+06      2.171      0.030     5.3e+05    1.04e+07\n",
      "==============================================================================\n",
      "Omnibus:                     8653.729   Durbin-Watson:                   1.778\n",
      "Prob(Omnibus):                  0.000   Jarque-Bera (JB):          9642147.024\n",
      "Skew:                           6.145   Prob(JB):                         0.00\n",
      "Kurtosis:                     186.282   Cond. No.                     1.05e+09\n",
      "==============================================================================\n",
      "\n",
      "Notes:\n",
      "[1] Standard Errors assume that the covariance matrix of the errors is correctly specified.\n",
      "[2] The condition number is large, 1.05e+09. This might indicate that there are\n",
      "strong multicollinearity or other numerical problems.\n"
     ]
    }
   ],
   "source": [
    "#remove vote_average (p-value: .790)\n",
    "linreg4 = smf.ols(formula = 'revenue ~ IMDB_Score + belongs_to_collection + budget + popularity+ runtime + vote_count + Year + Genre_Drama + Genre_Documentary + Genre_Comedy + Genre_Crime + Genre_Action + Genre_Animation + Nominated + Winner', data = train).fit()\n",
    "print(linreg4.summary())"
   ]
  },
  {
   "cell_type": "code",
   "execution_count": 119,
   "id": "fcc469be-d332-486b-b83f-88fd2b158e46",
   "metadata": {},
   "outputs": [
    {
     "name": "stdout",
     "output_type": "stream",
     "text": [
      "                            OLS Regression Results                            \n",
      "==============================================================================\n",
      "Dep. Variable:                revenue   R-squared:                       0.660\n",
      "Model:                            OLS   Adj. R-squared:                  0.659\n",
      "Method:                 Least Squares   F-statistic:                     948.4\n",
      "Date:                Thu, 15 Dec 2022   Prob (F-statistic):               0.00\n",
      "Time:                        05:48:40   Log-Likelihood:            -1.2836e+05\n",
      "No. Observations:                6858   AIC:                         2.567e+05\n",
      "Df Residuals:                    6843   BIC:                         2.568e+05\n",
      "Df Model:                          14                                         \n",
      "Covariance Type:            nonrobust                                         \n",
      "=========================================================================================\n",
      "                            coef    std err          t      P>|t|      [0.025      0.975]\n",
      "-----------------------------------------------------------------------------------------\n",
      "Intercept              4.358e+07   8.25e+06      5.284      0.000    2.74e+07    5.98e+07\n",
      "IMDB_Score            -6.142e+06   1.12e+06     -5.500      0.000   -8.33e+06   -3.95e+06\n",
      "belongs_to_collection  8.239e+06   1.41e+06      5.829      0.000    5.47e+06     1.1e+07\n",
      "budget                    2.1106      0.050     41.918      0.000       2.012       2.209\n",
      "popularity            -1.421e+06   1.21e+05    -11.773      0.000   -1.66e+06   -1.18e+06\n",
      "runtime                9611.1441   8454.857      1.137      0.256   -6963.002    2.62e+04\n",
      "vote_count             6.354e+04   1141.015     55.686      0.000    6.13e+04    6.58e+04\n",
      "Genre_Drama             1.54e+06   1.22e+06      1.262      0.207   -8.53e+05    3.93e+06\n",
      "Genre_Documentary      3.305e+06   1.73e+06      1.909      0.056   -8.91e+04     6.7e+06\n",
      "Genre_Comedy           2.929e+06   1.32e+06      2.224      0.026    3.47e+05    5.51e+06\n",
      "Genre_Crime           -4.555e+06   1.69e+06     -2.700      0.007   -7.86e+06   -1.25e+06\n",
      "Genre_Action           4.522e+06   1.88e+06      2.407      0.016     8.4e+05     8.2e+06\n",
      "Genre_Animation        3.575e+06   2.02e+06      1.766      0.078   -3.94e+05    7.54e+06\n",
      "Nominated              1.095e+07   1.49e+06      7.327      0.000    8.02e+06    1.39e+07\n",
      "Winner                 5.513e+06   2.52e+06      2.191      0.028     5.8e+05    1.04e+07\n",
      "==============================================================================\n",
      "Omnibus:                     8666.050   Durbin-Watson:                   1.777\n",
      "Prob(Omnibus):                  0.000   Jarque-Bera (JB):          9695151.317\n",
      "Skew:                           6.161   Prob(JB):                         0.00\n",
      "Kurtosis:                     186.785   Cond. No.                     2.10e+08\n",
      "==============================================================================\n",
      "\n",
      "Notes:\n",
      "[1] Standard Errors assume that the covariance matrix of the errors is correctly specified.\n",
      "[2] The condition number is large, 2.1e+08. This might indicate that there are\n",
      "strong multicollinearity or other numerical problems.\n"
     ]
    }
   ],
   "source": [
    "#remove Year (p-value: .285)\n",
    "linreg5 = smf.ols(formula = 'revenue ~ IMDB_Score + belongs_to_collection + budget + popularity+ runtime + vote_count + Genre_Drama + Genre_Documentary + Genre_Comedy + Genre_Crime + Genre_Action + Genre_Animation + Nominated + Winner', data = train).fit()\n",
    "print(linreg5.summary())"
   ]
  },
  {
   "cell_type": "code",
   "execution_count": 120,
   "id": "26fed54d-7a57-46fe-8c5d-6d5d7e414501",
   "metadata": {},
   "outputs": [
    {
     "name": "stdout",
     "output_type": "stream",
     "text": [
      "                            OLS Regression Results                            \n",
      "==============================================================================\n",
      "Dep. Variable:                revenue   R-squared:                       0.660\n",
      "Model:                            OLS   Adj. R-squared:                  0.659\n",
      "Method:                 Least Squares   F-statistic:                     1021.\n",
      "Date:                Thu, 15 Dec 2022   Prob (F-statistic):               0.00\n",
      "Time:                        05:48:40   Log-Likelihood:            -1.2836e+05\n",
      "No. Observations:                6858   AIC:                         2.567e+05\n",
      "Df Residuals:                    6844   BIC:                         2.568e+05\n",
      "Df Model:                          13                                         \n",
      "Covariance Type:            nonrobust                                         \n",
      "=========================================================================================\n",
      "                            coef    std err          t      P>|t|      [0.025      0.975]\n",
      "-----------------------------------------------------------------------------------------\n",
      "Intercept              4.257e+07    8.2e+06      5.192      0.000    2.65e+07    5.86e+07\n",
      "IMDB_Score            -5.874e+06   1.09e+06     -5.381      0.000   -8.01e+06   -3.73e+06\n",
      "belongs_to_collection  8.203e+06   1.41e+06      5.804      0.000    5.43e+06     1.1e+07\n",
      "budget                    2.1168      0.050     42.297      0.000       2.019       2.215\n",
      "popularity            -1.413e+06    1.2e+05    -11.726      0.000   -1.65e+06   -1.18e+06\n",
      "vote_count             6.344e+04   1137.656     55.763      0.000    6.12e+04    6.57e+04\n",
      "Genre_Drama            1.557e+06   1.22e+06      1.276      0.202   -8.36e+05    3.95e+06\n",
      "Genre_Documentary      3.105e+06   1.72e+06      1.803      0.071   -2.72e+05    6.48e+06\n",
      "Genre_Comedy           2.855e+06   1.32e+06      2.170      0.030    2.75e+05    5.43e+06\n",
      "Genre_Crime           -4.593e+06   1.69e+06     -2.723      0.006    -7.9e+06   -1.29e+06\n",
      "Genre_Action           4.594e+06   1.88e+06      2.447      0.014    9.13e+05    8.27e+06\n",
      "Genre_Animation         3.07e+06   1.98e+06      1.554      0.120   -8.02e+05    6.94e+06\n",
      "Nominated              1.104e+07   1.49e+06      7.404      0.000    8.12e+06     1.4e+07\n",
      "Winner                 5.523e+06   2.52e+06      2.195      0.028     5.9e+05    1.05e+07\n",
      "==============================================================================\n",
      "Omnibus:                     8669.595   Durbin-Watson:                   1.777\n",
      "Prob(Omnibus):                  0.000   Jarque-Bera (JB):          9695459.229\n",
      "Skew:                           6.167   Prob(JB):                         0.00\n",
      "Kurtosis:                     186.787   Cond. No.                     2.09e+08\n",
      "==============================================================================\n",
      "\n",
      "Notes:\n",
      "[1] Standard Errors assume that the covariance matrix of the errors is correctly specified.\n",
      "[2] The condition number is large, 2.09e+08. This might indicate that there are\n",
      "strong multicollinearity or other numerical problems.\n"
     ]
    }
   ],
   "source": [
    "#remove runtime (p-value: .256)\n",
    "linreg6 = smf.ols(formula = 'revenue ~ IMDB_Score + belongs_to_collection + budget + popularity + vote_count + Genre_Drama + Genre_Documentary + Genre_Comedy + Genre_Crime + Genre_Action + Genre_Animation + Nominated + Winner', data = train).fit()\n",
    "print(linreg6.summary())"
   ]
  },
  {
   "cell_type": "code",
   "execution_count": 121,
   "id": "9632259f-7d88-4d1d-938c-4fcbce293ad3",
   "metadata": {},
   "outputs": [
    {
     "name": "stdout",
     "output_type": "stream",
     "text": [
      "                            OLS Regression Results                            \n",
      "==============================================================================\n",
      "Dep. Variable:                revenue   R-squared:                       0.660\n",
      "Model:                            OLS   Adj. R-squared:                  0.659\n",
      "Method:                 Least Squares   F-statistic:                     1106.\n",
      "Date:                Thu, 15 Dec 2022   Prob (F-statistic):               0.00\n",
      "Time:                        05:48:40   Log-Likelihood:            -1.2836e+05\n",
      "No. Observations:                6858   AIC:                         2.567e+05\n",
      "Df Residuals:                    6845   BIC:                         2.568e+05\n",
      "Df Model:                          12                                         \n",
      "Covariance Type:            nonrobust                                         \n",
      "=========================================================================================\n",
      "                            coef    std err          t      P>|t|      [0.025      0.975]\n",
      "-----------------------------------------------------------------------------------------\n",
      "Intercept              4.313e+07   8.19e+06      5.267      0.000    2.71e+07    5.92e+07\n",
      "IMDB_Score            -5.801e+06   1.09e+06     -5.321      0.000   -7.94e+06   -3.66e+06\n",
      "belongs_to_collection  8.092e+06   1.41e+06      5.737      0.000    5.33e+06    1.09e+07\n",
      "budget                    2.1149      0.050     42.276      0.000       2.017       2.213\n",
      "popularity            -1.426e+06    1.2e+05    -11.885      0.000   -1.66e+06   -1.19e+06\n",
      "vote_count             6.348e+04   1137.315     55.813      0.000    6.12e+04    6.57e+04\n",
      "Genre_Documentary      2.001e+06   1.49e+06      1.344      0.179   -9.19e+05    4.92e+06\n",
      "Genre_Comedy           1.791e+06   1.02e+06      1.760      0.079   -2.04e+05    3.79e+06\n",
      "Genre_Crime           -5.647e+06   1.47e+06     -3.839      0.000   -8.53e+06   -2.76e+06\n",
      "Genre_Action           3.594e+06   1.71e+06      2.106      0.035    2.49e+05    6.94e+06\n",
      "Genre_Animation        2.034e+06    1.8e+06      1.129      0.259    -1.5e+06    5.56e+06\n",
      "Nominated              1.111e+07   1.49e+06      7.454      0.000    8.19e+06     1.4e+07\n",
      "Winner                 5.504e+06   2.52e+06      2.187      0.029    5.71e+05    1.04e+07\n",
      "==============================================================================\n",
      "Omnibus:                     8673.583   Durbin-Watson:                   1.777\n",
      "Prob(Omnibus):                  0.000   Jarque-Bera (JB):          9701852.155\n",
      "Skew:                           6.172   Prob(JB):                         0.00\n",
      "Kurtosis:                     186.847   Cond. No.                     2.09e+08\n",
      "==============================================================================\n",
      "\n",
      "Notes:\n",
      "[1] Standard Errors assume that the covariance matrix of the errors is correctly specified.\n",
      "[2] The condition number is large, 2.09e+08. This might indicate that there are\n",
      "strong multicollinearity or other numerical problems.\n"
     ]
    }
   ],
   "source": [
    "#remove Genre_Drama (p-value: .202)\n",
    "linreg7 = smf.ols(formula = 'revenue ~ IMDB_Score + belongs_to_collection + budget + popularity + vote_count + Genre_Documentary + Genre_Comedy + Genre_Crime + Genre_Action + Genre_Animation + Nominated + Winner', data = train).fit()\n",
    "print(linreg7.summary())"
   ]
  },
  {
   "cell_type": "code",
   "execution_count": 122,
   "id": "6279b215-5d32-4fa3-b303-0ab6c3191f9a",
   "metadata": {},
   "outputs": [
    {
     "name": "stdout",
     "output_type": "stream",
     "text": [
      "                            OLS Regression Results                            \n",
      "==============================================================================\n",
      "Dep. Variable:                revenue   R-squared:                       0.660\n",
      "Model:                            OLS   Adj. R-squared:                  0.659\n",
      "Method:                 Least Squares   F-statistic:                     1206.\n",
      "Date:                Thu, 15 Dec 2022   Prob (F-statistic):               0.00\n",
      "Time:                        05:48:40   Log-Likelihood:            -1.2836e+05\n",
      "No. Observations:                6858   AIC:                         2.567e+05\n",
      "Df Residuals:                    6846   BIC:                         2.568e+05\n",
      "Df Model:                          11                                         \n",
      "Covariance Type:            nonrobust                                         \n",
      "=========================================================================================\n",
      "                            coef    std err          t      P>|t|      [0.025      0.975]\n",
      "-----------------------------------------------------------------------------------------\n",
      "Intercept              4.313e+07   8.19e+06      5.266      0.000    2.71e+07    5.92e+07\n",
      "IMDB_Score            -5.773e+06   1.09e+06     -5.297      0.000   -7.91e+06   -3.64e+06\n",
      "belongs_to_collection  8.335e+06   1.39e+06      5.978      0.000     5.6e+06    1.11e+07\n",
      "budget                    2.1163      0.050     42.314      0.000       2.018       2.214\n",
      "popularity            -1.428e+06    1.2e+05    -11.900      0.000   -1.66e+06   -1.19e+06\n",
      "vote_count              6.35e+04   1137.135     55.843      0.000    6.13e+04    6.57e+04\n",
      "Genre_Documentary      1.779e+06   1.48e+06      1.205      0.228   -1.12e+06    4.67e+06\n",
      "Genre_Comedy           1.579e+06      1e+06      1.579      0.114   -3.82e+05    3.54e+06\n",
      "Genre_Crime           -5.845e+06   1.46e+06     -4.002      0.000   -8.71e+06   -2.98e+06\n",
      "Genre_Action           3.314e+06   1.69e+06      1.963      0.050    4792.573    6.62e+06\n",
      "Nominated              1.096e+07   1.48e+06      7.383      0.000    8.05e+06    1.39e+07\n",
      "Winner                 5.549e+06   2.52e+06      2.205      0.027    6.17e+05    1.05e+07\n",
      "==============================================================================\n",
      "Omnibus:                     8667.987   Durbin-Watson:                   1.776\n",
      "Prob(Omnibus):                  0.000   Jarque-Bera (JB):          9683307.592\n",
      "Skew:                           6.165   Prob(JB):                         0.00\n",
      "Kurtosis:                     186.672   Cond. No.                     2.09e+08\n",
      "==============================================================================\n",
      "\n",
      "Notes:\n",
      "[1] Standard Errors assume that the covariance matrix of the errors is correctly specified.\n",
      "[2] The condition number is large, 2.09e+08. This might indicate that there are\n",
      "strong multicollinearity or other numerical problems.\n"
     ]
    }
   ],
   "source": [
    "#remove Genre_Animation (p-value: .259)\n",
    "linreg8 = smf.ols(formula = 'revenue ~ IMDB_Score + belongs_to_collection + budget + popularity + vote_count + Genre_Documentary + Genre_Comedy + Genre_Crime + Genre_Action + Nominated + Winner', data = train).fit()\n",
    "print(linreg8.summary())"
   ]
  },
  {
   "cell_type": "code",
   "execution_count": 123,
   "id": "7ac3bdd9-9015-4812-b171-303d8238e4ba",
   "metadata": {},
   "outputs": [
    {
     "name": "stdout",
     "output_type": "stream",
     "text": [
      "                            OLS Regression Results                            \n",
      "==============================================================================\n",
      "Dep. Variable:                revenue   R-squared:                       0.660\n",
      "Model:                            OLS   Adj. R-squared:                  0.659\n",
      "Method:                 Least Squares   F-statistic:                     1327.\n",
      "Date:                Thu, 15 Dec 2022   Prob (F-statistic):               0.00\n",
      "Time:                        05:48:40   Log-Likelihood:            -1.2836e+05\n",
      "No. Observations:                6858   AIC:                         2.567e+05\n",
      "Df Residuals:                    6847   BIC:                         2.568e+05\n",
      "Df Model:                          10                                         \n",
      "Covariance Type:            nonrobust                                         \n",
      "=========================================================================================\n",
      "                            coef    std err          t      P>|t|      [0.025      0.975]\n",
      "-----------------------------------------------------------------------------------------\n",
      "Intercept              4.197e+07   8.13e+06      5.161      0.000     2.6e+07    5.79e+07\n",
      "IMDB_Score            -5.579e+06   1.08e+06     -5.176      0.000   -7.69e+06   -3.47e+06\n",
      "belongs_to_collection   8.31e+06   1.39e+06      5.961      0.000    5.58e+06     1.1e+07\n",
      "budget                    2.1163      0.050     42.313      0.000       2.018       2.214\n",
      "popularity            -1.446e+06   1.19e+05    -12.149      0.000   -1.68e+06   -1.21e+06\n",
      "vote_count             6.354e+04   1136.623     55.906      0.000    6.13e+04    6.58e+04\n",
      "Genre_Comedy           1.343e+06   9.81e+05      1.369      0.171    -5.8e+05    3.27e+06\n",
      "Genre_Crime           -6.057e+06   1.45e+06     -4.177      0.000    -8.9e+06   -3.21e+06\n",
      "Genre_Action           3.116e+06   1.68e+06      1.855      0.064   -1.77e+05    6.41e+06\n",
      "Nominated              1.082e+07   1.48e+06      7.311      0.000    7.92e+06    1.37e+07\n",
      "Winner                 5.548e+06   2.52e+06      2.205      0.028    6.15e+05    1.05e+07\n",
      "==============================================================================\n",
      "Omnibus:                     8665.304   Durbin-Watson:                   1.776\n",
      "Prob(Omnibus):                  0.000   Jarque-Bera (JB):          9665634.750\n",
      "Skew:                           6.161   Prob(JB):                         0.00\n",
      "Kurtosis:                     186.504   Cond. No.                     2.07e+08\n",
      "==============================================================================\n",
      "\n",
      "Notes:\n",
      "[1] Standard Errors assume that the covariance matrix of the errors is correctly specified.\n",
      "[2] The condition number is large, 2.07e+08. This might indicate that there are\n",
      "strong multicollinearity or other numerical problems.\n"
     ]
    }
   ],
   "source": [
    "#remove Genre_Documentary (p-value: .228)\n",
    "linreg9 = smf.ols(formula = 'revenue ~ IMDB_Score + belongs_to_collection + budget + popularity + vote_count + Genre_Comedy + Genre_Crime + Genre_Action + Nominated + Winner', data = train).fit()\n",
    "print(linreg9.summary())"
   ]
  },
  {
   "cell_type": "code",
   "execution_count": 124,
   "id": "0deb9a42-7e4e-41ae-86ca-740256508e04",
   "metadata": {},
   "outputs": [
    {
     "name": "stdout",
     "output_type": "stream",
     "text": [
      "                            OLS Regression Results                            \n",
      "==============================================================================\n",
      "Dep. Variable:                revenue   R-squared:                       0.660\n",
      "Model:                            OLS   Adj. R-squared:                  0.659\n",
      "Method:                 Least Squares   F-statistic:                     1474.\n",
      "Date:                Thu, 15 Dec 2022   Prob (F-statistic):               0.00\n",
      "Time:                        05:48:40   Log-Likelihood:            -1.2836e+05\n",
      "No. Observations:                6858   AIC:                         2.567e+05\n",
      "Df Residuals:                    6848   BIC:                         2.568e+05\n",
      "Df Model:                           9                                         \n",
      "Covariance Type:            nonrobust                                         \n",
      "=========================================================================================\n",
      "                            coef    std err          t      P>|t|      [0.025      0.975]\n",
      "-----------------------------------------------------------------------------------------\n",
      "Intercept              4.272e+07   8.11e+06      5.264      0.000    2.68e+07    5.86e+07\n",
      "IMDB_Score            -5.634e+06   1.08e+06     -5.230      0.000   -7.75e+06   -3.52e+06\n",
      "belongs_to_collection  8.336e+06   1.39e+06      5.979      0.000     5.6e+06    1.11e+07\n",
      "budget                    2.1141      0.050     42.289      0.000       2.016       2.212\n",
      "popularity             -1.44e+06   1.19e+05    -12.101      0.000   -1.67e+06   -1.21e+06\n",
      "vote_count             6.353e+04   1136.672     55.895      0.000    6.13e+04    6.58e+04\n",
      "Genre_Crime           -6.405e+06   1.43e+06     -4.488      0.000    -9.2e+06   -3.61e+06\n",
      "Genre_Action            2.76e+06   1.66e+06      1.663      0.096   -4.94e+05    6.01e+06\n",
      "Nominated              1.077e+07   1.48e+06      7.277      0.000    7.87e+06    1.37e+07\n",
      "Winner                 5.499e+06   2.52e+06      2.185      0.029    5.67e+05    1.04e+07\n",
      "==============================================================================\n",
      "Omnibus:                     8659.314   Durbin-Watson:                   1.777\n",
      "Prob(Omnibus):                  0.000   Jarque-Bera (JB):          9652747.222\n",
      "Skew:                           6.153   Prob(JB):                         0.00\n",
      "Kurtosis:                     186.382   Cond. No.                     2.07e+08\n",
      "==============================================================================\n",
      "\n",
      "Notes:\n",
      "[1] Standard Errors assume that the covariance matrix of the errors is correctly specified.\n",
      "[2] The condition number is large, 2.07e+08. This might indicate that there are\n",
      "strong multicollinearity or other numerical problems.\n"
     ]
    }
   ],
   "source": [
    "#remove Genre_Comedy (p-value: .228)\n",
    "linreg10 = smf.ols(formula = 'revenue ~ IMDB_Score + belongs_to_collection + budget + popularity + vote_count + Genre_Crime + Genre_Action + Nominated + Winner', data = train).fit()\n",
    "print(linreg10.summary())"
   ]
  },
  {
   "cell_type": "code",
   "execution_count": 125,
   "id": "d5690691-ccdc-4a6a-9115-d4116a5c9832",
   "metadata": {},
   "outputs": [
    {
     "name": "stdout",
     "output_type": "stream",
     "text": [
      "                            OLS Regression Results                            \n",
      "==============================================================================\n",
      "Dep. Variable:                revenue   R-squared:                       0.659\n",
      "Model:                            OLS   Adj. R-squared:                  0.659\n",
      "Method:                 Least Squares   F-statistic:                     1657.\n",
      "Date:                Thu, 15 Dec 2022   Prob (F-statistic):               0.00\n",
      "Time:                        05:48:40   Log-Likelihood:            -1.2836e+05\n",
      "No. Observations:                6858   AIC:                         2.567e+05\n",
      "Df Residuals:                    6849   BIC:                         2.568e+05\n",
      "Df Model:                           8                                         \n",
      "Covariance Type:            nonrobust                                         \n",
      "=========================================================================================\n",
      "                            coef    std err          t      P>|t|      [0.025      0.975]\n",
      "-----------------------------------------------------------------------------------------\n",
      "Intercept              4.361e+07    8.1e+06      5.386      0.000    2.77e+07    5.95e+07\n",
      "IMDB_Score            -5.737e+06   1.08e+06     -5.334      0.000   -7.85e+06   -3.63e+06\n",
      "belongs_to_collection  8.713e+06   1.38e+06      6.334      0.000    6.02e+06    1.14e+07\n",
      "budget                    2.1226      0.050     42.673      0.000       2.025       2.220\n",
      "popularity            -1.427e+06   1.19e+05    -12.020      0.000   -1.66e+06   -1.19e+06\n",
      "vote_count             6.352e+04   1136.796     55.878      0.000    6.13e+04    6.58e+04\n",
      "Genre_Crime           -6.598e+06   1.42e+06     -4.637      0.000   -9.39e+06   -3.81e+06\n",
      "Nominated              1.064e+07   1.48e+06      7.199      0.000    7.74e+06    1.35e+07\n",
      "Winner                 5.469e+06   2.52e+06      2.173      0.030    5.36e+05    1.04e+07\n",
      "==============================================================================\n",
      "Omnibus:                     8634.501   Durbin-Watson:                   1.777\n",
      "Prob(Omnibus):                  0.000   Jarque-Bera (JB):          9554216.943\n",
      "Skew:                           6.119   Prob(JB):                         0.00\n",
      "Kurtosis:                     185.444   Cond. No.                     2.06e+08\n",
      "==============================================================================\n",
      "\n",
      "Notes:\n",
      "[1] Standard Errors assume that the covariance matrix of the errors is correctly specified.\n",
      "[2] The condition number is large, 2.06e+08. This might indicate that there are\n",
      "strong multicollinearity or other numerical problems.\n"
     ]
    }
   ],
   "source": [
    "#remove Genre_Action (p-value: .096)\n",
    "linreg11 = smf.ols(formula = 'revenue ~ IMDB_Score + belongs_to_collection + budget + popularity + vote_count + Genre_Crime + Nominated + Winner', data = train).fit()\n",
    "print(linreg11.summary())"
   ]
  },
  {
   "cell_type": "code",
   "execution_count": 126,
   "id": "4f934fdd-c4c0-4bfd-926f-296b8d968e2a",
   "metadata": {},
   "outputs": [
    {
     "data": {
      "text/plain": [
       "IMDB_Score               1.094793\n",
       "belongs_to_collection    1.056619\n",
       "budget                   1.499091\n",
       "popularity               2.143803\n",
       "vote_count               2.427014\n",
       "Genre_Crime              1.014696\n",
       "Nominated                1.464878\n",
       "Winner                   1.371226\n",
       "dtype: float64"
      ]
     },
     "execution_count": 126,
     "metadata": {},
     "output_type": "execute_result"
    }
   ],
   "source": [
    "#check if VIF > 5 for any columns\n",
    "col_names = ['IMDB_Score', 'belongs_to_collection', 'budget', 'popularity', 'vote_count', 'Genre_Crime', 'Nominated', 'Winner']\n",
    "VIF(train, col_names)             "
   ]
  },
  {
   "cell_type": "code",
   "execution_count": 127,
   "id": "bd25dc7b-f516-41be-a86b-2e436a24ed0f",
   "metadata": {},
   "outputs": [],
   "source": [
    "# compute out-of-sample R-squared using the test set\n",
    "def OSR2(model, df_train, df_test, dependent_var):   \n",
    "    y_test = df_test[dependent_var]\n",
    "    y_pred = model.predict(df_test)\n",
    "    SSE = np.sum((y_test - y_pred)**2)\n",
    "    SST = np.sum((y_test - np.mean(df_train[dependent_var]))**2)    \n",
    "    return 1 - SSE/SST"
   ]
  },
  {
   "cell_type": "code",
   "execution_count": 128,
   "id": "5615b5f7-031c-402f-b0e0-8c3e81be7ba7",
   "metadata": {},
   "outputs": [],
   "source": [
    "def rmse(model, df_test, dependent_var):\n",
    "    y_test = df_test[dependent_var]\n",
    "    y_pred = model.predict(df_test)\n",
    "    se = (y_test - y_pred) ** 2\n",
    "    mse = np.mean(se)\n",
    "    return np.sqrt(mse)"
   ]
  },
  {
   "cell_type": "code",
   "execution_count": 129,
   "id": "1e2e4da8-fa92-4b0c-a717-bbc624ca1356",
   "metadata": {},
   "outputs": [
    {
     "name": "stdout",
     "output_type": "stream",
     "text": [
      "RMSE on testing:  32550889.621091153\n"
     ]
    }
   ],
   "source": [
    "linreg11_rmse = rmse(linreg11, train, 'revenue')\n",
    "print('RMSE on testing: ', linreg11_rmse)"
   ]
  },
  {
   "cell_type": "code",
   "execution_count": 130,
   "id": "42b0a432-8436-4f02-8dad-a91550b29d42",
   "metadata": {},
   "outputs": [
    {
     "name": "stdout",
     "output_type": "stream",
     "text": [
      "RMSE on testing:  53880210.11882782\n"
     ]
    }
   ],
   "source": [
    "linreg11_rmse = rmse(linreg11, test, 'revenue')\n",
    "print('RMSE on testing: ', linreg11_rmse)"
   ]
  },
  {
   "cell_type": "code",
   "execution_count": 131,
   "id": "05fdbd94-3e21-4812-8b46-56c94380029a",
   "metadata": {},
   "outputs": [
    {
     "data": {
      "text/plain": [
       "0.8043142374581103"
      ]
     },
     "execution_count": 131,
     "metadata": {},
     "output_type": "execute_result"
    }
   ],
   "source": [
    "OSR2(linreg11, train, test, 'revenue')"
   ]
  },
  {
   "cell_type": "markdown",
   "id": "e1bcc434-0c4b-45c1-91b3-27653163f949",
   "metadata": {},
   "source": [
    "# Logistic Regression"
   ]
  },
  {
   "cell_type": "code",
   "execution_count": 132,
   "id": "81991dc4-ce8b-4d44-994f-7973aaeb8828",
   "metadata": {},
   "outputs": [
    {
     "name": "stdout",
     "output_type": "stream",
     "text": [
      "Warning: Maximum number of iterations has been exceeded.\n",
      "         Current function value: 0.286422\n",
      "         Iterations: 35\n"
     ]
    },
    {
     "name": "stderr",
     "output_type": "stream",
     "text": [
      "/srv/conda/envs/notebook/lib/python3.9/site-packages/statsmodels/base/model.py:604: ConvergenceWarning: Maximum Likelihood optimization failed to converge. Check mle_retvals\n",
      "  warnings.warn(\"Maximum Likelihood optimization failed to \"\n"
     ]
    },
    {
     "name": "stdout",
     "output_type": "stream",
     "text": [
      "                           Logit Regression Results                           \n",
      "==============================================================================\n",
      "Dep. Variable:              Nominated   No. Observations:                 6858\n",
      "Model:                          Logit   Df Residuals:                     6840\n",
      "Method:                           MLE   Df Model:                           17\n",
      "Date:                Thu, 15 Dec 2022   Pseudo R-squ.:                  0.2087\n",
      "Time:                        05:48:41   Log-Likelihood:                -1964.3\n",
      "converged:                      False   LL-Null:                       -2482.4\n",
      "Covariance Type:            nonrobust   LLR p-value:                1.622e-209\n",
      "=========================================================================================\n",
      "                            coef    std err          z      P>|z|      [0.025      0.975]\n",
      "-----------------------------------------------------------------------------------------\n",
      "Intercept                48.6830      4.730     10.292      0.000      39.412      57.954\n",
      "belongs_to_collection    -1.3517      0.221     -6.124      0.000      -1.784      -0.919\n",
      "budget                 4.982e-09   4.73e-09      1.054      0.292   -4.28e-09    1.42e-08\n",
      "popularity                0.1901      0.012     16.127      0.000       0.167       0.213\n",
      "revenue                  8.8e-09   1.21e-09      7.269      0.000    6.43e-09    1.12e-08\n",
      "runtime                   0.0059      0.001      6.860      0.000       0.004       0.008\n",
      "video                   -13.9040   4317.825     -0.003      0.997   -8476.685    8448.877\n",
      "vote_average              0.1221      0.041      2.954      0.003       0.041       0.203\n",
      "vote_count               -0.0007      0.000     -5.916      0.000      -0.001      -0.000\n",
      "Year                     -0.0270      0.002    -11.935      0.000      -0.031      -0.023\n",
      "IMDB_Score               -0.0734      0.130     -0.564      0.573      -0.329       0.182\n",
      "status_Released           0.8557      1.029      0.832      0.406      -1.161       2.872\n",
      "Genre_Drama               0.3940      0.116      3.405      0.001       0.167       0.621\n",
      "Genre_Documentary        -3.8167      1.067     -3.577      0.000      -5.908      -1.725\n",
      "Genre_Comedy             -0.2455      0.135     -1.815      0.070      -0.511       0.020\n",
      "Genre_Crime              -0.1230      0.161     -0.763      0.445      -0.439       0.193\n",
      "Genre_Action             -1.3858      0.250     -5.539      0.000      -1.876      -0.895\n",
      "Genre_Animation          -2.2277      0.472     -4.724      0.000      -3.152      -1.303\n",
      "=========================================================================================\n"
     ]
    }
   ],
   "source": [
    "logreg1 = smf.logit(formula = 'Nominated ~ belongs_to_collection + budget + popularity+ revenue + runtime + video + vote_average + vote_count + Year + IMDB_Score + status_Released + Genre_Drama + Genre_Documentary + Genre_Comedy + Genre_Crime + Genre_Action + Genre_Animation', data = train).fit()\n",
    "print(logreg1.summary())"
   ]
  },
  {
   "cell_type": "code",
   "execution_count": 133,
   "id": "c519691f-7c60-4031-9503-2abf0938867f",
   "metadata": {},
   "outputs": [
    {
     "name": "stdout",
     "output_type": "stream",
     "text": [
      "Optimization terminated successfully.\n",
      "         Current function value: 0.286430\n",
      "         Iterations 11\n",
      "                           Logit Regression Results                           \n",
      "==============================================================================\n",
      "Dep. Variable:              Nominated   No. Observations:                 6858\n",
      "Model:                          Logit   Df Residuals:                     6841\n",
      "Method:                           MLE   Df Model:                           16\n",
      "Date:                Thu, 15 Dec 2022   Pseudo R-squ.:                  0.2087\n",
      "Time:                        05:48:42   Log-Likelihood:                -1964.3\n",
      "converged:                       True   LL-Null:                       -2482.4\n",
      "Covariance Type:            nonrobust   LLR p-value:                2.100e-210\n",
      "=========================================================================================\n",
      "                            coef    std err          z      P>|z|      [0.025      0.975]\n",
      "-----------------------------------------------------------------------------------------\n",
      "Intercept                48.7101      4.729     10.299      0.000      39.441      57.980\n",
      "belongs_to_collection    -1.3516      0.221     -6.123      0.000      -1.784      -0.919\n",
      "budget                 4.988e-09   4.73e-09      1.055      0.291   -4.28e-09    1.43e-08\n",
      "popularity                0.1902      0.012     16.127      0.000       0.167       0.213\n",
      "revenue                8.802e-09   1.21e-09      7.269      0.000    6.43e-09    1.12e-08\n",
      "runtime                   0.0059      0.001      6.861      0.000       0.004       0.008\n",
      "vote_average              0.1225      0.041      2.967      0.003       0.042       0.203\n",
      "vote_count               -0.0007      0.000     -5.916      0.000      -0.001      -0.000\n",
      "Year                     -0.0270      0.002    -11.944      0.000      -0.031      -0.023\n",
      "IMDB_Score               -0.0740      0.130     -0.568      0.570      -0.329       0.181\n",
      "status_Released           0.8555      1.029      0.831      0.406      -1.161       2.872\n",
      "Genre_Drama               0.3941      0.116      3.406      0.001       0.167       0.621\n",
      "Genre_Documentary        -3.8174      1.067     -3.577      0.000      -5.909      -1.726\n",
      "Genre_Comedy             -0.2454      0.135     -1.814      0.070      -0.511       0.020\n",
      "Genre_Crime              -0.1230      0.161     -0.763      0.446      -0.439       0.193\n",
      "Genre_Action             -1.3865      0.250     -5.542      0.000      -1.877      -0.896\n",
      "Genre_Animation          -2.2305      0.471     -4.731      0.000      -3.154      -1.307\n",
      "=========================================================================================\n"
     ]
    }
   ],
   "source": [
    "#removed video (p-value:.997)\n",
    "logreg2 = smf.logit(formula = 'Nominated ~ belongs_to_collection + budget + popularity+ revenue + runtime + vote_average + vote_count + Year + IMDB_Score + status_Released + Genre_Drama + Genre_Documentary + Genre_Comedy + Genre_Crime + Genre_Action + Genre_Animation', data = train).fit()\n",
    "print(logreg2.summary())"
   ]
  },
  {
   "cell_type": "code",
   "execution_count": 134,
   "id": "172cbfbc-1d3f-4a46-b780-ab3b9f61f439",
   "metadata": {},
   "outputs": [
    {
     "name": "stdout",
     "output_type": "stream",
     "text": [
      "Optimization terminated successfully.\n",
      "         Current function value: 0.286454\n",
      "         Iterations 11\n",
      "                           Logit Regression Results                           \n",
      "==============================================================================\n",
      "Dep. Variable:              Nominated   No. Observations:                 6858\n",
      "Model:                          Logit   Df Residuals:                     6842\n",
      "Method:                           MLE   Df Model:                           15\n",
      "Date:                Thu, 15 Dec 2022   Pseudo R-squ.:                  0.2086\n",
      "Time:                        05:48:42   Log-Likelihood:                -1964.5\n",
      "converged:                       True   LL-Null:                       -2482.4\n",
      "Covariance Type:            nonrobust   LLR p-value:                2.912e-211\n",
      "=========================================================================================\n",
      "                            coef    std err          z      P>|z|      [0.025      0.975]\n",
      "-----------------------------------------------------------------------------------------\n",
      "Intercept                47.8704      4.489     10.663      0.000      39.071      56.669\n",
      "belongs_to_collection    -1.3502      0.221     -6.120      0.000      -1.783      -0.918\n",
      "budget                 5.283e-09    4.7e-09      1.124      0.261   -3.93e-09    1.45e-08\n",
      "popularity                0.1895      0.012     16.144      0.000       0.166       0.213\n",
      "revenue                8.865e-09   1.21e-09      7.354      0.000     6.5e-09    1.12e-08\n",
      "runtime                   0.0058      0.001      6.999      0.000       0.004       0.007\n",
      "vote_average              0.1155      0.039      2.959      0.003       0.039       0.192\n",
      "vote_count               -0.0008      0.000     -6.295      0.000      -0.001      -0.001\n",
      "Year                     -0.0268      0.002    -11.985      0.000      -0.031      -0.022\n",
      "status_Released           0.8538      1.029      0.830      0.407      -1.163       2.870\n",
      "Genre_Drama               0.3880      0.115      3.368      0.001       0.162       0.614\n",
      "Genre_Documentary        -3.8333      1.064     -3.602      0.000      -5.919      -1.748\n",
      "Genre_Comedy             -0.2495      0.135     -1.847      0.065      -0.514       0.015\n",
      "Genre_Crime              -0.1256      0.161     -0.779      0.436      -0.441       0.190\n",
      "Genre_Action             -1.3847      0.250     -5.534      0.000      -1.875      -0.894\n",
      "Genre_Animation          -2.2332      0.471     -4.738      0.000      -3.157      -1.309\n",
      "=========================================================================================\n"
     ]
    }
   ],
   "source": [
    "#removed IMDB_Score (p-value:.570)\n",
    "logreg3 = smf.logit(formula = 'Nominated ~ belongs_to_collection + budget + popularity+ revenue + runtime + vote_average + vote_count + Year + status_Released + Genre_Drama + Genre_Documentary + Genre_Comedy + Genre_Crime + Genre_Action + Genre_Animation', data = train).fit()\n",
    "print(logreg3.summary())"
   ]
  },
  {
   "cell_type": "code",
   "execution_count": 135,
   "id": "49f2f423-2aff-4c39-b7e1-9ebce89b58f5",
   "metadata": {},
   "outputs": [
    {
     "name": "stdout",
     "output_type": "stream",
     "text": [
      "Optimization terminated successfully.\n",
      "         Current function value: 0.286519\n",
      "         Iterations 11\n",
      "                           Logit Regression Results                           \n",
      "==============================================================================\n",
      "Dep. Variable:              Nominated   No. Observations:                 6858\n",
      "Model:                          Logit   Df Residuals:                     6843\n",
      "Method:                           MLE   Df Model:                           14\n",
      "Date:                Thu, 15 Dec 2022   Pseudo R-squ.:                  0.2084\n",
      "Time:                        05:48:42   Log-Likelihood:                -1964.9\n",
      "converged:                       True   LL-Null:                       -2482.4\n",
      "Covariance Type:            nonrobust   LLR p-value:                5.171e-212\n",
      "=========================================================================================\n",
      "                            coef    std err          z      P>|z|      [0.025      0.975]\n",
      "-----------------------------------------------------------------------------------------\n",
      "Intercept                48.7334      4.368     11.158      0.000      40.173      57.294\n",
      "belongs_to_collection    -1.3492      0.221     -6.114      0.000      -1.782      -0.917\n",
      "popularity                0.1900      0.012     16.195      0.000       0.167       0.213\n",
      "revenue                8.867e-09   1.21e-09      7.354      0.000     6.5e-09    1.12e-08\n",
      "runtime                   0.0058      0.001      7.013      0.000       0.004       0.007\n",
      "vote_average              0.1155      0.039      2.959      0.003       0.039       0.192\n",
      "vote_count               -0.0008      0.000     -6.306      0.000      -0.001      -0.001\n",
      "Year                     -0.0268      0.002    -11.995      0.000      -0.031      -0.022\n",
      "budget                 5.287e-09    4.7e-09      1.124      0.261   -3.93e-09    1.45e-08\n",
      "Genre_Drama               0.3892      0.115      3.378      0.001       0.163       0.615\n",
      "Genre_Documentary        -3.8350      1.065     -3.602      0.000      -5.922      -1.748\n",
      "Genre_Comedy             -0.2469      0.135     -1.828      0.068      -0.512       0.018\n",
      "Genre_Crime              -0.1234      0.161     -0.765      0.444      -0.439       0.193\n",
      "Genre_Action             -1.3835      0.250     -5.529      0.000      -1.874      -0.893\n",
      "Genre_Animation          -2.2319      0.471     -4.735      0.000      -3.156      -1.308\n",
      "=========================================================================================\n"
     ]
    }
   ],
   "source": [
    "#removed status_Released (p-value:.407)\n",
    "logreg4 = smf.logit(formula = 'Nominated ~ belongs_to_collection + popularity+ revenue + runtime + vote_average + vote_count + Year + budget + Genre_Drama + Genre_Documentary + Genre_Comedy + Genre_Crime + Genre_Action + Genre_Animation', data = train).fit()\n",
    "print(logreg4.summary())"
   ]
  },
  {
   "cell_type": "code",
   "execution_count": 136,
   "id": "311cc1cd-e5a7-4c65-9ed7-edceb5d1acfa",
   "metadata": {},
   "outputs": [
    {
     "name": "stdout",
     "output_type": "stream",
     "text": [
      "Optimization terminated successfully.\n",
      "         Current function value: 0.286562\n",
      "         Iterations 11\n",
      "                           Logit Regression Results                           \n",
      "==============================================================================\n",
      "Dep. Variable:              Nominated   No. Observations:                 6858\n",
      "Model:                          Logit   Df Residuals:                     6844\n",
      "Method:                           MLE   Df Model:                           13\n",
      "Date:                Thu, 15 Dec 2022   Pseudo R-squ.:                  0.2083\n",
      "Time:                        05:48:43   Log-Likelihood:                -1965.2\n",
      "converged:                       True   LL-Null:                       -2482.4\n",
      "Covariance Type:            nonrobust   LLR p-value:                7.604e-213\n",
      "=========================================================================================\n",
      "                            coef    std err          z      P>|z|      [0.025      0.975]\n",
      "-----------------------------------------------------------------------------------------\n",
      "Intercept                48.6448      4.366     11.142      0.000      40.087      57.202\n",
      "belongs_to_collection    -1.3384      0.220     -6.080      0.000      -1.770      -0.907\n",
      "popularity                0.1897      0.012     16.182      0.000       0.167       0.213\n",
      "revenue                8.892e-09    1.2e-09      7.386      0.000    6.53e-09    1.13e-08\n",
      "runtime                   0.0058      0.001      7.045      0.000       0.004       0.007\n",
      "vote_average              0.1152      0.039      2.951      0.003       0.039       0.192\n",
      "vote_count               -0.0008      0.000     -6.345      0.000      -0.001      -0.001\n",
      "Year                     -0.0268      0.002    -11.986      0.000      -0.031      -0.022\n",
      "budget                 5.388e-09    4.7e-09      1.146      0.252   -3.83e-09    1.46e-08\n",
      "Genre_Drama               0.4337      0.100      4.328      0.000       0.237       0.630\n",
      "Genre_Documentary        -3.7995      1.066     -3.564      0.000      -5.889      -1.710\n",
      "Genre_Comedy             -0.2019      0.122     -1.651      0.099      -0.441       0.038\n",
      "Genre_Action             -1.3423      0.245     -5.484      0.000      -1.822      -0.863\n",
      "Genre_Animation          -2.1893      0.468     -4.673      0.000      -3.107      -1.271\n",
      "=========================================================================================\n"
     ]
    }
   ],
   "source": [
    "#removed Genre_Crime (p-value:.444)\n",
    "logreg5 = smf.logit(formula = 'Nominated ~ belongs_to_collection + popularity+ revenue + runtime + vote_average + vote_count + Year + budget + Genre_Drama + Genre_Documentary + Genre_Comedy + Genre_Action + Genre_Animation', data = train).fit()\n",
    "print(logreg5.summary())"
   ]
  },
  {
   "cell_type": "code",
   "execution_count": 137,
   "id": "603bd707-b8a4-43ae-a94c-1a1301f7b8c4",
   "metadata": {},
   "outputs": [
    {
     "name": "stdout",
     "output_type": "stream",
     "text": [
      "Optimization terminated successfully.\n",
      "         Current function value: 0.286657\n",
      "         Iterations 11\n",
      "                           Logit Regression Results                           \n",
      "==============================================================================\n",
      "Dep. Variable:              Nominated   No. Observations:                 6858\n",
      "Model:                          Logit   Df Residuals:                     6845\n",
      "Method:                           MLE   Df Model:                           12\n",
      "Date:                Thu, 15 Dec 2022   Pseudo R-squ.:                  0.2081\n",
      "Time:                        05:48:43   Log-Likelihood:                -1965.9\n",
      "converged:                       True   LL-Null:                       -2482.4\n",
      "Covariance Type:            nonrobust   LLR p-value:                1.526e-213\n",
      "=========================================================================================\n",
      "                            coef    std err          z      P>|z|      [0.025      0.975]\n",
      "-----------------------------------------------------------------------------------------\n",
      "Intercept                47.8647      4.308     11.110      0.000      39.421      56.309\n",
      "belongs_to_collection    -1.3759      0.220     -6.260      0.000      -1.807      -0.945\n",
      "popularity                0.1913      0.012     16.443      0.000       0.169       0.214\n",
      "revenue                9.554e-09   1.07e-09      8.920      0.000    7.45e-09    1.17e-08\n",
      "runtime                   0.0059      0.001      7.113      0.000       0.004       0.008\n",
      "vote_average              0.1135      0.039      2.915      0.004       0.037       0.190\n",
      "vote_count               -0.0008      0.000     -6.333      0.000      -0.001      -0.001\n",
      "Year                     -0.0264      0.002    -11.967      0.000      -0.031      -0.022\n",
      "Genre_Drama               0.4288      0.100      4.285      0.000       0.233       0.625\n",
      "Genre_Documentary        -3.8275      1.070     -3.578      0.000      -5.924      -1.731\n",
      "Genre_Comedy             -0.2101      0.122     -1.721      0.085      -0.449       0.029\n",
      "Genre_Action             -1.3092      0.241     -5.422      0.000      -1.782      -0.836\n",
      "Genre_Animation          -2.1824      0.470     -4.641      0.000      -3.104      -1.261\n",
      "=========================================================================================\n"
     ]
    }
   ],
   "source": [
    "#removed budget (p-value:.252)\n",
    "logreg6 = smf.logit(formula = 'Nominated ~ belongs_to_collection + popularity+ revenue + runtime + vote_average + vote_count + Year + Genre_Drama + Genre_Documentary + Genre_Comedy + Genre_Action + Genre_Animation', data = train).fit()\n",
    "print(logreg6.summary())"
   ]
  },
  {
   "cell_type": "code",
   "execution_count": 138,
   "id": "fb86459f-a472-44b2-aa2f-b70bbba8b76e",
   "metadata": {},
   "outputs": [
    {
     "name": "stdout",
     "output_type": "stream",
     "text": [
      "Confusion Matrix : \n",
      " [[4970   63]\n",
      " [ 190   24]]\n"
     ]
    }
   ],
   "source": [
    "y_prob = logreg6.predict(c_xte)\n",
    "y_pred = pd.Series([1 if x > 0.5 else 0 for x in y_prob], index = y_prob.index)\n",
    "\n",
    "cm = confusion_matrix(c_yte, y_pred)\n",
    "print (\"Confusion Matrix : \\n\", cm) "
   ]
  },
  {
   "cell_type": "code",
   "execution_count": 139,
   "id": "a5416c87-e578-4698-8fe5-2bbd4d1cf44c",
   "metadata": {},
   "outputs": [
    {
     "name": "stdout",
     "output_type": "stream",
     "text": [
      "Accuracy on testing:  0.9517819706498952\n"
     ]
    }
   ],
   "source": [
    "acc = (cm.ravel()[0]+cm.ravel()[3])/sum(cm.ravel())\n",
    "print('Accuracy on testing: ', acc)"
   ]
  },
  {
   "cell_type": "code",
   "execution_count": 140,
   "id": "1eb97acd-de90-49e2-b80f-7ad357f29e10",
   "metadata": {},
   "outputs": [],
   "source": [
    "TN = cm.ravel()[0]\n",
    "FP = cm.ravel()[1]\n",
    "FN = cm.ravel()[2]\n",
    "TP = cm.ravel()[3]"
   ]
  },
  {
   "cell_type": "code",
   "execution_count": 145,
   "id": "0af7407f-bcef-469c-8861-450af57ff23e",
   "metadata": {},
   "outputs": [
    {
     "name": "stdout",
     "output_type": "stream",
     "text": [
      "True Positive Rate on Testing:  0.11214953271028037\n"
     ]
    }
   ],
   "source": [
    "tpr = TP / (TP + FN)\n",
    "print('True Positive Rate on Testing: ', tpr)"
   ]
  },
  {
   "cell_type": "code",
   "execution_count": 146,
   "id": "5a1fea0f-afe9-4f71-909e-aad6b85b0343",
   "metadata": {},
   "outputs": [
    {
     "name": "stdout",
     "output_type": "stream",
     "text": [
      "False Positive Rate on Testing:  0.012517385257301807\n"
     ]
    }
   ],
   "source": [
    "fpr = FP / (FP + TN)\n",
    "print('False Positive Rate on Testing: ', fpr)"
   ]
  },
  {
   "cell_type": "code",
   "execution_count": 110,
   "id": "3ad00e2e-f0ec-472b-8fd5-19df56e95438",
   "metadata": {},
   "outputs": [
    {
     "data": {
      "image/png": "[encoded data removed]",
      "text/plain": [
       "<Figure size 800x600 with 1 Axes>"
      ]
     },
     "metadata": {},
     "output_type": "display_data"
    }
   ],
   "source": [
    "fpr, tpr, _ = roc_curve(c_yte, y_pred)\n",
    "roc_auc = auc(fpr, tpr)\n",
    "\n",
    "plt.figure(figsize=(8,6))\n",
    "plt.title('ROC Curve', fontsize=18)\n",
    "plt.xlabel('FPR', fontsize=16)\n",
    "plt.ylabel('TPR', fontsize=16)\n",
    "plt.xlim([-.01, 1.00])\n",
    "plt.ylim([-.01, 1.01])\n",
    "plt.plot(fpr, tpr, lw=3, label='Logistic Regression (0.5 cutoff) (area = {:0.2f})'.format(roc_auc))\n",
    "plt.plot([0,1], [0,1], color='navy', lw=3, linestyle='--', label='Naive Baseline (area = 0.50)')\n",
    "plt.legend(loc='lower right', fontsize=14)\n",
    "plt.show()"
   ]
  },
  {
   "cell_type": "code",
   "execution_count": 111,
   "id": "6e9d1914-9776-4213-8f53-f45f80c20fe3",
   "metadata": {},
   "outputs": [
    {
     "data": {
      "text/html": [
       "<div>\n",
       "<style scoped>\n",
       "    .dataframe tbody tr th:only-of-type {\n",
       "        vertical-align: middle;\n",
       "    }\n",
       "\n",
       "    .dataframe tbody tr th {\n",
       "        vertical-align: top;\n",
       "    }\n",
       "\n",
       "    .dataframe thead th {\n",
       "        text-align: right;\n",
       "    }\n",
       "</style>\n",
       "<table border=\"1\" class=\"dataframe\">\n",
       "  <thead>\n",
       "    <tr style=\"text-align: right;\">\n",
       "      <th></th>\n",
       "      <th>Index</th>\n",
       "      <th>Oscar_Nominated_Logistic</th>\n",
       "    </tr>\n",
       "  </thead>\n",
       "  <tbody>\n",
       "    <tr>\n",
       "      <th>0</th>\n",
       "      <td>4208</td>\n",
       "      <td>False</td>\n",
       "    </tr>\n",
       "    <tr>\n",
       "      <th>1</th>\n",
       "      <td>4406</td>\n",
       "      <td>False</td>\n",
       "    </tr>\n",
       "    <tr>\n",
       "      <th>2</th>\n",
       "      <td>4422</td>\n",
       "      <td>False</td>\n",
       "    </tr>\n",
       "    <tr>\n",
       "      <th>3</th>\n",
       "      <td>4426</td>\n",
       "      <td>False</td>\n",
       "    </tr>\n",
       "    <tr>\n",
       "      <th>4</th>\n",
       "      <td>4490</td>\n",
       "      <td>False</td>\n",
       "    </tr>\n",
       "  </tbody>\n",
       "</table>\n",
       "</div>"
      ],
      "text/plain": [
       "   Index  Oscar_Nominated_Logistic\n",
       "0   4208                     False\n",
       "1   4406                     False\n",
       "2   4422                     False\n",
       "3   4426                     False\n",
       "4   4490                     False"
      ]
     },
     "execution_count": 111,
     "metadata": {},
     "output_type": "execute_result"
    }
   ],
   "source": [
    "indices = c_xte.index\n",
    "\n",
    "y_pred_res = y_pred.astype('bool').to_numpy()\n",
    "frame = {'Index':indices, 'Oscar_Nominated_Logistic':y_pred_res}\n",
    "log_result = pd.DataFrame(frame)\n",
    "log_result.head()"
   ]
  },
  {
   "cell_type": "code",
   "execution_count": 80,
   "id": "5918aecd-4b41-4549-934a-d86697e5fafb",
   "metadata": {},
   "outputs": [],
   "source": [
    "log_result.to_csv('LogisticPredictions.csv', index=False)"
   ]
  },
  {
   "cell_type": "markdown",
   "id": "b86080c0-8320-48e0-989a-50cbd105fad7",
   "metadata": {},
   "source": [
    "# Decision Tree"
   ]
  },
  {
   "cell_type": "code",
   "execution_count": 80,
   "id": "4a0257cf-8a0a-4727-b8af-727a8e88d4cd",
   "metadata": {},
   "outputs": [],
   "source": [
    "train = movies_dummy[movies_dummy['Year'] <= 2000].drop_duplicates()\n",
    "test = movies_dummy[movies_dummy['Year'] > 2000].drop_duplicates()"
   ]
  },
  {
   "cell_type": "markdown",
   "id": "c92ddcfa-a3a5-4987-93b5-5484c0b55eac",
   "metadata": {},
   "source": [
    "# Decision Tree Regression"
   ]
  },
  {
   "cell_type": "code",
   "execution_count": 81,
   "id": "5d8fab80-5fa7-40b1-8292-c026f5209817",
   "metadata": {},
   "outputs": [],
   "source": [
    "mse = make_scorer(mean_squared_error)"
   ]
  },
  {
   "cell_type": "code",
   "execution_count": 82,
   "id": "def8b21c-f65a-44e6-a136-19a8220f173c",
   "metadata": {},
   "outputs": [],
   "source": [
    "x_train = train[['IMDB_Score', 'belongs_to_collection', 'budget', 'popularity', 'vote_count', 'Genre_Crime', 'Nominated', 'Winner']]\n",
    "x_test = test[['IMDB_Score', 'belongs_to_collection', 'budget', 'popularity', 'vote_count', 'Genre_Crime', 'Nominated', 'Winner']]\n",
    "y_train = train[\"revenue\"]\n",
    "y_test = test['revenue']"
   ]
  },
  {
   "cell_type": "code",
   "execution_count": 83,
   "id": "0b0effc2-4582-463d-853d-79bf18d685ba",
   "metadata": {},
   "outputs": [
    {
     "name": "stdout",
     "output_type": "stream",
     "text": [
      "Fitting 10 folds for each of 201 candidates, totalling 2010 fits\n"
     ]
    },
    {
     "data": {
      "text/html": [
       "<style>#sk-container-id-1 {color: black;background-color: white;}#sk-container-id-1 pre{padding: 0;}#sk-container-id-1 div.sk-toggleable {background-color: white;}#sk-container-id-1 label.sk-toggleable__label {cursor: pointer;display: block;width: 100%;margin-bottom: 0;padding: 0.3em;box-sizing: border-box;text-align: center;}#sk-container-id-1 label.sk-toggleable__label-arrow:before {content: \"▸\";float: left;margin-right: 0.25em;color: #696969;}#sk-container-id-1 label.sk-toggleable__label-arrow:hover:before {color: black;}#sk-container-id-1 div.sk-estimator:hover label.sk-toggleable__label-arrow:before {color: black;}#sk-container-id-1 div.sk-toggleable__content {max-height: 0;max-width: 0;overflow: hidden;text-align: left;background-color: #f0f8ff;}#sk-container-id-1 div.sk-toggleable__content pre {margin: 0.2em;color: black;border-radius: 0.25em;background-color: #f0f8ff;}#sk-container-id-1 input.sk-toggleable__control:checked~div.sk-toggleable__content {max-height: 200px;max-width: 100%;overflow: auto;}#sk-container-id-1 input.sk-toggleable__control:checked~label.sk-toggleable__label-arrow:before {content: \"▾\";}#sk-container-id-1 div.sk-estimator input.sk-toggleable__control:checked~label.sk-toggleable__label {background-color: #d4ebff;}#sk-container-id-1 div.sk-label input.sk-toggleable__control:checked~label.sk-toggleable__label {background-color: #d4ebff;}#sk-container-id-1 input.sk-hidden--visually {border: 0;clip: rect(1px 1px 1px 1px);clip: rect(1px, 1px, 1px, 1px);height: 1px;margin: -1px;overflow: hidden;padding: 0;position: absolute;width: 1px;}#sk-container-id-1 div.sk-estimator {font-family: monospace;background-color: #f0f8ff;border: 1px dotted black;border-radius: 0.25em;box-sizing: border-box;margin-bottom: 0.5em;}#sk-container-id-1 div.sk-estimator:hover {background-color: #d4ebff;}#sk-container-id-1 div.sk-parallel-item::after {content: \"\";width: 100%;border-bottom: 1px solid gray;flex-grow: 1;}#sk-container-id-1 div.sk-label:hover label.sk-toggleable__label {background-color: #d4ebff;}#sk-container-id-1 div.sk-serial::before {content: \"\";position: absolute;border-left: 1px solid gray;box-sizing: border-box;top: 0;bottom: 0;left: 50%;z-index: 0;}#sk-container-id-1 div.sk-serial {display: flex;flex-direction: column;align-items: center;background-color: white;padding-right: 0.2em;padding-left: 0.2em;position: relative;}#sk-container-id-1 div.sk-item {position: relative;z-index: 1;}#sk-container-id-1 div.sk-parallel {display: flex;align-items: stretch;justify-content: center;background-color: white;position: relative;}#sk-container-id-1 div.sk-item::before, #sk-container-id-1 div.sk-parallel-item::before {content: \"\";position: absolute;border-left: 1px solid gray;box-sizing: border-box;top: 0;bottom: 0;left: 50%;z-index: -1;}#sk-container-id-1 div.sk-parallel-item {display: flex;flex-direction: column;z-index: 1;position: relative;background-color: white;}#sk-container-id-1 div.sk-parallel-item:first-child::after {align-self: flex-end;width: 50%;}#sk-container-id-1 div.sk-parallel-item:last-child::after {align-self: flex-start;width: 50%;}#sk-container-id-1 div.sk-parallel-item:only-child::after {width: 0;}#sk-container-id-1 div.sk-dashed-wrapped {border: 1px dashed gray;margin: 0 0.4em 0.5em 0.4em;box-sizing: border-box;padding-bottom: 0.4em;background-color: white;}#sk-container-id-1 div.sk-label label {font-family: monospace;font-weight: bold;display: inline-block;line-height: 1.2em;}#sk-container-id-1 div.sk-label-container {text-align: center;}#sk-container-id-1 div.sk-container {/* jupyter's `normalize.less` sets `[hidden] { display: none; }` but bootstrap.min.css set `[hidden] { display: none !important; }` so we also need the `!important` here to be able to override the default hidden behavior on the sphinx rendered scikit-learn.org. See: https://github.com/scikit-learn/scikit-learn/issues/21755 */display: inline-block !important;position: relative;}#sk-container-id-1 div.sk-text-repr-fallback {display: none;}</style><div id=\"sk-container-id-1\" class=\"sk-top-container\"><div class=\"sk-text-repr-fallback\"><pre>GridSearchCV(cv=10, estimator=DecisionTreeRegressor(),\n",
       "             param_grid={&#x27;ccp_alpha&#x27;: array([0.00e+00, 5.00e-05, 1.00e-04, 1.50e-04, 2.00e-04, 2.50e-04,\n",
       "       3.00e-04, 3.50e-04, 4.00e-04, 4.50e-04, 5.00e-04, 5.50e-04,\n",
       "       6.00e-04, 6.50e-04, 7.00e-04, 7.50e-04, 8.00e-04, 8.50e-04,\n",
       "       9.00e-04, 9.50e-04, 1.00e-03, 1.05e-03, 1.10e-03, 1.15e-03,\n",
       "       1.20e-03, 1.25e-03, 1.30e-03, 1.35e-03, 1.40e-03, 1.45e...\n",
       "       8.70e-03, 8.75e-03, 8.80e-03, 8.85e-03, 8.90e-03, 8.95e-03,\n",
       "       9.00e-03, 9.05e-03, 9.10e-03, 9.15e-03, 9.20e-03, 9.25e-03,\n",
       "       9.30e-03, 9.35e-03, 9.40e-03, 9.45e-03, 9.50e-03, 9.55e-03,\n",
       "       9.60e-03, 9.65e-03, 9.70e-03, 9.75e-03, 9.80e-03, 9.85e-03,\n",
       "       9.90e-03, 9.95e-03, 1.00e-02]),\n",
       "                         &#x27;max_depth&#x27;: [10], &#x27;min_samples_leaf&#x27;: [5],\n",
       "                         &#x27;min_samples_split&#x27;: [20], &#x27;random_state&#x27;: [88]},\n",
       "             scoring=make_scorer(mean_squared_error), verbose=1)</pre><b>In a Jupyter environment, please rerun this cell to show the HTML representation or trust the notebook. <br />On GitHub, the HTML representation is unable to render, please try loading this page with nbviewer.org.</b></div><div class=\"sk-container\" hidden><div class=\"sk-item sk-dashed-wrapped\"><div class=\"sk-label-container\"><div class=\"sk-label sk-toggleable\"><input class=\"sk-toggleable__control sk-hidden--visually\" id=\"sk-estimator-id-1\" type=\"checkbox\" ><label for=\"sk-estimator-id-1\" class=\"sk-toggleable__label sk-toggleable__label-arrow\">GridSearchCV</label><div class=\"sk-toggleable__content\"><pre>GridSearchCV(cv=10, estimator=DecisionTreeRegressor(),\n",
       "             param_grid={&#x27;ccp_alpha&#x27;: array([0.00e+00, 5.00e-05, 1.00e-04, 1.50e-04, 2.00e-04, 2.50e-04,\n",
       "       3.00e-04, 3.50e-04, 4.00e-04, 4.50e-04, 5.00e-04, 5.50e-04,\n",
       "       6.00e-04, 6.50e-04, 7.00e-04, 7.50e-04, 8.00e-04, 8.50e-04,\n",
       "       9.00e-04, 9.50e-04, 1.00e-03, 1.05e-03, 1.10e-03, 1.15e-03,\n",
       "       1.20e-03, 1.25e-03, 1.30e-03, 1.35e-03, 1.40e-03, 1.45e...\n",
       "       8.70e-03, 8.75e-03, 8.80e-03, 8.85e-03, 8.90e-03, 8.95e-03,\n",
       "       9.00e-03, 9.05e-03, 9.10e-03, 9.15e-03, 9.20e-03, 9.25e-03,\n",
       "       9.30e-03, 9.35e-03, 9.40e-03, 9.45e-03, 9.50e-03, 9.55e-03,\n",
       "       9.60e-03, 9.65e-03, 9.70e-03, 9.75e-03, 9.80e-03, 9.85e-03,\n",
       "       9.90e-03, 9.95e-03, 1.00e-02]),\n",
       "                         &#x27;max_depth&#x27;: [10], &#x27;min_samples_leaf&#x27;: [5],\n",
       "                         &#x27;min_samples_split&#x27;: [20], &#x27;random_state&#x27;: [88]},\n",
       "             scoring=make_scorer(mean_squared_error), verbose=1)</pre></div></div></div><div class=\"sk-parallel\"><div class=\"sk-parallel-item\"><div class=\"sk-item\"><div class=\"sk-label-container\"><div class=\"sk-label sk-toggleable\"><input class=\"sk-toggleable__control sk-hidden--visually\" id=\"sk-estimator-id-2\" type=\"checkbox\" ><label for=\"sk-estimator-id-2\" class=\"sk-toggleable__label sk-toggleable__label-arrow\">estimator: DecisionTreeRegressor</label><div class=\"sk-toggleable__content\"><pre>DecisionTreeRegressor()</pre></div></div></div><div class=\"sk-serial\"><div class=\"sk-item\"><div class=\"sk-estimator sk-toggleable\"><input class=\"sk-toggleable__control sk-hidden--visually\" id=\"sk-estimator-id-3\" type=\"checkbox\" ><label for=\"sk-estimator-id-3\" class=\"sk-toggleable__label sk-toggleable__label-arrow\">DecisionTreeRegressor</label><div class=\"sk-toggleable__content\"><pre>DecisionTreeRegressor()</pre></div></div></div></div></div></div></div></div></div></div>"
      ],
      "text/plain": [
       "GridSearchCV(cv=10, estimator=DecisionTreeRegressor(),\n",
       "             param_grid={'ccp_alpha': array([0.00e+00, 5.00e-05, 1.00e-04, 1.50e-04, 2.00e-04, 2.50e-04,\n",
       "       3.00e-04, 3.50e-04, 4.00e-04, 4.50e-04, 5.00e-04, 5.50e-04,\n",
       "       6.00e-04, 6.50e-04, 7.00e-04, 7.50e-04, 8.00e-04, 8.50e-04,\n",
       "       9.00e-04, 9.50e-04, 1.00e-03, 1.05e-03, 1.10e-03, 1.15e-03,\n",
       "       1.20e-03, 1.25e-03, 1.30e-03, 1.35e-03, 1.40e-03, 1.45e...\n",
       "       8.70e-03, 8.75e-03, 8.80e-03, 8.85e-03, 8.90e-03, 8.95e-03,\n",
       "       9.00e-03, 9.05e-03, 9.10e-03, 9.15e-03, 9.20e-03, 9.25e-03,\n",
       "       9.30e-03, 9.35e-03, 9.40e-03, 9.45e-03, 9.50e-03, 9.55e-03,\n",
       "       9.60e-03, 9.65e-03, 9.70e-03, 9.75e-03, 9.80e-03, 9.85e-03,\n",
       "       9.90e-03, 9.95e-03, 1.00e-02]),\n",
       "                         'max_depth': [10], 'min_samples_leaf': [5],\n",
       "                         'min_samples_split': [20], 'random_state': [88]},\n",
       "             scoring=make_scorer(mean_squared_error), verbose=1)"
      ]
     },
     "execution_count": 83,
     "metadata": {},
     "output_type": "execute_result"
    }
   ],
   "source": [
    "dtc = DecisionTreeRegressor()\n",
    "\n",
    "grid_values = {'ccp_alpha': np.linspace(0, 0.010, 201),\n",
    "              'min_samples_leaf': [5],\n",
    "              'min_samples_split': [20],\n",
    "              'max_depth': [10],\n",
    "              'random_state': [88]}\n",
    "dec_tree_cv = GridSearchCV(dtc, param_grid = grid_values, scoring = mse, cv = 10, verbose = 1)\n",
    "dec_tree_cv.fit(x_train, y_train)"
   ]
  },
  {
   "cell_type": "code",
   "execution_count": 84,
   "id": "ca7adfa5-bc44-4b0a-a27e-a7124ba411b9",
   "metadata": {},
   "outputs": [
    {
     "data": {
      "text/plain": [
       "0.0"
      ]
     },
     "execution_count": 84,
     "metadata": {},
     "output_type": "execute_result"
    }
   ],
   "source": [
    "acc = dec_tree_cv.cv_results_['mean_test_score']\n",
    "ccp = dec_tree_cv.cv_results_['param_ccp_alpha'].data\n",
    "\n",
    "alpha_vals = pd.DataFrame({'ccp alpha' : ccp, 'Validation RMSE' : acc**.5})\n",
    "highest_acc = alpha_vals[alpha_vals['Validation RMSE'] == max(alpha_vals['Validation RMSE'])]\n",
    "best_alpha = highest_acc[['ccp alpha']].iloc[0,0]\n",
    "best_alpha"
   ]
  },
  {
   "cell_type": "code",
   "execution_count": 85,
   "id": "f53385f0-e3a1-4735-bd60-82f7f9f5a3ac",
   "metadata": {},
   "outputs": [
    {
     "name": "stdout",
     "output_type": "stream",
     "text": [
      "RMSE on training:  28226066.796059974\n",
      "RMSE on testing:  70093476.36811893\n"
     ]
    }
   ],
   "source": [
    "y_pred_train = dec_tree_cv.best_estimator_.predict(x_train)\n",
    "train_rmse = np.sqrt(mean_squared_error(y_train, y_pred_train))\n",
    "print('RMSE on training: ', train_rmse)\n",
    "\n",
    "y_pred_test = dec_tree_cv.best_estimator_.predict(x_test)\n",
    "test_rmse = np.sqrt(mean_squared_error(y_test, y_pred_test))\n",
    "print('RMSE on testing: ', test_rmse)"
   ]
  },
  {
   "cell_type": "markdown",
   "id": "4651ee1d-6d09-44a6-b0f4-05a210620839",
   "metadata": {},
   "source": [
    "# Decision Tree Classification"
   ]
  },
  {
   "cell_type": "code",
   "execution_count": 82,
   "id": "9dcb1f2f-8b1a-4f99-8493-2eda62643ba5",
   "metadata": {},
   "outputs": [],
   "source": [
    "x_train = train[['belongs_to_collection', 'popularity', 'revenue', 'runtime', 'vote_average', 'vote_count', 'Year', 'Genre_Drama', 'Genre_Documentary', 'Genre_Comedy', 'Genre_Action', 'Genre_Animation']]\n",
    "x_test = test[['belongs_to_collection', 'popularity', 'revenue', 'runtime', 'vote_average', 'vote_count', 'Year', 'Genre_Drama', 'Genre_Documentary', 'Genre_Comedy', 'Genre_Action', 'Genre_Animation']]\n",
    "y_train = train[\"Nominated\"]\n",
    "y_test = test['Nominated']"
   ]
  },
  {
   "cell_type": "code",
   "execution_count": 83,
   "id": "8f3ab3bb-39a0-4741-bd73-2ee2a43dd620",
   "metadata": {},
   "outputs": [
    {
     "name": "stdout",
     "output_type": "stream",
     "text": [
      "Fitting 10 folds for each of 201 candidates, totalling 2010 fits\n"
     ]
    },
    {
     "data": {
      "text/html": [
       "<style>#sk-container-id-1 {color: black;background-color: white;}#sk-container-id-1 pre{padding: 0;}#sk-container-id-1 div.sk-toggleable {background-color: white;}#sk-container-id-1 label.sk-toggleable__label {cursor: pointer;display: block;width: 100%;margin-bottom: 0;padding: 0.3em;box-sizing: border-box;text-align: center;}#sk-container-id-1 label.sk-toggleable__label-arrow:before {content: \"▸\";float: left;margin-right: 0.25em;color: #696969;}#sk-container-id-1 label.sk-toggleable__label-arrow:hover:before {color: black;}#sk-container-id-1 div.sk-estimator:hover label.sk-toggleable__label-arrow:before {color: black;}#sk-container-id-1 div.sk-toggleable__content {max-height: 0;max-width: 0;overflow: hidden;text-align: left;background-color: #f0f8ff;}#sk-container-id-1 div.sk-toggleable__content pre {margin: 0.2em;color: black;border-radius: 0.25em;background-color: #f0f8ff;}#sk-container-id-1 input.sk-toggleable__control:checked~div.sk-toggleable__content {max-height: 200px;max-width: 100%;overflow: auto;}#sk-container-id-1 input.sk-toggleable__control:checked~label.sk-toggleable__label-arrow:before {content: \"▾\";}#sk-container-id-1 div.sk-estimator input.sk-toggleable__control:checked~label.sk-toggleable__label {background-color: #d4ebff;}#sk-container-id-1 div.sk-label input.sk-toggleable__control:checked~label.sk-toggleable__label {background-color: #d4ebff;}#sk-container-id-1 input.sk-hidden--visually {border: 0;clip: rect(1px 1px 1px 1px);clip: rect(1px, 1px, 1px, 1px);height: 1px;margin: -1px;overflow: hidden;padding: 0;position: absolute;width: 1px;}#sk-container-id-1 div.sk-estimator {font-family: monospace;background-color: #f0f8ff;border: 1px dotted black;border-radius: 0.25em;box-sizing: border-box;margin-bottom: 0.5em;}#sk-container-id-1 div.sk-estimator:hover {background-color: #d4ebff;}#sk-container-id-1 div.sk-parallel-item::after {content: \"\";width: 100%;border-bottom: 1px solid gray;flex-grow: 1;}#sk-container-id-1 div.sk-label:hover label.sk-toggleable__label {background-color: #d4ebff;}#sk-container-id-1 div.sk-serial::before {content: \"\";position: absolute;border-left: 1px solid gray;box-sizing: border-box;top: 0;bottom: 0;left: 50%;z-index: 0;}#sk-container-id-1 div.sk-serial {display: flex;flex-direction: column;align-items: center;background-color: white;padding-right: 0.2em;padding-left: 0.2em;position: relative;}#sk-container-id-1 div.sk-item {position: relative;z-index: 1;}#sk-container-id-1 div.sk-parallel {display: flex;align-items: stretch;justify-content: center;background-color: white;position: relative;}#sk-container-id-1 div.sk-item::before, #sk-container-id-1 div.sk-parallel-item::before {content: \"\";position: absolute;border-left: 1px solid gray;box-sizing: border-box;top: 0;bottom: 0;left: 50%;z-index: -1;}#sk-container-id-1 div.sk-parallel-item {display: flex;flex-direction: column;z-index: 1;position: relative;background-color: white;}#sk-container-id-1 div.sk-parallel-item:first-child::after {align-self: flex-end;width: 50%;}#sk-container-id-1 div.sk-parallel-item:last-child::after {align-self: flex-start;width: 50%;}#sk-container-id-1 div.sk-parallel-item:only-child::after {width: 0;}#sk-container-id-1 div.sk-dashed-wrapped {border: 1px dashed gray;margin: 0 0.4em 0.5em 0.4em;box-sizing: border-box;padding-bottom: 0.4em;background-color: white;}#sk-container-id-1 div.sk-label label {font-family: monospace;font-weight: bold;display: inline-block;line-height: 1.2em;}#sk-container-id-1 div.sk-label-container {text-align: center;}#sk-container-id-1 div.sk-container {/* jupyter's `normalize.less` sets `[hidden] { display: none; }` but bootstrap.min.css set `[hidden] { display: none !important; }` so we also need the `!important` here to be able to override the default hidden behavior on the sphinx rendered scikit-learn.org. See: https://github.com/scikit-learn/scikit-learn/issues/21755 */display: inline-block !important;position: relative;}#sk-container-id-1 div.sk-text-repr-fallback {display: none;}</style><div id=\"sk-container-id-1\" class=\"sk-top-container\"><div class=\"sk-text-repr-fallback\"><pre>GridSearchCV(cv=10, estimator=DecisionTreeClassifier(),\n",
       "             param_grid={&#x27;ccp_alpha&#x27;: array([0.00e+00, 5.00e-05, 1.00e-04, 1.50e-04, 2.00e-04, 2.50e-04,\n",
       "       3.00e-04, 3.50e-04, 4.00e-04, 4.50e-04, 5.00e-04, 5.50e-04,\n",
       "       6.00e-04, 6.50e-04, 7.00e-04, 7.50e-04, 8.00e-04, 8.50e-04,\n",
       "       9.00e-04, 9.50e-04, 1.00e-03, 1.05e-03, 1.10e-03, 1.15e-03,\n",
       "       1.20e-03, 1.25e-03, 1.30e-03, 1.35e-03, 1.40e-03, 1.45...\n",
       "       8.70e-03, 8.75e-03, 8.80e-03, 8.85e-03, 8.90e-03, 8.95e-03,\n",
       "       9.00e-03, 9.05e-03, 9.10e-03, 9.15e-03, 9.20e-03, 9.25e-03,\n",
       "       9.30e-03, 9.35e-03, 9.40e-03, 9.45e-03, 9.50e-03, 9.55e-03,\n",
       "       9.60e-03, 9.65e-03, 9.70e-03, 9.75e-03, 9.80e-03, 9.85e-03,\n",
       "       9.90e-03, 9.95e-03, 1.00e-02]),\n",
       "                         &#x27;max_depth&#x27;: [10], &#x27;min_samples_leaf&#x27;: [5],\n",
       "                         &#x27;min_samples_split&#x27;: [20], &#x27;random_state&#x27;: [88]},\n",
       "             scoring=&#x27;accuracy&#x27;, verbose=1)</pre><b>In a Jupyter environment, please rerun this cell to show the HTML representation or trust the notebook. <br />On GitHub, the HTML representation is unable to render, please try loading this page with nbviewer.org.</b></div><div class=\"sk-container\" hidden><div class=\"sk-item sk-dashed-wrapped\"><div class=\"sk-label-container\"><div class=\"sk-label sk-toggleable\"><input class=\"sk-toggleable__control sk-hidden--visually\" id=\"sk-estimator-id-1\" type=\"checkbox\" ><label for=\"sk-estimator-id-1\" class=\"sk-toggleable__label sk-toggleable__label-arrow\">GridSearchCV</label><div class=\"sk-toggleable__content\"><pre>GridSearchCV(cv=10, estimator=DecisionTreeClassifier(),\n",
       "             param_grid={&#x27;ccp_alpha&#x27;: array([0.00e+00, 5.00e-05, 1.00e-04, 1.50e-04, 2.00e-04, 2.50e-04,\n",
       "       3.00e-04, 3.50e-04, 4.00e-04, 4.50e-04, 5.00e-04, 5.50e-04,\n",
       "       6.00e-04, 6.50e-04, 7.00e-04, 7.50e-04, 8.00e-04, 8.50e-04,\n",
       "       9.00e-04, 9.50e-04, 1.00e-03, 1.05e-03, 1.10e-03, 1.15e-03,\n",
       "       1.20e-03, 1.25e-03, 1.30e-03, 1.35e-03, 1.40e-03, 1.45...\n",
       "       8.70e-03, 8.75e-03, 8.80e-03, 8.85e-03, 8.90e-03, 8.95e-03,\n",
       "       9.00e-03, 9.05e-03, 9.10e-03, 9.15e-03, 9.20e-03, 9.25e-03,\n",
       "       9.30e-03, 9.35e-03, 9.40e-03, 9.45e-03, 9.50e-03, 9.55e-03,\n",
       "       9.60e-03, 9.65e-03, 9.70e-03, 9.75e-03, 9.80e-03, 9.85e-03,\n",
       "       9.90e-03, 9.95e-03, 1.00e-02]),\n",
       "                         &#x27;max_depth&#x27;: [10], &#x27;min_samples_leaf&#x27;: [5],\n",
       "                         &#x27;min_samples_split&#x27;: [20], &#x27;random_state&#x27;: [88]},\n",
       "             scoring=&#x27;accuracy&#x27;, verbose=1)</pre></div></div></div><div class=\"sk-parallel\"><div class=\"sk-parallel-item\"><div class=\"sk-item\"><div class=\"sk-label-container\"><div class=\"sk-label sk-toggleable\"><input class=\"sk-toggleable__control sk-hidden--visually\" id=\"sk-estimator-id-2\" type=\"checkbox\" ><label for=\"sk-estimator-id-2\" class=\"sk-toggleable__label sk-toggleable__label-arrow\">estimator: DecisionTreeClassifier</label><div class=\"sk-toggleable__content\"><pre>DecisionTreeClassifier()</pre></div></div></div><div class=\"sk-serial\"><div class=\"sk-item\"><div class=\"sk-estimator sk-toggleable\"><input class=\"sk-toggleable__control sk-hidden--visually\" id=\"sk-estimator-id-3\" type=\"checkbox\" ><label for=\"sk-estimator-id-3\" class=\"sk-toggleable__label sk-toggleable__label-arrow\">DecisionTreeClassifier</label><div class=\"sk-toggleable__content\"><pre>DecisionTreeClassifier()</pre></div></div></div></div></div></div></div></div></div></div>"
      ],
      "text/plain": [
       "GridSearchCV(cv=10, estimator=DecisionTreeClassifier(),\n",
       "             param_grid={'ccp_alpha': array([0.00e+00, 5.00e-05, 1.00e-04, 1.50e-04, 2.00e-04, 2.50e-04,\n",
       "       3.00e-04, 3.50e-04, 4.00e-04, 4.50e-04, 5.00e-04, 5.50e-04,\n",
       "       6.00e-04, 6.50e-04, 7.00e-04, 7.50e-04, 8.00e-04, 8.50e-04,\n",
       "       9.00e-04, 9.50e-04, 1.00e-03, 1.05e-03, 1.10e-03, 1.15e-03,\n",
       "       1.20e-03, 1.25e-03, 1.30e-03, 1.35e-03, 1.40e-03, 1.45...\n",
       "       8.70e-03, 8.75e-03, 8.80e-03, 8.85e-03, 8.90e-03, 8.95e-03,\n",
       "       9.00e-03, 9.05e-03, 9.10e-03, 9.15e-03, 9.20e-03, 9.25e-03,\n",
       "       9.30e-03, 9.35e-03, 9.40e-03, 9.45e-03, 9.50e-03, 9.55e-03,\n",
       "       9.60e-03, 9.65e-03, 9.70e-03, 9.75e-03, 9.80e-03, 9.85e-03,\n",
       "       9.90e-03, 9.95e-03, 1.00e-02]),\n",
       "                         'max_depth': [10], 'min_samples_leaf': [5],\n",
       "                         'min_samples_split': [20], 'random_state': [88]},\n",
       "             scoring='accuracy', verbose=1)"
      ]
     },
     "execution_count": 83,
     "metadata": {},
     "output_type": "execute_result"
    }
   ],
   "source": [
    "dtc = DecisionTreeClassifier()\n",
    "\n",
    "grid_values = {'ccp_alpha': np.linspace(0, 0.010, 201),\n",
    "              'min_samples_leaf': [5],\n",
    "              'min_samples_split': [20],\n",
    "              'max_depth': [10],\n",
    "              'random_state': [88]}\n",
    "dec_tree_cv = GridSearchCV(dtc, param_grid = grid_values, scoring = 'accuracy', cv = 10, verbose = 1)\n",
    "dec_tree_cv.fit(x_train, y_train)"
   ]
  },
  {
   "cell_type": "code",
   "execution_count": 84,
   "id": "15039db5-3ef6-485d-8240-96c679220d62",
   "metadata": {},
   "outputs": [
    {
     "data": {
      "text/plain": [
       "0.00235"
      ]
     },
     "execution_count": 84,
     "metadata": {},
     "output_type": "execute_result"
    }
   ],
   "source": [
    "acc = dec_tree_cv.cv_results_['mean_test_score']\n",
    "ccp = dec_tree_cv.cv_results_['param_ccp_alpha'].data\n",
    "\n",
    "alpha_vals = pd.DataFrame({'ccp alpha' : ccp, 'Validation Accuracy' : acc})\n",
    "highest_acc = alpha_vals[alpha_vals['Validation Accuracy'] == max(alpha_vals['Validation Accuracy'])]\n",
    "best_alpha = highest_acc[['ccp alpha']].iloc[0,0]\n",
    "best_alpha"
   ]
  },
  {
   "cell_type": "code",
   "execution_count": 85,
   "id": "a064f1e7-bc38-4efb-aa65-ed77d2c3357e",
   "metadata": {},
   "outputs": [
    {
     "name": "stdout",
     "output_type": "stream",
     "text": [
      "Accuracy on training:  0.8969087197433654\n",
      "Accuracy on testing:  0.9371069182389937\n"
     ]
    }
   ],
   "source": [
    "y_pred_train = dec_tree_cv.best_estimator_.predict(x_train)\n",
    "train_accuracy = accuracy_score(y_train, y_pred_train)\n",
    "print('Accuracy on training: ', train_accuracy)\n",
    "\n",
    "y_pred_test = dec_tree_cv.best_estimator_.predict(x_test)\n",
    "test_accuracy = accuracy_score(y_test, y_pred_test)\n",
    "print('Accuracy on testing: ', test_accuracy)"
   ]
  },
  {
   "cell_type": "code",
   "execution_count": 87,
   "id": "935ba080-162d-4086-a65b-cade48de2923",
   "metadata": {},
   "outputs": [
    {
     "data": {
      "text/html": [
       "<div>\n",
       "<style scoped>\n",
       "    .dataframe tbody tr th:only-of-type {\n",
       "        vertical-align: middle;\n",
       "    }\n",
       "\n",
       "    .dataframe tbody tr th {\n",
       "        vertical-align: top;\n",
       "    }\n",
       "\n",
       "    .dataframe thead th {\n",
       "        text-align: right;\n",
       "    }\n",
       "</style>\n",
       "<table border=\"1\" class=\"dataframe\">\n",
       "  <thead>\n",
       "    <tr style=\"text-align: right;\">\n",
       "      <th></th>\n",
       "      <th>Index</th>\n",
       "      <th>Oscar_Nominated_DecisionTree</th>\n",
       "    </tr>\n",
       "  </thead>\n",
       "  <tbody>\n",
       "    <tr>\n",
       "      <th>0</th>\n",
       "      <td>4208</td>\n",
       "      <td>False</td>\n",
       "    </tr>\n",
       "    <tr>\n",
       "      <th>1</th>\n",
       "      <td>4406</td>\n",
       "      <td>True</td>\n",
       "    </tr>\n",
       "    <tr>\n",
       "      <th>2</th>\n",
       "      <td>4422</td>\n",
       "      <td>True</td>\n",
       "    </tr>\n",
       "    <tr>\n",
       "      <th>3</th>\n",
       "      <td>4426</td>\n",
       "      <td>False</td>\n",
       "    </tr>\n",
       "    <tr>\n",
       "      <th>4</th>\n",
       "      <td>4490</td>\n",
       "      <td>False</td>\n",
       "    </tr>\n",
       "  </tbody>\n",
       "</table>\n",
       "</div>"
      ],
      "text/plain": [
       "   Index  Oscar_Nominated_DecisionTree\n",
       "0   4208                         False\n",
       "1   4406                          True\n",
       "2   4422                          True\n",
       "3   4426                         False\n",
       "4   4490                         False"
      ]
     },
     "execution_count": 87,
     "metadata": {},
     "output_type": "execute_result"
    }
   ],
   "source": [
    "indices = c_xte.index\n",
    "\n",
    "y_pred_res = y_pred_test.astype('bool')\n",
    "frame = {'Index':indices, 'Oscar_Nominated_DecisionTree':y_pred_res}\n",
    "dec_tree_result = pd.DataFrame(frame)\n",
    "dec_tree_result.head()"
   ]
  },
  {
   "cell_type": "code",
   "execution_count": 88,
   "id": "b56e48a8-c496-4f05-af67-2e2f1c31a274",
   "metadata": {},
   "outputs": [],
   "source": [
    "dec_tree_result.to_csv('DecisionTreePredictions.csv', index=False)"
   ]
  },
  {
   "cell_type": "markdown",
   "id": "ceda9058-4eaf-4f99-8e81-5914e1a67b4b",
   "metadata": {},
   "source": [
    "# Random Forest"
   ]
  },
  {
   "cell_type": "code",
   "execution_count": 86,
   "id": "ca5a2c73-c093-4091-8dc3-b52de5487244",
   "metadata": {},
   "outputs": [],
   "source": [
    "train = movies_dummy[movies_dummy['Year'] <= 2000].drop_duplicates()\n",
    "test = movies_dummy[movies_dummy['Year'] > 2000].drop_duplicates()"
   ]
  },
  {
   "cell_type": "markdown",
   "id": "8588c97b-3377-4789-9e40-92b278f44f95",
   "metadata": {},
   "source": [
    "## Random Forest Regression"
   ]
  },
  {
   "cell_type": "code",
   "execution_count": 423,
   "id": "ec570042-8cda-4441-96a5-c376085f6518",
   "metadata": {},
   "outputs": [],
   "source": [
    "x_train = train[['IMDB_Score', 'belongs_to_collection', 'budget', 'popularity', 'vote_count', 'Genre_Crime', 'Nominated', 'Winner']]\n",
    "x_test = test[['IMDB_Score', 'belongs_to_collection', 'budget', 'popularity', 'vote_count', 'Genre_Crime', 'Nominated', 'Winner']]\n",
    "y_train = train[\"revenue\"]\n",
    "y_test = test['revenue']"
   ]
  },
  {
   "cell_type": "code",
   "execution_count": 425,
   "id": "0f905d87-42c3-4d57-bbd4-0beb9f5f0cf6",
   "metadata": {},
   "outputs": [],
   "source": [
    "grid_values = {'max_features': np.linspace(1,8,8, dtype='int32'),\n",
    "               'min_samples_leaf': [5],\n",
    "               'n_estimators': [500],\n",
    "               'random_state': [88]} \n",
    "\n",
    "rf = RandomForestRegressor()   \n",
    "rf_cv = GridSearchCV(rf, param_grid=grid_values, scoring= mse, cv=10,verbose=0).fit(x_train, y_train)"
   ]
  },
  {
   "cell_type": "code",
   "execution_count": 428,
   "id": "79a1e66f-9177-4048-b700-285850901f98",
   "metadata": {},
   "outputs": [
    {
     "name": "stdout",
     "output_type": "stream",
     "text": [
      "RMSE on training:  30170832.59798435\n",
      "RMSE on testing:  75727885.79247136\n"
     ]
    }
   ],
   "source": [
    "rf_crf_best_model = RandomForestRegressor(max_features = rf_cv.best_params_['max_features'], min_samples_leaf=5, \n",
    "                           n_estimators = 500, random_state=88, verbose=0).fit(x_train, y_train)\n",
    "y_pred_train = rf_crf_best_model.predict(x_train)\n",
    "train_rmse = np.sqrt(mean_squared_error(y_train, y_pred_train))\n",
    "print('RMSE on training: ', train_rmse)\n",
    "\n",
    "y_pred_test = rf_crf_best_model.predict(x_test)\n",
    "test_rmse = np.sqrt(mean_squared_error(y_test, y_pred_test))\n",
    "print('RMSE on testing: ', test_rmse)"
   ]
  },
  {
   "cell_type": "markdown",
   "id": "862cfbba-3e3d-48cd-95d7-a1ab800faf8a",
   "metadata": {},
   "source": [
    "## Random Forest Classification"
   ]
  },
  {
   "cell_type": "code",
   "execution_count": 91,
   "id": "7db716f6-deb5-4287-acb0-5b93f0a62880",
   "metadata": {},
   "outputs": [],
   "source": [
    "x_train = train[['belongs_to_collection', 'popularity', 'revenue', 'runtime', 'vote_average', 'vote_count', 'Year', 'Genre_Drama', 'Genre_Documentary', 'Genre_Comedy', 'Genre_Action', 'Genre_Animation']]\n",
    "x_test = test[['belongs_to_collection', 'popularity', 'revenue', 'runtime', 'vote_average', 'vote_count', 'Year', 'Genre_Drama', 'Genre_Documentary', 'Genre_Comedy', 'Genre_Action', 'Genre_Animation']]\n",
    "y_train = train[\"Nominated\"]\n",
    "y_test = test['Nominated']"
   ]
  },
  {
   "cell_type": "code",
   "execution_count": 92,
   "id": "3f59cbac-b114-4e1c-889d-2659fdb615d9",
   "metadata": {},
   "outputs": [],
   "source": [
    "grid_values = {'max_features': np.linspace(1,12,12, dtype='int32'),\n",
    "               'min_samples_leaf': [5],\n",
    "               'n_estimators': [500],\n",
    "               'random_state': [88]} \n",
    "\n",
    "rf2 = RandomForestClassifier()   \n",
    "rf_cv = GridSearchCV(rf2, param_grid=grid_values, scoring='accuracy', cv=10,verbose=0).fit(x_train, y_train)"
   ]
  },
  {
   "cell_type": "code",
   "execution_count": 93,
   "id": "f9904155-f4c4-4841-a143-0a82b5b7ddcf",
   "metadata": {},
   "outputs": [
    {
     "name": "stdout",
     "output_type": "stream",
     "text": [
      "Accuracy on testing:  0.9582618639222413\n"
     ]
    }
   ],
   "source": [
    "rf_crf_best_model = RandomForestClassifier(max_features = rf_cv.best_params_['max_features'], min_samples_leaf=5, \n",
    "                           n_estimators = 500, random_state=88, verbose=0)\n",
    "rf_crf_best_model.fit(x_train, y_train)\n",
    "rf_crf_pred = rf_crf_best_model.predict(x_test)\n",
    "model_2e_acc = sum(rf_crf_pred == y_test) / len(y_test)\n",
    "print('Accuracy on testing: ', model_2e_acc)"
   ]
  },
  {
   "cell_type": "code",
   "execution_count": 99,
   "id": "ed9cb368-fb93-4eaf-b6b5-07271c302535",
   "metadata": {},
   "outputs": [
    {
     "data": {
      "text/html": [
       "<div>\n",
       "<style scoped>\n",
       "    .dataframe tbody tr th:only-of-type {\n",
       "        vertical-align: middle;\n",
       "    }\n",
       "\n",
       "    .dataframe tbody tr th {\n",
       "        vertical-align: top;\n",
       "    }\n",
       "\n",
       "    .dataframe thead th {\n",
       "        text-align: right;\n",
       "    }\n",
       "</style>\n",
       "<table border=\"1\" class=\"dataframe\">\n",
       "  <thead>\n",
       "    <tr style=\"text-align: right;\">\n",
       "      <th></th>\n",
       "      <th>Index</th>\n",
       "      <th>Oscar_Nominated_RandomForest</th>\n",
       "    </tr>\n",
       "  </thead>\n",
       "  <tbody>\n",
       "    <tr>\n",
       "      <th>0</th>\n",
       "      <td>4208</td>\n",
       "      <td>False</td>\n",
       "    </tr>\n",
       "    <tr>\n",
       "      <th>1</th>\n",
       "      <td>4406</td>\n",
       "      <td>False</td>\n",
       "    </tr>\n",
       "    <tr>\n",
       "      <th>2</th>\n",
       "      <td>4422</td>\n",
       "      <td>True</td>\n",
       "    </tr>\n",
       "    <tr>\n",
       "      <th>3</th>\n",
       "      <td>4426</td>\n",
       "      <td>False</td>\n",
       "    </tr>\n",
       "    <tr>\n",
       "      <th>4</th>\n",
       "      <td>4490</td>\n",
       "      <td>False</td>\n",
       "    </tr>\n",
       "  </tbody>\n",
       "</table>\n",
       "</div>"
      ],
      "text/plain": [
       "   Index  Oscar_Nominated_RandomForest\n",
       "0   4208                         False\n",
       "1   4406                         False\n",
       "2   4422                          True\n",
       "3   4426                         False\n",
       "4   4490                         False"
      ]
     },
     "execution_count": 99,
     "metadata": {},
     "output_type": "execute_result"
    }
   ],
   "source": [
    "indices = c_xte.index\n",
    "\n",
    "y_pred_res = rf_crf_pred.astype('bool')\n",
    "frame = {'Index':indices, 'Oscar_Nominated_RandomForest':y_pred_res}\n",
    "rf_result = pd.DataFrame(frame)\n",
    "rf_result.head()"
   ]
  },
  {
   "cell_type": "code",
   "execution_count": 100,
   "id": "2376825b-fc8c-4217-bde0-e26fc5d878bf",
   "metadata": {},
   "outputs": [],
   "source": [
    "rf_result.to_csv('RFPredictions.csv', index=False)"
   ]
  },
  {
   "cell_type": "markdown",
   "id": "23bf0f49-6acb-4c04-bd5f-5f1c1176d6d9",
   "metadata": {},
   "source": [
    "# Ensemble "
   ]
  },
  {
   "cell_type": "code",
   "execution_count": 88,
   "id": "b18a6ab3-66e6-41ca-b05c-4fefd176ba5e",
   "metadata": {},
   "outputs": [],
   "source": [
    "train = movies_dummy[movies_dummy['Year'] <= 2000].drop_duplicates()\n",
    "test = movies_dummy[movies_dummy['Year'] > 2000].drop_duplicates()"
   ]
  },
  {
   "cell_type": "code",
   "execution_count": 89,
   "id": "bf2b2609-deb3-453f-a445-e0bf7de79054",
   "metadata": {},
   "outputs": [],
   "source": [
    "decision_tree_preds = pd.read_csv(\"DecisionTreePredictions.csv\")\n",
    "logistic_preds = pd.read_csv(\"LogisticPredictions.csv\")\n",
    "rf_preds = pd.read_csv(\"RFPredictions.csv\")"
   ]
  },
  {
   "cell_type": "code",
   "execution_count": 90,
   "id": "cf634872-7508-47e1-884e-07941656587a",
   "metadata": {},
   "outputs": [
    {
     "data": {
      "text/html": [
       "<div>\n",
       "<style scoped>\n",
       "    .dataframe tbody tr th:only-of-type {\n",
       "        vertical-align: middle;\n",
       "    }\n",
       "\n",
       "    .dataframe tbody tr th {\n",
       "        vertical-align: top;\n",
       "    }\n",
       "\n",
       "    .dataframe thead th {\n",
       "        text-align: right;\n",
       "    }\n",
       "</style>\n",
       "<table border=\"1\" class=\"dataframe\">\n",
       "  <thead>\n",
       "    <tr style=\"text-align: right;\">\n",
       "      <th></th>\n",
       "      <th>Index</th>\n",
       "      <th>OscarNominated_DecisionTree</th>\n",
       "      <th>OscarNominated_NeuralNetwork</th>\n",
       "      <th>OscarNominated_Logistic</th>\n",
       "      <th>Mean</th>\n",
       "      <th>OscarNominated</th>\n",
       "    </tr>\n",
       "  </thead>\n",
       "  <tbody>\n",
       "    <tr>\n",
       "      <th>0</th>\n",
       "      <td>4208</td>\n",
       "      <td>False</td>\n",
       "      <td>False</td>\n",
       "      <td>False</td>\n",
       "      <td>0.000000</td>\n",
       "      <td>False</td>\n",
       "    </tr>\n",
       "    <tr>\n",
       "      <th>1</th>\n",
       "      <td>4406</td>\n",
       "      <td>True</td>\n",
       "      <td>False</td>\n",
       "      <td>False</td>\n",
       "      <td>0.333333</td>\n",
       "      <td>False</td>\n",
       "    </tr>\n",
       "    <tr>\n",
       "      <th>2</th>\n",
       "      <td>4422</td>\n",
       "      <td>True</td>\n",
       "      <td>True</td>\n",
       "      <td>False</td>\n",
       "      <td>0.333333</td>\n",
       "      <td>False</td>\n",
       "    </tr>\n",
       "    <tr>\n",
       "      <th>3</th>\n",
       "      <td>4426</td>\n",
       "      <td>False</td>\n",
       "      <td>False</td>\n",
       "      <td>False</td>\n",
       "      <td>0.000000</td>\n",
       "      <td>False</td>\n",
       "    </tr>\n",
       "    <tr>\n",
       "      <th>4</th>\n",
       "      <td>4490</td>\n",
       "      <td>False</td>\n",
       "      <td>False</td>\n",
       "      <td>False</td>\n",
       "      <td>0.000000</td>\n",
       "      <td>False</td>\n",
       "    </tr>\n",
       "    <tr>\n",
       "      <th>...</th>\n",
       "      <td>...</td>\n",
       "      <td>...</td>\n",
       "      <td>...</td>\n",
       "      <td>...</td>\n",
       "      <td>...</td>\n",
       "      <td>...</td>\n",
       "    </tr>\n",
       "    <tr>\n",
       "      <th>5242</th>\n",
       "      <td>42265</td>\n",
       "      <td>False</td>\n",
       "      <td>False</td>\n",
       "      <td>False</td>\n",
       "      <td>0.000000</td>\n",
       "      <td>False</td>\n",
       "    </tr>\n",
       "    <tr>\n",
       "      <th>5243</th>\n",
       "      <td>42271</td>\n",
       "      <td>False</td>\n",
       "      <td>False</td>\n",
       "      <td>False</td>\n",
       "      <td>0.000000</td>\n",
       "      <td>False</td>\n",
       "    </tr>\n",
       "    <tr>\n",
       "      <th>5244</th>\n",
       "      <td>42274</td>\n",
       "      <td>False</td>\n",
       "      <td>False</td>\n",
       "      <td>False</td>\n",
       "      <td>0.000000</td>\n",
       "      <td>False</td>\n",
       "    </tr>\n",
       "    <tr>\n",
       "      <th>5245</th>\n",
       "      <td>42276</td>\n",
       "      <td>False</td>\n",
       "      <td>False</td>\n",
       "      <td>False</td>\n",
       "      <td>0.000000</td>\n",
       "      <td>False</td>\n",
       "    </tr>\n",
       "    <tr>\n",
       "      <th>5246</th>\n",
       "      <td>44490</td>\n",
       "      <td>False</td>\n",
       "      <td>False</td>\n",
       "      <td>False</td>\n",
       "      <td>0.000000</td>\n",
       "      <td>False</td>\n",
       "    </tr>\n",
       "  </tbody>\n",
       "</table>\n",
       "<p>5247 rows × 6 columns</p>\n",
       "</div>"
      ],
      "text/plain": [
       "      Index  OscarNominated_DecisionTree  OscarNominated_NeuralNetwork  \\\n",
       "0      4208                        False                         False   \n",
       "1      4406                         True                         False   \n",
       "2      4422                         True                          True   \n",
       "3      4426                        False                         False   \n",
       "4      4490                        False                         False   \n",
       "...     ...                          ...                           ...   \n",
       "5242  42265                        False                         False   \n",
       "5243  42271                        False                         False   \n",
       "5244  42274                        False                         False   \n",
       "5245  42276                        False                         False   \n",
       "5246  44490                        False                         False   \n",
       "\n",
       "      OscarNominated_Logistic      Mean  OscarNominated  \n",
       "0                       False  0.000000           False  \n",
       "1                       False  0.333333           False  \n",
       "2                       False  0.333333           False  \n",
       "3                       False  0.000000           False  \n",
       "4                       False  0.000000           False  \n",
       "...                       ...       ...             ...  \n",
       "5242                    False  0.000000           False  \n",
       "5243                    False  0.000000           False  \n",
       "5244                    False  0.000000           False  \n",
       "5245                    False  0.000000           False  \n",
       "5246                    False  0.000000           False  \n",
       "\n",
       "[5247 rows x 6 columns]"
      ]
     },
     "execution_count": 90,
     "metadata": {},
     "output_type": "execute_result"
    }
   ],
   "source": [
    "df = pd.DataFrame()\n",
    "df['Index'] = rf_preds['Index']\n",
    "df['OscarNominated_DecisionTree'] = decision_tree_preds['Oscar_Nominated_DecisionTree']\n",
    "df['OscarNominated_NeuralNetwork'] = rf_preds['Oscar_Nominated_RandomForest']\n",
    "df['OscarNominated_Logistic'] = logistic_preds['Oscar_Nominated_Logistic']\n",
    "df['Mean'] = (df['OscarNominated_DecisionTree'] + df['OscarNominated_NeuralNetwork'] + df['OscarNominated_Logistic']) / 3\n",
    "df['OscarNominated'] = [True if test > 0.5 else False for test in df['Mean']]\n",
    "df"
   ]
  },
  {
   "cell_type": "code",
   "execution_count": 91,
   "id": "5d143037-532f-47fe-b15a-c0bf0d61cb83",
   "metadata": {},
   "outputs": [
    {
     "data": {
      "text/html": [
       "<div>\n",
       "<style scoped>\n",
       "    .dataframe tbody tr th:only-of-type {\n",
       "        vertical-align: middle;\n",
       "    }\n",
       "\n",
       "    .dataframe tbody tr th {\n",
       "        vertical-align: top;\n",
       "    }\n",
       "\n",
       "    .dataframe thead th {\n",
       "        text-align: right;\n",
       "    }\n",
       "</style>\n",
       "<table border=\"1\" class=\"dataframe\">\n",
       "  <thead>\n",
       "    <tr style=\"text-align: right;\">\n",
       "      <th></th>\n",
       "      <th>Index</th>\n",
       "      <th>OscarNominated</th>\n",
       "    </tr>\n",
       "  </thead>\n",
       "  <tbody>\n",
       "    <tr>\n",
       "      <th>0</th>\n",
       "      <td>4208</td>\n",
       "      <td>False</td>\n",
       "    </tr>\n",
       "    <tr>\n",
       "      <th>1</th>\n",
       "      <td>4406</td>\n",
       "      <td>False</td>\n",
       "    </tr>\n",
       "    <tr>\n",
       "      <th>2</th>\n",
       "      <td>4422</td>\n",
       "      <td>False</td>\n",
       "    </tr>\n",
       "    <tr>\n",
       "      <th>3</th>\n",
       "      <td>4426</td>\n",
       "      <td>False</td>\n",
       "    </tr>\n",
       "    <tr>\n",
       "      <th>4</th>\n",
       "      <td>4490</td>\n",
       "      <td>False</td>\n",
       "    </tr>\n",
       "    <tr>\n",
       "      <th>...</th>\n",
       "      <td>...</td>\n",
       "      <td>...</td>\n",
       "    </tr>\n",
       "    <tr>\n",
       "      <th>5242</th>\n",
       "      <td>42265</td>\n",
       "      <td>False</td>\n",
       "    </tr>\n",
       "    <tr>\n",
       "      <th>5243</th>\n",
       "      <td>42271</td>\n",
       "      <td>False</td>\n",
       "    </tr>\n",
       "    <tr>\n",
       "      <th>5244</th>\n",
       "      <td>42274</td>\n",
       "      <td>False</td>\n",
       "    </tr>\n",
       "    <tr>\n",
       "      <th>5245</th>\n",
       "      <td>42276</td>\n",
       "      <td>False</td>\n",
       "    </tr>\n",
       "    <tr>\n",
       "      <th>5246</th>\n",
       "      <td>44490</td>\n",
       "      <td>False</td>\n",
       "    </tr>\n",
       "  </tbody>\n",
       "</table>\n",
       "<p>5247 rows × 2 columns</p>\n",
       "</div>"
      ],
      "text/plain": [
       "      Index  OscarNominated\n",
       "0      4208           False\n",
       "1      4406           False\n",
       "2      4422           False\n",
       "3      4426           False\n",
       "4      4490           False\n",
       "...     ...             ...\n",
       "5242  42265           False\n",
       "5243  42271           False\n",
       "5244  42274           False\n",
       "5245  42276           False\n",
       "5246  44490           False\n",
       "\n",
       "[5247 rows x 2 columns]"
      ]
     },
     "execution_count": 91,
     "metadata": {},
     "output_type": "execute_result"
    }
   ],
   "source": [
    "ensemble_df = df.loc[:, ['Index', 'OscarNominated']]\n",
    "ensemble_df"
   ]
  },
  {
   "cell_type": "code",
   "execution_count": 92,
   "id": "9817ed33-d4db-4942-92d9-8f58f8527e69",
   "metadata": {},
   "outputs": [
    {
     "name": "stdout",
     "output_type": "stream",
     "text": [
      "0.9592147894034686\n"
     ]
    }
   ],
   "source": [
    "y_true = test['Nominated'].to_numpy()\n",
    "y_pred = ensemble_df['OscarNominated'].to_numpy()\n",
    "print(accuracy_score(y_true, y_pred))"
   ]
  }
 ],
 "metadata": {
  "kernelspec": {
   "display_name": "IPython - ligo",
   "language": "python",
   "name": "ligo"
  },
  "language_info": {
   "codemirror_mode": {
    "name": "ipython",
    "version": 3
   },
   "file_extension": ".py",
   "mimetype": "text/x-python",
   "name": "python",
   "nbconvert_exporter": "python",
   "pygments_lexer": "ipython3",
   "version": "3.9.0"
  }
 },
 "nbformat": 4,
 "nbformat_minor": 5
}
